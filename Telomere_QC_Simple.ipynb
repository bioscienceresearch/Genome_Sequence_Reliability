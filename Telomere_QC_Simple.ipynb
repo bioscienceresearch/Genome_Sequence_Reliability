{
 "cells": [
  {
   "cell_type": "code",
   "execution_count": 1,
   "id": "manufactured-catering",
   "metadata": {},
   "outputs": [],
   "source": [
    "import os\n",
    "import collections\n",
    "import re\n",
    "import math\n",
    "import pathlib\n",
    "import json\n",
    "import functools\n",
    "import operator\n",
    "import time\n",
    "from multiprocessing import Process\n",
    "from io import StringIO\n",
    "from Bio.Blast.Applications import NcbiblastnCommandline \n",
    "from Bio.Blast import NCBIXML\n",
    "from Bio.Seq import Seq\n",
    "from Bio.SeqRecord import SeqRecord\n",
    "from Bio import SeqIO\n",
    "from Bio import pairwise2  \n",
    "from Bio.pairwise2 import format_alignment \n",
    "import pandas as pd\n",
    "import numpy as np\n",
    "import matplotlib as mpl\n",
    "import matplotlib.pyplot as plt\n",
    "from matplotlib.colors import ListedColormap"
   ]
  },
  {
   "cell_type": "code",
   "execution_count": 2,
   "id": "particular-concrete",
   "metadata": {},
   "outputs": [],
   "source": [
    "import warnings\n",
    "warnings.filterwarnings('ignore')"
   ]
  },
  {
   "cell_type": "code",
   "execution_count": 3,
   "id": "cellular-doctor",
   "metadata": {},
   "outputs": [],
   "source": [
    "FASTA_PATH='../../fasta/'\n",
    "CONSENSUS_BLASTED_PATH='../../fasta/asm_out/RaTG13/'\n",
    "TARGET_FILE='MN996532_2_RaTG13_complete_genome.fa'\n",
    "FASTQ_PATH= '../data/'\n",
    "FASTQ_FILE= 'Sars_SL3_R1_171127.fastq'\n",
    "CONSENSUS_BLASTED_FILES=['RaTG13_SL3_R1_coronaspades_default.fa', 'RaTG13_SL3_R1_megahit_default.fa','RaTG13_SL3_R1_megahit_k79.fa','RaTG13_SL3_R1_megahit_kstep10_nm.fa','RaTG13_SRR11806578_SRR11806578_amplicons.fa']"
   ]
  },
  {
   "cell_type": "code",
   "execution_count": 4,
   "id": "registered-meaning",
   "metadata": {},
   "outputs": [],
   "source": [
    "OUT_PATH=CONSENSUS_BLASTED_PATH+'telomere_qc/'\n",
    "pathlib.Path(OUT_PATH).mkdir(exist_ok=True)"
   ]
  },
  {
   "cell_type": "code",
   "execution_count": 5,
   "id": "excellent-sydney",
   "metadata": {},
   "outputs": [],
   "source": [
    "query_file = os.path.join(FASTA_PATH, TARGET_FILE)\n",
    "subject_files  = [os.path.join(CONSENSUS_BLASTED_PATH, x) for x in CONSENSUS_BLASTED_FILES]"
   ]
  },
  {
   "cell_type": "code",
   "execution_count": 6,
   "id": "diagnostic-pittsburgh",
   "metadata": {},
   "outputs": [
    {
     "data": {
      "text/plain": [
       "SeqRecord(seq=Seq('ATTAAAGGTTTATACCTTTCCAGGTAACAAACCAACGAACTCTCGATCTCTTGT...AAA'), id='MN996532.2', name='MN996532.2', description='MN996532.2 Bat coronavirus RaTG13, complete genome', dbxrefs=[])"
      ]
     },
     "execution_count": 6,
     "metadata": {},
     "output_type": "execute_result"
    }
   ],
   "source": [
    "fasta_target = SeqIO.read(query_file, format=\"fasta\")\n",
    "fasta_target"
   ]
  },
  {
   "cell_type": "markdown",
   "id": "related-mills",
   "metadata": {},
   "source": [
    "## fastq reads"
   ]
  },
  {
   "cell_type": "code",
   "execution_count": 7,
   "id": "hydraulic-soccer",
   "metadata": {},
   "outputs": [
    {
     "name": "stdout",
     "output_type": "stream",
     "text": [
      "Sars_SL3_R1_171127.fastq read took 224.78107523918152 seconds\n"
     ]
    }
   ],
   "source": [
    "readlist=[]\n",
    "f=FASTQ_PATH+FASTQ_FILE\n",
    "start_time=time.time()\n",
    "for record in SeqIO.parse(f, \"fastq\"):\n",
    "    readlist.append(record.seq)\n",
    "end_time=time.time()\n",
    "print(f'{FASTQ_FILE} read took {end_time-start_time} seconds')"
   ]
  },
  {
   "cell_type": "code",
   "execution_count": 8,
   "id": "olympic-client",
   "metadata": {},
   "outputs": [
    {
     "data": {
      "text/plain": [
       "11604666"
      ]
     },
     "execution_count": 8,
     "metadata": {},
     "output_type": "execute_result"
    }
   ],
   "source": [
    "len(readlist)"
   ]
  },
  {
   "cell_type": "code",
   "execution_count": 9,
   "id": "metric-turkish",
   "metadata": {},
   "outputs": [],
   "source": [
    "lengths=[]\n",
    "for s in readlist:\n",
    "    lengths.append(len(str(s)))"
   ]
  },
  {
   "cell_type": "markdown",
   "id": "empty-compression",
   "metadata": {},
   "source": [
    "Min and max read lengths"
   ]
  },
  {
   "cell_type": "code",
   "execution_count": 10,
   "id": "bibliographic-whole",
   "metadata": {},
   "outputs": [
    {
     "data": {
      "text/plain": [
       "(35, 151)"
      ]
     },
     "execution_count": 10,
     "metadata": {},
     "output_type": "execute_result"
    }
   ],
   "source": [
    "min(lengths), max(lengths)"
   ]
  },
  {
   "cell_type": "markdown",
   "id": "instrumental-simple",
   "metadata": {},
   "source": [
    "### Telomere like repeats\n",
    "\n",
    "known telomentic repleat in Homo sapiens\n",
    "\n",
    "- 'TTAGGG'\n",
    "\n",
    "4 patterns in DNA:\n",
    "\n",
    "- TTAGGG #G-quadruplex, direct\n",
    "- GGGATT #reverse\n",
    "- AATCCC #complement\n",
    "- CCCTAA #antisense; reverse complement"
   ]
  },
  {
   "cell_type": "code",
   "execution_count": 11,
   "id": "hungry-presentation",
   "metadata": {},
   "outputs": [],
   "source": [
    "TELOMERE_G='TTAGGG' \n",
    "TELOMERE_R='GGGATT' \n",
    "TELOMERE_C='AATCCC' \n",
    "TELOMERE_RC='CCCTAA' "
   ]
  },
  {
   "cell_type": "markdown",
   "id": "outside-president",
   "metadata": {},
   "source": [
    "Singla et al. (2020) identify the following motif \n",
    "\n",
    "- [GGGTTGG(R)AACAGGATA(GGGTTA)n]m\n",
    "\n",
    "and it's reverse compliment to comprise 60% of RaTG13 SRA\n",
    "\n",
    "- [(TAACCC)nTATCCTGTT(Y)CCAACCC]m\n",
    "\n",
    "Here we add the short telomere like sequence to the 4 patterns above."
   ]
  },
  {
   "cell_type": "code",
   "execution_count": 12,
   "id": "alleged-poker",
   "metadata": {},
   "outputs": [],
   "source": [
    "TELOMERE_L_S1='GGGTTGG'\n",
    "TELOMERE_L_S2='AACAGGATA' \n",
    "TELOMERE_L_S1RC='TAACCC'\n",
    "TELOMERE_L_S2RC='TATCCTGTT' \n",
    "TELOMERE_L_S3RC='CCAACCC'"
   ]
  },
  {
   "cell_type": "code",
   "execution_count": 13,
   "id": "played-humidity",
   "metadata": {},
   "outputs": [],
   "source": [
    "TELOMERE_SIMPLE=[TELOMERE_G, TELOMERE_R, TELOMERE_C, TELOMERE_RC, TELOMERE_L_S1, TELOMERE_L_S2, TELOMERE_L_S1RC, TELOMERE_L_S2RC, TELOMERE_L_S3RC]"
   ]
  },
  {
   "cell_type": "code",
   "execution_count": 14,
   "id": "dense-working",
   "metadata": {},
   "outputs": [],
   "source": [
    "def get_simple_tel_counts(readlist, outfile):\n",
    "    lut={}\n",
    "    for r in readlist:\n",
    "        rs=str(r)\n",
    "        for motiff in TELOMERE_SIMPLE:\n",
    "            mc=rs.count(motiff)\n",
    "            if motiff in lut:\n",
    "                lut[motiff]+=mc\n",
    "            else:\n",
    "                lut.update({motiff:mc}) \n",
    "    if outfile:\n",
    "        write_json(outfile, lut)"
   ]
  },
  {
   "cell_type": "code",
   "execution_count": 15,
   "id": "filled-product",
   "metadata": {},
   "outputs": [],
   "source": [
    "def write_json(fname, data):\n",
    "    with open(fname, 'w') as fout:\n",
    "        json.dump(data, fout)"
   ]
  },
  {
   "cell_type": "markdown",
   "id": "obvious-russia",
   "metadata": {},
   "source": [
    "### get Telomere counts"
   ]
  },
  {
   "cell_type": "code",
   "execution_count": 16,
   "id": "fitting-engineering",
   "metadata": {},
   "outputs": [
    {
     "name": "stdout",
     "output_type": "stream",
     "text": [
      "split took 1075.8210096359253 seconds\n"
     ]
    }
   ],
   "source": [
    "t_count=0\n",
    "jobs = []\n",
    "threads=10\n",
    "\n",
    "start_time=time.time()\n",
    "splits = np.array_split(readlist, threads)\n",
    "print(f'split took {time.time()-start_time} seconds')"
   ]
  },
  {
   "cell_type": "code",
   "execution_count": 17,
   "id": "electoral-bandwidth",
   "metadata": {},
   "outputs": [
    {
     "name": "stdout",
     "output_type": "stream",
     "text": [
      "Starting 10 mutithreading processes\n",
      "process 1 started total: 1\n",
      "process 2 started total: 2\n",
      "process 3 started total: 3\n",
      "process 4 started total: 4\n",
      "process 5 started total: 5\n",
      "process 6 started total: 6\n",
      "process 7 started total: 7\n",
      "process 8 started total: 8\n",
      "process 9 started total: 9\n",
      "process 10 started total: 10\n"
     ]
    }
   ],
   "source": [
    "outfile_base=f'{OUT_PATH+FASTQ_FILE.split(\".\")[0]+\"_simple_telomere_counts\"}'\n",
    "print(f'Starting {threads} mutithreading processes')\n",
    "for nl in splits:\n",
    "    outfile=outfile_base+'_'+str(t_count)+'.json'\n",
    "    p = Process(target=get_simple_tel_counts, args=[nl, outfile])\n",
    "    jobs.append(p)\n",
    "    p.start()\n",
    "    t_count+=1\n",
    "    print(f'process {t_count} started total: {len(jobs)}', flush=True)\n",
    "\n",
    "for p in jobs:\n",
    "    p.join()"
   ]
  },
  {
   "cell_type": "code",
   "execution_count": 18,
   "id": "coated-trade",
   "metadata": {},
   "outputs": [],
   "source": [
    "datas=[]\n",
    "outfile_base=f'{OUT_PATH+FASTQ_FILE.split(\".\")[0]+\"_simple_telomere_counts\"}'\n",
    "for i in range(threads):\n",
    "    f = open (f'{outfile_base}_{i}.json', \"r\") \n",
    "    data=json.loads(f.read()) \n",
    "    datas.append(data)"
   ]
  },
  {
   "cell_type": "code",
   "execution_count": 19,
   "id": "rolled-zimbabwe",
   "metadata": {},
   "outputs": [],
   "source": [
    "#stack all the dicts into one\n",
    "lut = {}\n",
    "for dictionary in datas:\n",
    "    for k, v in dictionary.items():\n",
    "        if k in lut:\n",
    "            lut[k] = lut[k]+v\n",
    "        else:\n",
    "            lut[k] = v"
   ]
  },
  {
   "cell_type": "code",
   "execution_count": 20,
   "id": "positive-ambassador",
   "metadata": {},
   "outputs": [
    {
     "data": {
      "text/plain": [
       "dict_values([38272175, 166747, 228056, 43030628, 6770209, 6209598, 43776199, 6235694, 9373408])"
      ]
     },
     "execution_count": 20,
     "metadata": {},
     "output_type": "execute_result"
    }
   ],
   "source": [
    "lut.values()"
   ]
  },
  {
   "cell_type": "code",
   "execution_count": 21,
   "id": "enhanced-picture",
   "metadata": {},
   "outputs": [
    {
     "data": {
      "text/plain": [
       "[<matplotlib.lines.Line2D at 0x7fb74e02ad68>]"
      ]
     },
     "execution_count": 21,
     "metadata": {},
     "output_type": "execute_result"
    },
    {
     "data": {
      "image/png": "[encoded data removed]",
      "text/plain": [
       "<Figure size 432x288 with 1 Axes>"
      ]
     },
     "metadata": {
      "needs_background": "light"
     },
     "output_type": "display_data"
    }
   ],
   "source": [
    "plt.plot(lut.values())"
   ]
  },
  {
   "cell_type": "code",
   "execution_count": 28,
   "id": "vanilla-herald",
   "metadata": {},
   "outputs": [
    {
     "data": {
      "text/plain": [
       "dict_keys(['TTAGGG', 'GGGATT', 'AATCCC', 'CCCTAA', 'GGGTTGG', 'AACAGGATA', 'TAACCC', 'TATCCTGTT', 'CCAACCC'])"
      ]
     },
     "execution_count": 28,
     "metadata": {},
     "output_type": "execute_result"
    }
   ],
   "source": [
    "lut.keys()"
   ]
  },
  {
   "cell_type": "markdown",
   "id": "permanent-metallic",
   "metadata": {},
   "source": [
    "Totals of each motiff"
   ]
  },
  {
   "cell_type": "code",
   "execution_count": 22,
   "id": "impressed-temperature",
   "metadata": {},
   "outputs": [],
   "source": [
    "tlut={}\n",
    "for k,v in lut.items():\n",
    "    kl=len(k)\n",
    "    tlut[k]=kl*v"
   ]
  },
  {
   "cell_type": "code",
   "execution_count": 23,
   "id": "arbitrary-laser",
   "metadata": {},
   "outputs": [
    {
     "data": {
      "text/plain": [
       "dict_values([229633050, 1000482, 1368336, 258183768, 47391463, 55886382, 262657194, 56121246, 65613856])"
      ]
     },
     "execution_count": 23,
     "metadata": {},
     "output_type": "execute_result"
    }
   ],
   "source": [
    "tlut.values()"
   ]
  },
  {
   "cell_type": "code",
   "execution_count": 24,
   "id": "intelligent-winning",
   "metadata": {},
   "outputs": [],
   "source": [
    "key_lengths=[]\n",
    "for k in lut.keys():\n",
    "    key_lengths.append(len(k))"
   ]
  },
  {
   "cell_type": "code",
   "execution_count": 25,
   "id": "hindu-adrian",
   "metadata": {},
   "outputs": [
    {
     "data": {
      "text/plain": [
       "<matplotlib.collections.PathCollection at 0x7fb74df25358>"
      ]
     },
     "execution_count": 25,
     "metadata": {},
     "output_type": "execute_result"
    },
    {
     "data": {
      "image/png": "[encoded data removed]",
      "text/plain": [
       "<Figure size 432x288 with 1 Axes>"
      ]
     },
     "metadata": {
      "needs_background": "light"
     },
     "output_type": "display_data"
    }
   ],
   "source": [
    "plt.scatter(key_lengths, lut.values())"
   ]
  },
  {
   "cell_type": "code",
   "execution_count": 26,
   "id": "athletic-sacrifice",
   "metadata": {},
   "outputs": [],
   "source": [
    "### Percentage Telomere-like sequences in SRA file"
   ]
  },
  {
   "cell_type": "code",
   "execution_count": 27,
   "id": "listed-leone",
   "metadata": {},
   "outputs": [
    {
     "name": "stdout",
     "output_type": "stream",
     "text": [
      "59.32620716372682\n"
     ]
    }
   ],
   "source": [
    "total_chars=sum(tlut.values())\n",
    "print((total_chars/sum(lengths))*100)"
   ]
  },
  {
   "cell_type": "code",
   "execution_count": null,
   "id": "after-sperm",
   "metadata": {},
   "outputs": [],
   "source": []
  },
  {
   "cell_type": "code",
   "execution_count": null,
   "id": "higher-glance",
   "metadata": {},
   "outputs": [],
   "source": []
  }
 ],
 "metadata": {
  "kernelspec": {
   "display_name": "Python 3",
   "language": "python",
   "name": "python3"
  },
  "language_info": {
   "codemirror_mode": {
    "name": "ipython",
    "version": 3
   },
   "file_extension": ".py",
   "mimetype": "text/x-python",
   "name": "python",
   "nbconvert_exporter": "python",
   "pygments_lexer": "ipython3",
   "version": "3.6.12"
  }
 },
 "nbformat": 4,
 "nbformat_minor": 5
}
