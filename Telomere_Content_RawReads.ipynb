{
 "cells": [
  {
   "cell_type": "markdown",
   "id": "informal-clerk",
   "metadata": {},
   "source": [
    "# Telemore-like content analysis of SRR11085797\n",
    "\n",
    "\"Analysis of RNA-Seq of Rhinolophus affinis:Fecal swab(SRR11085797)\"\n",
    "\n",
    "Experiment: SRX7724752\n",
    "Run: SRR11085797\n",
    "\n",
    "TelomereHunter was the most relevant package of those trialed including: Telomerecat, TelSeq, Computel as well a bespoke python implementation of Telomere exact pattern match"
   ]
  },
  {
   "cell_type": "code",
   "execution_count": 147,
   "id": "tribal-hepatitis",
   "metadata": {},
   "outputs": [],
   "source": [
    "\n",
    "import time\n",
    "import numpy as np\n",
    "from Bio import SeqIO\n",
    "import pandas as pd\n",
    "import matplotlib\n",
    "from matplotlib import pyplot as plt\n",
    "import pysam"
   ]
  },
  {
   "cell_type": "code",
   "execution_count": 8,
   "id": "computational-police",
   "metadata": {},
   "outputs": [],
   "source": [
    "DATA_PATH='/mnt/1TB_0/Data/RaTG13/analysis/'"
   ]
  },
  {
   "cell_type": "markdown",
   "id": "informed-ballet",
   "metadata": {},
   "source": [
    "## Telomerecat\n",
    "\n",
    "\n",
    "[Telomerecat](https://telomerecat.readthedocs.io/en/latest/index.html)\n",
    "\n",
    "Farmery, H.R., Smith, M.L., , Lynch, A.G. Telomerecat: A ploidy-agnostic method for estimating telomere length from whole genome sequencing data. bioRxiv Preprint. doi: https://doi.org/10.1101/139972 \n",
    "\n",
    "Install telomerecat into conda python 3.6 environment\n",
    "\n",
    "eg\n",
    "\n",
    "```\n",
    "conda create -n telomere python=3.6\n",
    "conda activate telomere\n",
    "pip install telomerecat\n",
    "```\n",
    "\n",
    "\n",
    "Generate telbam file using on previously formatted (aligned and indexed) bam file:\n",
    "\n",
    "```\n",
    "telomerecat bam2telbam Sars_SL3_171127_gatk_sorted_marked.bam -p 20 -v 1 --outbam_dir ../analysis/telomerecat\n",
    "```\n",
    "\n",
    "Calculate telomere lengths\n",
    "\n",
    "```\n",
    "telomerecat telbam2length ../../bwa/Sars_SL3_171127_gatk_sorted_marked.bam\n",
    "```\n",
    "\n",
    "\"Too strict a definition of telomere as being the region of TTAGGG repeats would be hostage to genuine variations, sequencing errors, and somatic mutations\"\n",
    "\n",
    "-F1 read-pairs are comprised of two complete telomere reads. \n",
    "-F2a read-pairs are comprised of a read-pair where one read is complete telomere and the other is not. Crucially, the complete telomere read is comprised of CCCTAA\n",
    "-An F4 read is read-pair where one read is complete telomere and the other is not. The complete end is comprised of TTAGGG (F2b is same but AATCCC\n",
    "\n",
    "Telomere content was calculated by normalizing the number of extracted fully telomeric reads (“F1 reads”) to the total number of reads.\n"
   ]
  },
  {
   "cell_type": "code",
   "execution_count": 56,
   "id": "formed-blake",
   "metadata": {},
   "outputs": [
    {
     "data": {
      "text/html": [
       "<div>\n",
       "<style scoped>\n",
       "    .dataframe tbody tr th:only-of-type {\n",
       "        vertical-align: middle;\n",
       "    }\n",
       "\n",
       "    .dataframe tbody tr th {\n",
       "        vertical-align: top;\n",
       "    }\n",
       "\n",
       "    .dataframe thead th {\n",
       "        text-align: right;\n",
       "    }\n",
       "</style>\n",
       "<table border=\"1\" class=\"dataframe\">\n",
       "  <thead>\n",
       "    <tr style=\"text-align: right;\">\n",
       "      <th></th>\n",
       "      <th>Sample</th>\n",
       "      <th>F1</th>\n",
       "      <th>F2</th>\n",
       "      <th>F4</th>\n",
       "      <th>Psi</th>\n",
       "      <th>Insert_mean</th>\n",
       "      <th>Insert_sd</th>\n",
       "      <th>Read_length</th>\n",
       "      <th>Initial_read_length</th>\n",
       "      <th>F2a</th>\n",
       "      <th>F2a_c</th>\n",
       "      <th>Length</th>\n",
       "    </tr>\n",
       "  </thead>\n",
       "  <tbody>\n",
       "    <tr>\n",
       "      <th>0</th>\n",
       "      <td>Sars_SL3_171127_gatk_sorted_marked.bam</td>\n",
       "      <td>3214739</td>\n",
       "      <td>1943088</td>\n",
       "      <td>1428867</td>\n",
       "      <td>2.526</td>\n",
       "      <td>274.448</td>\n",
       "      <td>161.223</td>\n",
       "      <td>151</td>\n",
       "      <td>151</td>\n",
       "      <td>514221</td>\n",
       "      <td>514221</td>\n",
       "      <td>1174.5</td>\n",
       "    </tr>\n",
       "  </tbody>\n",
       "</table>\n",
       "</div>"
      ],
      "text/plain": [
       "                                   Sample       F1       F2       F4    Psi  \\\n",
       "0  Sars_SL3_171127_gatk_sorted_marked.bam  3214739  1943088  1428867  2.526   \n",
       "\n",
       "   Insert_mean  Insert_sd  Read_length  Initial_read_length     F2a   F2a_c  \\\n",
       "0      274.448    161.223          151                  151  514221  514221   \n",
       "\n",
       "   Length  \n",
       "0  1174.5  "
      ]
     },
     "execution_count": 56,
     "metadata": {},
     "output_type": "execute_result"
    }
   ],
   "source": [
    "df_telcat=pd.read_csv(DATA_PATH+'telomerecat/telomerecat_length.csv')\n",
    "df_telcat.head()"
   ]
  },
  {
   "cell_type": "code",
   "execution_count": 57,
   "id": "effective-township",
   "metadata": {},
   "outputs": [
    {
     "data": {
      "text/plain": [
       "Index(['Sample', 'F1', 'F2', 'F4', 'Psi', 'Insert_mean', 'Insert_sd',\n",
       "       'Read_length', 'Initial_read_length', 'F2a', 'F2a_c', 'Length'],\n",
       "      dtype='object')"
      ]
     },
     "execution_count": 57,
     "metadata": {},
     "output_type": "execute_result"
    }
   ],
   "source": [
    "df_telcat.columns"
   ]
  },
  {
   "cell_type": "code",
   "execution_count": 60,
   "id": "instant-geometry",
   "metadata": {},
   "outputs": [
    {
     "name": "stdout",
     "output_type": "stream",
     "text": [
      "ID: ST-J00123:84:hmn7ybbxx:6:1101:10003:14678/2\n",
      "Name: ST-J00123:84:hmn7ybbxx:6:1101:10003:14678/2\n",
      "Description: ST-J00123:84:hmn7ybbxx:6:1101:10003:14678/2\n",
      "Number of features: 0\n",
      "Per letter annotation for: phred_quality\n",
      "Seq('CCTAACCCTAACCCTAACCCTATCCTGTTTTCAACCCTAACCCTAACCCCAACC...AAC')\n"
     ]
    }
   ],
   "source": [
    "telbam_records = list(SeqIO.parse(DATA_PATH+'telomerecat/Sars_SL3_171127_telbam_gatk_bamtools.fastq', \"fastq\"))\n",
    "print(telbam_records[0])"
   ]
  },
  {
   "cell_type": "markdown",
   "id": "common-gross",
   "metadata": {},
   "source": [
    "Calculate telomere content using number of extracted fully telomeric reads (“F1 reads”) to the total number of reads in the sample"
   ]
  },
  {
   "cell_type": "code",
   "execution_count": 68,
   "id": "equipped-lithuania",
   "metadata": {},
   "outputs": [],
   "source": [
    "telcat_telcontent=df_telcat.iloc[0]['F1']/TOTAL_READS"
   ]
  },
  {
   "cell_type": "code",
   "execution_count": 69,
   "id": "specialized-transportation",
   "metadata": {},
   "outputs": [
    {
     "name": "stdout",
     "output_type": "stream",
     "text": [
      "Telomerecat telomere content: 13.851062150345387%\n"
     ]
    }
   ],
   "source": [
    "print(f'Telomerecat telomere content: {telcat_telcontent*100}%')"
   ]
  },
  {
   "cell_type": "code",
   "execution_count": null,
   "id": "express-protein",
   "metadata": {},
   "outputs": [],
   "source": []
  },
  {
   "cell_type": "markdown",
   "id": "level-frequency",
   "metadata": {},
   "source": [
    "## TelomereHunter\n",
    "\n",
    "Feuerbach, L., Sieverling, L., Deeg, K.I. et al. TelomereHunter – in silico estimation of telomere content and composition from cancer genomes. BMC Bioinformatics 20, 272 (2019). https://doi.org/10.1186/s12859-019-2851-0\n",
    "\n",
    "-Reports telomere content rather than telomere length\n",
    "-Classifies reads based on their mapping location within the parent BAM file and outputs statistics relating to variations of the canonic telomere hexamer\n",
    "\n",
    "\n",
    "[TelomereHunter](https://www.dkfz.de/en/applied-bioinformatics/telomerehunter/telomerehunter.html)\n",
    "\n",
    "\n",
    "Install telomerehunter into conda python 2.7 environment\n",
    "\n",
    "telomerehunter version 1.1.0 was used for this analysis\n",
    "\n",
    "eg\n",
    "\n",
    "```\n",
    "conda create -n bioinfo_py27 python=2.7\n",
    "conda activate bioinfo_py27\n",
    "pip install telomerehunter\n",
    "```\n",
    "\n"
   ]
  },
  {
   "cell_type": "markdown",
   "id": "distinguished-forty",
   "metadata": {},
   "source": [
    "### Pre processing\n",
    "\n",
    "-Align reads using BWA\n",
    "\n",
    "```\n",
    "~/apps/bwa-0.7.17/bwa index /mnt/1TB_0/Data/fasta/MN996532_2_RaTG13_complete_genome.fa\n",
    "\n",
    "~/apps/bwa-0.7.17/bwa mem /mnt/1TB_0/Data/fasta/MN996532_2_RaTG13_complete_genome.fa Sars_SL3_R1_171127.fastq Sars_SL3_R2_171127.fastq >../bwa/Sars_SL3_R2_171127_bwa_mem.sa\n",
    "```\n",
    "\n",
    "-Sorting and Duplicate marking usink GATK\n",
    "\n",
    "```\n",
    "java -jar ~/apps/gatk-4.1.9.0/gatk-package-4.1.9.0-local.jar  SortSam INPUT=Sars_SL3_171127_aln-pe.sam OUTPUT=Sars_SL3_171127_gatk_sorted.sam SORT_ORDER=coordinate VALIDATION_STRINGENCY=SILENT\n",
    "```\n",
    "\n",
    "-Mark duplicates, note we limit to 64GB ram\n",
    "\n",
    "```\n",
    "java -Xmx64G -jar ~/apps/gatk-4.1.9.0/gatk-package-4.1.9.0-local.jar  MarkDuplicates INPUT=Sars_SL3_171127_gatk_sorted.sam OUTPUT=Sars_SL3_171127_gatk_sorted_marked.bam METRICS_FILE=Sars_SL3_171127_gatk_markduplicates_metrics.txt ASSUME_SORTED=true VALIDATION_STRINGENCY=SILENT\n",
    "```"
   ]
  },
  {
   "cell_type": "markdown",
   "id": "diagnostic-scanner",
   "metadata": {},
   "source": [
    "### Run TelomereHunter\n",
    "\n",
    "#### n = 6\n",
    "\n",
    "-Using default repeat threshold of n=6 reads per 100 bp where \"n is calculated for each read depending on the read length with the following formula: n = floor(read length · 0.06). The criterion of searching for six non-consecutive repeats in 100 bp long reads has been proposed previously (Lee, et al., 2014) and was also found suitable for the data presented in the present study.\n",
    "\n",
    "```\n",
    "telomerehunter -ibt Sars_SL3_171127_gatk_sorted_marked.bam -o ../analysis/telomerehunter -p Sars_SL3_171127_output\n",
    "```"
   ]
  },
  {
   "cell_type": "code",
   "execution_count": 131,
   "id": "rubber-glory",
   "metadata": {},
   "outputs": [
    {
     "data": {
      "text/html": [
       "<div>\n",
       "<style scoped>\n",
       "    .dataframe tbody tr th:only-of-type {\n",
       "        vertical-align: middle;\n",
       "    }\n",
       "\n",
       "    .dataframe tbody tr th {\n",
       "        vertical-align: top;\n",
       "    }\n",
       "\n",
       "    .dataframe thead th {\n",
       "        text-align: right;\n",
       "    }\n",
       "</style>\n",
       "<table border=\"1\" class=\"dataframe\">\n",
       "  <thead>\n",
       "    <tr style=\"text-align: right;\">\n",
       "      <th></th>\n",
       "      <th>PID</th>\n",
       "      <th>sample</th>\n",
       "      <th>total_reads</th>\n",
       "      <th>read_length</th>\n",
       "      <th>repeat_threshold_set</th>\n",
       "      <th>repeat_threshold_used</th>\n",
       "      <th>tel_reads</th>\n",
       "      <th>intratel_reads</th>\n",
       "      <th>gc_bins_for_correction</th>\n",
       "      <th>total_reads_with_tel_gc</th>\n",
       "      <th>...</th>\n",
       "      <th>TCAGGG_singletons_norm_by_all_reads</th>\n",
       "      <th>TGAGGG_singletons_norm_by_all_reads</th>\n",
       "      <th>TTGGGG_singletons_norm_by_all_reads</th>\n",
       "      <th>TTCGGG_singletons_norm_by_all_reads</th>\n",
       "      <th>TTTGGG_singletons_norm_by_all_reads</th>\n",
       "      <th>ATAGGG_singletons_norm_by_all_reads</th>\n",
       "      <th>CATGGG_singletons_norm_by_all_reads</th>\n",
       "      <th>CTAGGG_singletons_norm_by_all_reads</th>\n",
       "      <th>GTAGGG_singletons_norm_by_all_reads</th>\n",
       "      <th>TAAGGG_singletons_norm_by_all_reads</th>\n",
       "    </tr>\n",
       "  </thead>\n",
       "  <tbody>\n",
       "    <tr>\n",
       "      <th>0</th>\n",
       "      <td>Sars_SL3_171127_default</td>\n",
       "      <td>tumor</td>\n",
       "      <td>23209332</td>\n",
       "      <td>46,69,79,81,93,101,103,106,112,113,115,116,119...</td>\n",
       "      <td>6 per 100 bp</td>\n",
       "      <td>3,4,5,6,7,8,9</td>\n",
       "      <td>12710959</td>\n",
       "      <td>12710959</td>\n",
       "      <td>48-52</td>\n",
       "      <td>8104506</td>\n",
       "      <td>...</td>\n",
       "      <td>0.000148</td>\n",
       "      <td>0.000164</td>\n",
       "      <td>0.000132</td>\n",
       "      <td>0.000156</td>\n",
       "      <td>0.000428</td>\n",
       "      <td>0.000433</td>\n",
       "      <td>0</td>\n",
       "      <td>0.000118</td>\n",
       "      <td>0.000103</td>\n",
       "      <td>0.000315</td>\n",
       "    </tr>\n",
       "  </tbody>\n",
       "</table>\n",
       "<p>1 rows × 31 columns</p>\n",
       "</div>"
      ],
      "text/plain": [
       "                       PID sample  total_reads  \\\n",
       "0  Sars_SL3_171127_default  tumor     23209332   \n",
       "\n",
       "                                         read_length repeat_threshold_set  \\\n",
       "0  46,69,79,81,93,101,103,106,112,113,115,116,119...         6 per 100 bp   \n",
       "\n",
       "  repeat_threshold_used  tel_reads  intratel_reads gc_bins_for_correction  \\\n",
       "0         3,4,5,6,7,8,9   12710959        12710959                  48-52   \n",
       "\n",
       "   total_reads_with_tel_gc  ...  TCAGGG_singletons_norm_by_all_reads  \\\n",
       "0                  8104506  ...                             0.000148   \n",
       "\n",
       "   TGAGGG_singletons_norm_by_all_reads  TTGGGG_singletons_norm_by_all_reads  \\\n",
       "0                             0.000164                             0.000132   \n",
       "\n",
       "   TTCGGG_singletons_norm_by_all_reads  TTTGGG_singletons_norm_by_all_reads  \\\n",
       "0                             0.000156                             0.000428   \n",
       "\n",
       "   ATAGGG_singletons_norm_by_all_reads  CATGGG_singletons_norm_by_all_reads  \\\n",
       "0                             0.000433                                    0   \n",
       "\n",
       "   CTAGGG_singletons_norm_by_all_reads  GTAGGG_singletons_norm_by_all_reads  \\\n",
       "0                             0.000118                             0.000103   \n",
       "\n",
       "   TAAGGG_singletons_norm_by_all_reads  \n",
       "0                             0.000315  \n",
       "\n",
       "[1 rows x 31 columns]"
      ]
     },
     "execution_count": 131,
     "metadata": {},
     "output_type": "execute_result"
    }
   ],
   "source": [
    "fpath=DATA_PATH+'telomerehunter/Sars_SL3_171127_default/Sars_SL3_171127_default_summary.tsv'\n",
    "df_telhunt_n6=pd.read_csv(fpath, sep='\\t')\n",
    "df_telhunt_n6.head()"
   ]
  },
  {
   "cell_type": "code",
   "execution_count": null,
   "id": "sticky-lesbian",
   "metadata": {},
   "outputs": [],
   "source": [
    "TOTAL_READS=df_telhunt_n6.iloc[0]['total_reads']"
   ]
  },
  {
   "cell_type": "code",
   "execution_count": 132,
   "id": "coupled-musician",
   "metadata": {},
   "outputs": [
    {
     "data": {
      "text/html": [
       "<div>\n",
       "<style scoped>\n",
       "    .dataframe tbody tr th:only-of-type {\n",
       "        vertical-align: middle;\n",
       "    }\n",
       "\n",
       "    .dataframe tbody tr th {\n",
       "        vertical-align: top;\n",
       "    }\n",
       "\n",
       "    .dataframe thead th {\n",
       "        text-align: right;\n",
       "    }\n",
       "</style>\n",
       "<table border=\"1\" class=\"dataframe\">\n",
       "  <thead>\n",
       "    <tr style=\"text-align: right;\">\n",
       "      <th></th>\n",
       "      <th>PID</th>\n",
       "      <th>sample</th>\n",
       "      <th>total_reads</th>\n",
       "      <th>read_length</th>\n",
       "      <th>repeat_threshold_set</th>\n",
       "      <th>repeat_threshold_used</th>\n",
       "      <th>tel_reads</th>\n",
       "      <th>intratel_reads</th>\n",
       "      <th>gc_bins_for_correction</th>\n",
       "      <th>total_reads_with_tel_gc</th>\n",
       "      <th>tel_content</th>\n",
       "    </tr>\n",
       "  </thead>\n",
       "  <tbody>\n",
       "    <tr>\n",
       "      <th>0</th>\n",
       "      <td>Sars_SL3_171127_default</td>\n",
       "      <td>tumor</td>\n",
       "      <td>23209332</td>\n",
       "      <td>46,69,79,81,93,101,103,106,112,113,115,116,119...</td>\n",
       "      <td>6 per 100 bp</td>\n",
       "      <td>3,4,5,6,7,8,9</td>\n",
       "      <td>12710959</td>\n",
       "      <td>12710959</td>\n",
       "      <td>48-52</td>\n",
       "      <td>8104506</td>\n",
       "      <td>1.568382e+06</td>\n",
       "    </tr>\n",
       "  </tbody>\n",
       "</table>\n",
       "</div>"
      ],
      "text/plain": [
       "                       PID sample  total_reads  \\\n",
       "0  Sars_SL3_171127_default  tumor     23209332   \n",
       "\n",
       "                                         read_length repeat_threshold_set  \\\n",
       "0  46,69,79,81,93,101,103,106,112,113,115,116,119...         6 per 100 bp   \n",
       "\n",
       "  repeat_threshold_used  tel_reads  intratel_reads gc_bins_for_correction  \\\n",
       "0         3,4,5,6,7,8,9   12710959        12710959                  48-52   \n",
       "\n",
       "   total_reads_with_tel_gc   tel_content  \n",
       "0                  8104506  1.568382e+06  "
      ]
     },
     "execution_count": 132,
     "metadata": {},
     "output_type": "execute_result"
    }
   ],
   "source": [
    "fpath=DATA_PATH+'telomerehunter/Sars_SL3_171127_default/tumor_TelomerCnt_Sars_SL3_171127_default/Sars_SL3_171127_default_tumor_summary.tsv'\n",
    "df_telhunt_tsum_n6=pd.read_csv(fpath, sep='\\t')\n",
    "df_telhunt_tsum_n6.head()"
   ]
  },
  {
   "cell_type": "code",
   "execution_count": 156,
   "id": "sexual-auction",
   "metadata": {},
   "outputs": [
    {
     "data": {
      "text/html": [
       "<div>\n",
       "<style scoped>\n",
       "    .dataframe tbody tr th:only-of-type {\n",
       "        vertical-align: middle;\n",
       "    }\n",
       "\n",
       "    .dataframe tbody tr th {\n",
       "        vertical-align: top;\n",
       "    }\n",
       "\n",
       "    .dataframe thead th {\n",
       "        text-align: right;\n",
       "    }\n",
       "</style>\n",
       "<table border=\"1\" class=\"dataframe\">\n",
       "  <thead>\n",
       "    <tr style=\"text-align: right;\">\n",
       "      <th></th>\n",
       "      <th>chr</th>\n",
       "      <th>band</th>\n",
       "      <th>reads_with_pattern</th>\n",
       "      <th>TTAGGG</th>\n",
       "      <th>CCCTAA</th>\n",
       "      <th>TGAGGG</th>\n",
       "      <th>CCCTCA</th>\n",
       "      <th>TCAGGG</th>\n",
       "      <th>CCCTGA</th>\n",
       "      <th>TTGGGG</th>\n",
       "      <th>CCCCAA</th>\n",
       "      <th>other</th>\n",
       "    </tr>\n",
       "  </thead>\n",
       "  <tbody>\n",
       "    <tr>\n",
       "      <th>906</th>\n",
       "      <td>Y</td>\n",
       "      <td>q11.223</td>\n",
       "      <td>0</td>\n",
       "      <td>0</td>\n",
       "      <td>0</td>\n",
       "      <td>0</td>\n",
       "      <td>0</td>\n",
       "      <td>0</td>\n",
       "      <td>0</td>\n",
       "      <td>0</td>\n",
       "      <td>0</td>\n",
       "      <td>0</td>\n",
       "    </tr>\n",
       "    <tr>\n",
       "      <th>907</th>\n",
       "      <td>Y</td>\n",
       "      <td>q11.23</td>\n",
       "      <td>0</td>\n",
       "      <td>0</td>\n",
       "      <td>0</td>\n",
       "      <td>0</td>\n",
       "      <td>0</td>\n",
       "      <td>0</td>\n",
       "      <td>0</td>\n",
       "      <td>0</td>\n",
       "      <td>0</td>\n",
       "      <td>0</td>\n",
       "    </tr>\n",
       "    <tr>\n",
       "      <th>908</th>\n",
       "      <td>Y</td>\n",
       "      <td>q12</td>\n",
       "      <td>0</td>\n",
       "      <td>0</td>\n",
       "      <td>0</td>\n",
       "      <td>0</td>\n",
       "      <td>0</td>\n",
       "      <td>0</td>\n",
       "      <td>0</td>\n",
       "      <td>0</td>\n",
       "      <td>0</td>\n",
       "      <td>0</td>\n",
       "    </tr>\n",
       "    <tr>\n",
       "      <th>909</th>\n",
       "      <td>Y</td>\n",
       "      <td>junction2</td>\n",
       "      <td>0</td>\n",
       "      <td>0</td>\n",
       "      <td>0</td>\n",
       "      <td>0</td>\n",
       "      <td>0</td>\n",
       "      <td>0</td>\n",
       "      <td>0</td>\n",
       "      <td>0</td>\n",
       "      <td>0</td>\n",
       "      <td>0</td>\n",
       "    </tr>\n",
       "    <tr>\n",
       "      <th>910</th>\n",
       "      <td>unmapped</td>\n",
       "      <td>unmapped</td>\n",
       "      <td>12710959</td>\n",
       "      <td>70601025</td>\n",
       "      <td>69879961</td>\n",
       "      <td>2555035</td>\n",
       "      <td>1579053</td>\n",
       "      <td>348852</td>\n",
       "      <td>236874</td>\n",
       "      <td>2418708</td>\n",
       "      <td>8160726</td>\n",
       "      <td>152317702</td>\n",
       "    </tr>\n",
       "  </tbody>\n",
       "</table>\n",
       "</div>"
      ],
      "text/plain": [
       "          chr       band  reads_with_pattern    TTAGGG    CCCTAA   TGAGGG  \\\n",
       "906         Y    q11.223                   0         0         0        0   \n",
       "907         Y     q11.23                   0         0         0        0   \n",
       "908         Y        q12                   0         0         0        0   \n",
       "909         Y  junction2                   0         0         0        0   \n",
       "910  unmapped   unmapped            12710959  70601025  69879961  2555035   \n",
       "\n",
       "      CCCTCA  TCAGGG  CCCTGA   TTGGGG   CCCCAA      other  \n",
       "906        0       0       0        0        0          0  \n",
       "907        0       0       0        0        0          0  \n",
       "908        0       0       0        0        0          0  \n",
       "909        0       0       0        0        0          0  \n",
       "910  1579053  348852  236874  2418708  8160726  152317702  "
      ]
     },
     "execution_count": 156,
     "metadata": {},
     "output_type": "execute_result"
    }
   ],
   "source": [
    "df_telhunt_spec_n6=pd.read_csv(spectrum_file, sep='\\t')"
   ]
  },
  {
   "cell_type": "code",
   "execution_count": 158,
   "id": "copyrighted-production",
   "metadata": {},
   "outputs": [
    {
     "data": {
      "text/plain": [
       "chr                    unmapped\n",
       "band                   unmapped\n",
       "reads_with_pattern     12710959\n",
       "TTAGGG                 70601025\n",
       "CCCTAA                 69879961\n",
       "TGAGGG                  2555035\n",
       "CCCTCA                  1579053\n",
       "TCAGGG                   348852\n",
       "CCCTGA                   236874\n",
       "TTGGGG                  2418708\n",
       "CCCCAA                  8160726\n",
       "other                 152317702\n",
       "Name: 910, dtype: object"
      ]
     },
     "execution_count": 158,
     "metadata": {},
     "output_type": "execute_result"
    }
   ],
   "source": [
    "lr=df_telhunt_spec_n6.iloc[-1]\n",
    "lr"
   ]
  },
  {
   "cell_type": "code",
   "execution_count": 172,
   "id": "ahead-pendant",
   "metadata": {},
   "outputs": [],
   "source": [
    "tel_gc_reads_n6=(df_telhunt6.iloc[0]['total_reads_with_tel_gc']/TOTAL_READS)*100\n",
    "tel_reads_n6=(df_telhunt6.iloc[0]['intratel_reads']/TOTAL_READS)*100"
   ]
  },
  {
   "cell_type": "code",
   "execution_count": 173,
   "id": "cloudy-bailey",
   "metadata": {},
   "outputs": [
    {
     "name": "stdout",
     "output_type": "stream",
     "text": [
      "Telomeric Reads with GC within 48–52% range: 34.91916958230422 \n",
      "Telome content without GC correction: 54.766586991818635\n",
      "TelomereHunter telomere content: 6.757547837193247\n"
     ]
    }
   ],
   "source": [
    "print(f'Telomeric Reads with GC within 48–52% range: {tel_gc_reads_n6} ')\n",
    "print(f'Telome content without GC correction: {tel_reads_n6}')"
   ]
  },
  {
   "cell_type": "code",
   "execution_count": null,
   "id": "rural-survey",
   "metadata": {},
   "outputs": [],
   "source": []
  },
  {
   "cell_type": "markdown",
   "id": "limiting-republican",
   "metadata": {},
   "source": [
    "### TelSeq\n",
    "\n",
    "Zhihao Ding, Massimo Mangino, Abraham Aviv, UK10K Consortium, Tim Spector, Richard Durbin, Estimating telomere length from whole genome sequence data, Nucleic Acids Research, Volume 42, Issue 9, 14 May 2014, Page e75, https://doi.org/10.1093/nar/gku181\n",
    "\n",
    "[Reference](https://academic.oup.com/nar/article/42/9/e75/1249448)\n",
    "\n",
    "Installed docker container as per here\n",
    "\n",
    "[git repo](https://github.com/zd1/telseq/)\n",
    "\n",
    "\n",
    "docker run -v /mnt/1TB_0/Data/RaTG13/bwa/RG/Sars_SL3_171127_gatk_sorted_marked_RG.bam:/Sars_SL3_171127_gatk_sorted_marked_RG.bam telseq-docker /Sars_SL3_171127_gatk_sorted_marked_RG.bam \n",
    "\n",
    "Start analysing BAM /Sars_SL3_171127_gatk_sorted_marked_RG.bam\n",
    "\n",
    "\n",
    "Output file format\n",
    "\n",
    "|Column\t        |Definitions                                                      |\n",
    "|:--------------|-------------------------------------------------------------- -:|\n",
    "|ReadGroup\t    |read group, Defined by the RG tag in BAM header.                 |\n",
    "|Library\t    |sequencing library that the read group belongs to.               |\n",
    "|Sample\t        |defined by the SM tag in BAM header.                             |\n",
    "|Total\t        |total number of reads in this read group.                        |\n",
    "|Mapped\t        |total number of mapped reads, SAM flag 0x4.                      |\n",
    "|Duplicates\t    |total number of duplicate reads, SAM flag 0x400.                 |\n",
    "|LENGH_ESTIMATE\t|estimated telomere length.                                       |\n",
    "|TEL0\t        |read counts for reads containing no TTAGGG/CCCTAA repeats.       |\n",
    "|TEL1\t        |read counts for reads containing only 1 TTAGGG/CCCTAA repeats.   |\n",
    "|TELn\t        |read counts for reads containing only n TTAGGG/CCCTAA repeats.   |\n",
    "|TEL16\t        |read counts for reads containing 16 TTAGGG/CCCTAA repeats.       |\n",
    "|GC0\t        |read counts for reads with GC between 40%-42%.                   |\n",
    "|GC1\t        |read counts for reads with GC between 42%-44%.                   |\n",
    "|GCn\t        |read counts for reads with GC between (40%+n*2%)-(42%+(n+1)*2%). |\n",
    "|GC9\t        |read counts for reads with GC between 58%-60%.                   |\n"
   ]
  },
  {
   "cell_type": "code",
   "execution_count": 71,
   "id": "comic-pittsburgh",
   "metadata": {},
   "outputs": [],
   "source": [
    "df_telseq=pd.read_csv(DATA_PATH+'telseq/telseq.csv')"
   ]
  },
  {
   "cell_type": "code",
   "execution_count": 72,
   "id": "quantitative-insulin",
   "metadata": {},
   "outputs": [
    {
     "data": {
      "text/html": [
       "<div>\n",
       "<style scoped>\n",
       "    .dataframe tbody tr th:only-of-type {\n",
       "        vertical-align: middle;\n",
       "    }\n",
       "\n",
       "    .dataframe tbody tr th {\n",
       "        vertical-align: top;\n",
       "    }\n",
       "\n",
       "    .dataframe thead th {\n",
       "        text-align: right;\n",
       "    }\n",
       "</style>\n",
       "<table border=\"1\" class=\"dataframe\">\n",
       "  <thead>\n",
       "    <tr style=\"text-align: right;\">\n",
       "      <th></th>\n",
       "      <th>ReadGroup</th>\n",
       "      <th>Library</th>\n",
       "      <th>Sample</th>\n",
       "      <th>Total</th>\n",
       "      <th>Mapped</th>\n",
       "      <th>Duplicates</th>\n",
       "      <th>LENGTH_ESTIMATE</th>\n",
       "      <th>TEL0</th>\n",
       "      <th>TEL1</th>\n",
       "      <th>TEL2</th>\n",
       "      <th>...</th>\n",
       "      <th>GC0</th>\n",
       "      <th>GC1</th>\n",
       "      <th>GC2</th>\n",
       "      <th>GC3</th>\n",
       "      <th>GC4</th>\n",
       "      <th>GC5</th>\n",
       "      <th>GC6GC7</th>\n",
       "      <th>GC8</th>\n",
       "      <th>GC9</th>\n",
       "      <th>Unnamed: 33</th>\n",
       "    </tr>\n",
       "  </thead>\n",
       "  <tbody>\n",
       "    <tr>\n",
       "      <th>0</th>\n",
       "      <td>UNKNOWN</td>\n",
       "      <td>UNKNOWN</td>\n",
       "      <td>UNKNOWN</td>\n",
       "      <td>23209335</td>\n",
       "      <td>1951</td>\n",
       "      <td>237</td>\n",
       "      <td>14119.3</td>\n",
       "      <td>8975989</td>\n",
       "      <td>414071</td>\n",
       "      <td>40516</td>\n",
       "      <td>...</td>\n",
       "      <td>540572</td>\n",
       "      <td>625142</td>\n",
       "      <td>996052</td>\n",
       "      <td>2134937</td>\n",
       "      <td>3529977</td>\n",
       "      <td>2891274</td>\n",
       "      <td>2185561</td>\n",
       "      <td>1738696</td>\n",
       "      <td>1281209</td>\n",
       "      <td>799222</td>\n",
       "    </tr>\n",
       "  </tbody>\n",
       "</table>\n",
       "<p>1 rows × 34 columns</p>\n",
       "</div>"
      ],
      "text/plain": [
       "  ReadGroup  Library   Sample     Total  Mapped  Duplicates  LENGTH_ESTIMATE  \\\n",
       "0   UNKNOWN  UNKNOWN  UNKNOWN  23209335    1951         237          14119.3   \n",
       "\n",
       "      TEL0    TEL1   TEL2  ...     GC0     GC1     GC2      GC3      GC4  \\\n",
       "0  8975989  414071  40516  ...  540572  625142  996052  2134937  3529977   \n",
       "\n",
       "       GC5   GC6GC7      GC8      GC9  Unnamed: 33  \n",
       "0  2891274  2185561  1738696  1281209       799222  \n",
       "\n",
       "[1 rows x 34 columns]"
      ]
     },
     "execution_count": 72,
     "metadata": {},
     "output_type": "execute_result"
    }
   ],
   "source": [
    "df_telseq.head()"
   ]
  },
  {
   "cell_type": "code",
   "execution_count": 73,
   "id": "alien-matthew",
   "metadata": {},
   "outputs": [
    {
     "data": {
      "text/plain": [
       "Index(['ReadGroup', 'Library', 'Sample', 'Total', 'Mapped', 'Duplicates',\n",
       "       'LENGTH_ESTIMATE', 'TEL0', 'TEL1', 'TEL2', 'TEL3', 'TEL4', 'TEL5',\n",
       "       'TEL6', 'TEL7', 'TEL8', 'TEL9', 'TEL10', 'TEL11', 'TEL12', 'TEL13',\n",
       "       'TEL14', 'TEL15', 'TEL16', 'GC0', 'GC1', 'GC2', 'GC3', 'GC4', 'GC5',\n",
       "       'GC6GC7', 'GC8', 'GC9', 'Unnamed: 33'],\n",
       "      dtype='object')"
      ]
     },
     "execution_count": 73,
     "metadata": {},
     "output_type": "execute_result"
    }
   ],
   "source": [
    "df_telseq.columns"
   ]
  },
  {
   "cell_type": "code",
   "execution_count": 74,
   "id": "baking-invite",
   "metadata": {},
   "outputs": [],
   "source": [
    "sel_cols=['TEL0', 'TEL1', 'TEL2', 'TEL3', 'TEL4', 'TEL5',\n",
    "       'TEL6', 'TEL7', 'TEL8', 'TEL9', 'TEL10', 'TEL11', 'TEL12', 'TEL13',\n",
    "       'TEL14', 'TEL15', 'TEL16']"
   ]
  },
  {
   "cell_type": "code",
   "execution_count": 75,
   "id": "racial-performer",
   "metadata": {},
   "outputs": [],
   "source": [
    "df_telseq_telcols=df_telseq[sel_cols]"
   ]
  },
  {
   "cell_type": "code",
   "execution_count": 76,
   "id": "informal-currency",
   "metadata": {},
   "outputs": [],
   "source": [
    "telseq_row=df_telseq_telcols.iloc[0]"
   ]
  },
  {
   "cell_type": "code",
   "execution_count": 77,
   "id": "further-bleeding",
   "metadata": {},
   "outputs": [
    {
     "data": {
      "text/plain": [
       "<AxesSubplot:>"
      ]
     },
     "execution_count": 77,
     "metadata": {},
     "output_type": "execute_result"
    },
    {
     "data": {
      "image/png": "[encoded data removed]",
      "text/plain": [
       "<Figure size 432x288 with 1 Axes>"
      ]
     },
     "metadata": {
      "needs_background": "light"
     },
     "output_type": "display_data"
    }
   ],
   "source": [
    "telseq_row.plot(kind='bar')"
   ]
  },
  {
   "cell_type": "code",
   "execution_count": 78,
   "id": "dressed-angola",
   "metadata": {},
   "outputs": [],
   "source": [
    "telseq_tot=0\n",
    "for c in ['TEL6', 'TEL7', 'TEL8', 'TEL9', 'TEL10', 'TEL11', 'TEL12', 'TEL13',\n",
    "       'TEL14', 'TEL15', 'TEL16']:\n",
    "    telseq_tot+=telseq_row[c]"
   ]
  },
  {
   "cell_type": "code",
   "execution_count": 79,
   "id": "italic-illness",
   "metadata": {},
   "outputs": [],
   "source": [
    "telseq_telcontent=telseq_tot/TOTAL_READS"
   ]
  },
  {
   "cell_type": "code",
   "execution_count": 80,
   "id": "inner-coupon",
   "metadata": {},
   "outputs": [
    {
     "name": "stdout",
     "output_type": "stream",
     "text": [
      "TelSeq telomere content (n=6 or more): 56.29548924544662%\n"
     ]
    }
   ],
   "source": [
    "print(f'TelSeq telomere content (n=6 or more): {telseq_telcontent*100}%')"
   ]
  },
  {
   "cell_type": "code",
   "execution_count": null,
   "id": "offensive-museum",
   "metadata": {},
   "outputs": [],
   "source": []
  },
  {
   "cell_type": "markdown",
   "id": "fossil-salon",
   "metadata": {},
   "source": [
    "## Computel\n",
    "\n",
    "\n",
    "[Computel: measuring telomere length and telomeric repeat variant composition from WGS data](http://big.sci.am/software/computel/)\n",
    "\n",
    "[code](https://github.com/lilit-nersisyan/computel)\n",
    "\n",
    "Nersisyan L, Arakelyan A. Computel: computation of mean telomere length from whole-genome next-generation sequencing data. PLoS One 2015, 10(4):e0125201. [link](https://pubmed.ncbi.nlm.nih.gov/25923330/)\n",
    "\n",
    "Installed as per [instructions](http://big.sci.am/software/computel/)\n",
    "\n",
    "Used defaults\n",
    "\n",
    "./computel.sh -1 /mnt/1TB_0/Data/RaTG13/data/Sars_SL3_R1_171127.fastq -2 /mnt/1TB_0/Data/RaTG13/data/Sars_SL3_R2_171127.fastq -p 20 -o /mnt/1TB_0/Data/RaTG13/analysis/computel"
   ]
  },
  {
   "cell_type": "code",
   "execution_count": 98,
   "id": "aging-billy",
   "metadata": {},
   "outputs": [],
   "source": [
    "df_computel_stats=pd.read_csv(DATA_PATH+'computel/Human/tel.length.csv', sep='\\t')"
   ]
  },
  {
   "cell_type": "code",
   "execution_count": 99,
   "id": "finite-finder",
   "metadata": {},
   "outputs": [
    {
     "data": {
      "text/html": [
       "<div>\n",
       "<style scoped>\n",
       "    .dataframe tbody tr th:only-of-type {\n",
       "        vertical-align: middle;\n",
       "    }\n",
       "\n",
       "    .dataframe tbody tr th {\n",
       "        vertical-align: top;\n",
       "    }\n",
       "\n",
       "    .dataframe thead th {\n",
       "        text-align: right;\n",
       "    }\n",
       "</style>\n",
       "<table border=\"1\" class=\"dataframe\">\n",
       "  <thead>\n",
       "    <tr style=\"text-align: right;\">\n",
       "      <th></th>\n",
       "      <th>Parameter</th>\n",
       "      <th>Value</th>\n",
       "    </tr>\n",
       "  </thead>\n",
       "  <tbody>\n",
       "    <tr>\n",
       "      <th>0</th>\n",
       "      <td>coverage.file</td>\n",
       "      <td>/mnt/1TB_0/Data/RaTG13/analysis/computel/Human...</td>\n",
       "    </tr>\n",
       "    <tr>\n",
       "      <th>1</th>\n",
       "      <td>reads</td>\n",
       "      <td>/mnt/1TB_0/Data/RaTG13/data/Sars_SL3_R1_171127...</td>\n",
       "    </tr>\n",
       "    <tr>\n",
       "      <th>2</th>\n",
       "      <td>read.length</td>\n",
       "      <td>150</td>\n",
       "    </tr>\n",
       "    <tr>\n",
       "      <th>3</th>\n",
       "      <td>pattern.length</td>\n",
       "      <td>c(pattern = 6)</td>\n",
       "    </tr>\n",
       "    <tr>\n",
       "      <th>4</th>\n",
       "      <td>base.cov</td>\n",
       "      <td>1.0729794335837</td>\n",
       "    </tr>\n",
       "    <tr>\n",
       "      <th>5</th>\n",
       "      <td>num.haploid.chr</td>\n",
       "      <td>23</td>\n",
       "    </tr>\n",
       "    <tr>\n",
       "      <th>6</th>\n",
       "      <td>tel.length</td>\n",
       "      <td>c(pattern = 11230598.3177069)</td>\n",
       "    </tr>\n",
       "    <tr>\n",
       "      <th>7</th>\n",
       "      <td>genome.length</td>\n",
       "      <td>3244610000</td>\n",
       "    </tr>\n",
       "    <tr>\n",
       "      <th>8</th>\n",
       "      <td>min.seed</td>\n",
       "      <td>12</td>\n",
       "    </tr>\n",
       "  </tbody>\n",
       "</table>\n",
       "</div>"
      ],
      "text/plain": [
       "         Parameter                                              Value\n",
       "0    coverage.file  /mnt/1TB_0/Data/RaTG13/analysis/computel/Human...\n",
       "1            reads  /mnt/1TB_0/Data/RaTG13/data/Sars_SL3_R1_171127...\n",
       "2      read.length                                                150\n",
       "3   pattern.length                                     c(pattern = 6)\n",
       "4         base.cov                                    1.0729794335837\n",
       "5  num.haploid.chr                                                 23\n",
       "6       tel.length                      c(pattern = 11230598.3177069)\n",
       "7    genome.length                                         3244610000\n",
       "8         min.seed                                                 12"
      ]
     },
     "execution_count": 99,
     "metadata": {},
     "output_type": "execute_result"
    }
   ],
   "source": [
    "df_computel_stats.head(n=10)"
   ]
  },
  {
   "cell_type": "code",
   "execution_count": 88,
   "id": "adjustable-exploration",
   "metadata": {},
   "outputs": [],
   "source": [
    "df_computel=pd.read_csv(DATA_PATH+'computel/Human/tel.variants.csv', sep='\\t')"
   ]
  },
  {
   "cell_type": "code",
   "execution_count": 89,
   "id": "tender-beach",
   "metadata": {
    "scrolled": true
   },
   "outputs": [
    {
     "data": {
      "text/html": [
       "<div>\n",
       "<style scoped>\n",
       "    .dataframe tbody tr th:only-of-type {\n",
       "        vertical-align: middle;\n",
       "    }\n",
       "\n",
       "    .dataframe tbody tr th {\n",
       "        vertical-align: top;\n",
       "    }\n",
       "\n",
       "    .dataframe thead th {\n",
       "        text-align: right;\n",
       "    }\n",
       "</style>\n",
       "<table border=\"1\" class=\"dataframe\">\n",
       "  <thead>\n",
       "    <tr style=\"text-align: right;\">\n",
       "      <th></th>\n",
       "      <th>pattern</th>\n",
       "      <th>abs num</th>\n",
       "      <th>% of all patterns</th>\n",
       "      <th>% of variants</th>\n",
       "    </tr>\n",
       "  </thead>\n",
       "  <tbody>\n",
       "    <tr>\n",
       "      <th>0</th>\n",
       "      <td>TTAGGG</td>\n",
       "      <td>29908455</td>\n",
       "      <td>68.698760</td>\n",
       "      <td>0.000000</td>\n",
       "    </tr>\n",
       "    <tr>\n",
       "      <th>1</th>\n",
       "      <td>ATAGGG</td>\n",
       "      <td>3074060</td>\n",
       "      <td>7.061017</td>\n",
       "      <td>22.558266</td>\n",
       "    </tr>\n",
       "    <tr>\n",
       "      <th>2</th>\n",
       "      <td>TTGGGAACAGG</td>\n",
       "      <td>1043957</td>\n",
       "      <td>2.397936</td>\n",
       "      <td>7.660833</td>\n",
       "    </tr>\n",
       "    <tr>\n",
       "      <th>3</th>\n",
       "      <td>GTTAGG</td>\n",
       "      <td>904578</td>\n",
       "      <td>2.077787</td>\n",
       "      <td>6.638033</td>\n",
       "    </tr>\n",
       "    <tr>\n",
       "      <th>4</th>\n",
       "      <td>AACAGG</td>\n",
       "      <td>798553</td>\n",
       "      <td>1.834251</td>\n",
       "      <td>5.859993</td>\n",
       "    </tr>\n",
       "    <tr>\n",
       "      <th>5</th>\n",
       "      <td>TTAGGT</td>\n",
       "      <td>789406</td>\n",
       "      <td>1.813240</td>\n",
       "      <td>5.792870</td>\n",
       "    </tr>\n",
       "    <tr>\n",
       "      <th>6</th>\n",
       "      <td>TTGGAAACAGG</td>\n",
       "      <td>636873</td>\n",
       "      <td>1.462877</td>\n",
       "      <td>4.673543</td>\n",
       "    </tr>\n",
       "    <tr>\n",
       "      <th>7</th>\n",
       "      <td>TTAGG</td>\n",
       "      <td>583450</td>\n",
       "      <td>1.340166</td>\n",
       "      <td>4.281511</td>\n",
       "    </tr>\n",
       "    <tr>\n",
       "      <th>8</th>\n",
       "      <td>TTAGTG</td>\n",
       "      <td>474740</td>\n",
       "      <td>1.090463</td>\n",
       "      <td>3.483768</td>\n",
       "    </tr>\n",
       "    <tr>\n",
       "      <th>9</th>\n",
       "      <td>GTTGGG</td>\n",
       "      <td>437589</td>\n",
       "      <td>1.005128</td>\n",
       "      <td>3.211144</td>\n",
       "    </tr>\n",
       "  </tbody>\n",
       "</table>\n",
       "</div>"
      ],
      "text/plain": [
       "       pattern   abs num  % of all patterns  % of variants\n",
       "0       TTAGGG  29908455          68.698760       0.000000\n",
       "1       ATAGGG   3074060           7.061017      22.558266\n",
       "2  TTGGGAACAGG   1043957           2.397936       7.660833\n",
       "3       GTTAGG    904578           2.077787       6.638033\n",
       "4       AACAGG    798553           1.834251       5.859993\n",
       "5       TTAGGT    789406           1.813240       5.792870\n",
       "6  TTGGAAACAGG    636873           1.462877       4.673543\n",
       "7        TTAGG    583450           1.340166       4.281511\n",
       "8       TTAGTG    474740           1.090463       3.483768\n",
       "9       GTTGGG    437589           1.005128       3.211144"
      ]
     },
     "execution_count": 89,
     "metadata": {},
     "output_type": "execute_result"
    }
   ],
   "source": [
    "df_computel.head(n=10)"
   ]
  },
  {
   "cell_type": "code",
   "execution_count": null,
   "id": "different-lancaster",
   "metadata": {},
   "outputs": [],
   "source": []
  },
  {
   "cell_type": "markdown",
   "id": "copyrighted-progressive",
   "metadata": {},
   "source": [
    "## Motif Counter\n",
    "\n",
    "[link](https://sourceforge.net/projects/motifcounter/)\n",
    "    \n",
    "    \"Motif counter is a simple bash script that allows users to scan all reads contained in a bam file for a specific motif sequence repeated a number of times. Designed to look for the number of variant telomere repeats and reads in a whole genome sequencing dataset. The program prompts for a character string, and the number of times that string should be present in each read, then pulls out the data. Motifs can either be consecutive or uncoupled from each other across the read, and analysis endpoints include read number and percentage tables, compiled bam files with only motif-containing reads, or bam files with motif-containing reads together with their paired end.\"\n",
    "\n",
    "Used the following parameters:\n",
    "\n",
    "```\n",
    "-> Please input sequence motif to search:  TTAGGG\n",
    "-> Please input number of repeats:  6\n",
    "```\n"
   ]
  },
  {
   "cell_type": "markdown",
   "id": "adequate-casino",
   "metadata": {},
   "source": [
    "#### Uncoupled"
   ]
  },
  {
   "cell_type": "markdown",
   "id": "clinical-greensboro",
   "metadata": {},
   "source": [
    "```\n",
    "bash motif_counter.sh  -s -u -q 0\n",
    "```"
   ]
  },
  {
   "cell_type": "code",
   "execution_count": 176,
   "id": "identical-tyler",
   "metadata": {},
   "outputs": [
    {
     "data": {
      "text/html": [
       "<div>\n",
       "<style scoped>\n",
       "    .dataframe tbody tr th:only-of-type {\n",
       "        vertical-align: middle;\n",
       "    }\n",
       "\n",
       "    .dataframe tbody tr th {\n",
       "        vertical-align: top;\n",
       "    }\n",
       "\n",
       "    .dataframe thead th {\n",
       "        text-align: right;\n",
       "    }\n",
       "</style>\n",
       "<table border=\"1\" class=\"dataframe\">\n",
       "  <thead>\n",
       "    <tr style=\"text-align: right;\">\n",
       "      <th></th>\n",
       "      <th>INDEX</th>\n",
       "      <th>Reads_(q&gt;0)</th>\n",
       "      <th>6xTTAGGG_uncoupled</th>\n",
       "      <th>Percent_fwd_uncoupled</th>\n",
       "      <th>6xCCCTAA_uncoupled</th>\n",
       "      <th>Percent_rev_uncoupled</th>\n",
       "      <th>6xTTAGGG_total_uncoupled</th>\n",
       "      <th>Percent_total_uncoupled</th>\n",
       "      <th>Unnamed: 8</th>\n",
       "      <th>Unnamed: 9</th>\n",
       "    </tr>\n",
       "  </thead>\n",
       "  <tbody>\n",
       "    <tr>\n",
       "      <th>0</th>\n",
       "      <td>Sars_SL3_171127_gatk_sorted_marked.bam</td>\n",
       "      <td>23209334</td>\n",
       "      <td>6581192</td>\n",
       "      <td>28.355799</td>\n",
       "      <td>6636486</td>\n",
       "      <td>28.594039</td>\n",
       "      <td>13217678</td>\n",
       "      <td>56.949838</td>\n",
       "      <td>NaN</td>\n",
       "      <td>NaN</td>\n",
       "    </tr>\n",
       "  </tbody>\n",
       "</table>\n",
       "</div>"
      ],
      "text/plain": [
       "                                    INDEX  Reads_(q>0)  6xTTAGGG_uncoupled  \\\n",
       "0  Sars_SL3_171127_gatk_sorted_marked.bam     23209334             6581192   \n",
       "\n",
       "   Percent_fwd_uncoupled  6xCCCTAA_uncoupled  Percent_rev_uncoupled  \\\n",
       "0              28.355799             6636486              28.594039   \n",
       "\n",
       "   6xTTAGGG_total_uncoupled  Percent_total_uncoupled  Unnamed: 8  Unnamed: 9  \n",
       "0                  13217678                56.949838         NaN         NaN  "
      ]
     },
     "execution_count": 176,
     "metadata": {},
     "output_type": "execute_result"
    }
   ],
   "source": [
    "df_mc=pd.read_csv(DATA_PATH+'motif_counter/motiff_counter_out_s_u_q0.txt', sep='\\t')\n",
    "df_mc.head()"
   ]
  },
  {
   "cell_type": "code",
   "execution_count": null,
   "id": "native-congress",
   "metadata": {},
   "outputs": [],
   "source": []
  }
 ],
 "metadata": {
  "kernelspec": {
   "display_name": "Python 3",
   "language": "python",
   "name": "python3"
  },
  "language_info": {
   "codemirror_mode": {
    "name": "ipython",
    "version": 3
   },
   "file_extension": ".py",
   "mimetype": "text/x-python",
   "name": "python",
   "nbconvert_exporter": "python",
   "pygments_lexer": "ipython3",
   "version": "3.6.12"
  }
 },
 "nbformat": 4,
 "nbformat_minor": 5
}
