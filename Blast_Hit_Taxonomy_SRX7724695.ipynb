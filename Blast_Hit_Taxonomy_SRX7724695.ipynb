{
 "cells": [
  {
   "cell_type": "markdown",
   "id": "documentary-syntax",
   "metadata": {},
   "source": [
    "### Analysis of SRX7724693: RNA-Seq of Rhinolophus affinis: Anal swab\n",
    "\n",
    "Study: Discovery of Bat Coronaviruses through Surveillance and Probe Capture-Based Next-Generation Sequencing.\n",
    "\n",
    "- PRJNA606159 \n",
    "- SRP249478 \n",
    "\n",
    "https://www.ncbi.nlm.nih.gov/sra/SRX7724693[accn]\n",
    "\n",
    "\n",
    "\n",
    "Here we ran Blastn against several thousand raw reads to get hits with >95% similaity, to use this dataset as a QC against other anlyses in this repository.\n"
   ]
  },
  {
   "cell_type": "code",
   "execution_count": 1,
   "id": "processed-camcorder",
   "metadata": {},
   "outputs": [],
   "source": [
    "import pandas as pd\n",
    "from pandas import DataFrame\n",
    "import numpy as np\n",
    "import matplotlib\n",
    "from matplotlib import pyplot as plt\n",
    "from Bio import SeqIO"
   ]
  },
  {
   "cell_type": "code",
   "execution_count": 2,
   "id": "upper-lighter",
   "metadata": {},
   "outputs": [],
   "source": [
    "DATA_PATH='../../'\n",
    "PROJECT='SRX7724693'\n",
    "BLAST_OUT=DATA_PATH+PROJECT+'/Blastn/dataframes/'"
   ]
  },
  {
   "cell_type": "markdown",
   "id": "offshore-interference",
   "metadata": {},
   "source": [
    "### Read in data\n",
    "\n",
    "Takes forematted csv file(s) generated in Blast_hit_file_formatter.ipynb as input "
   ]
  },
  {
   "cell_type": "code",
   "execution_count": 3,
   "id": "governing-preference",
   "metadata": {},
   "outputs": [
    {
     "data": {
      "text/plain": [
       "'../../SRX7724693/Blastn/dataframes/SRX7724693_HKU2_160660_R1_blast_hits.csv'"
      ]
     },
     "execution_count": 3,
     "metadata": {},
     "output_type": "execute_result"
    }
   ],
   "source": [
    "fpath=BLAST_OUT+PROJECT+'_HKU2_160660_R1_blast_hits.csv'\n",
    "fpath"
   ]
  },
  {
   "cell_type": "code",
   "execution_count": 4,
   "id": "stretch-calcium",
   "metadata": {},
   "outputs": [
    {
     "data": {
      "text/plain": [
       "1507"
      ]
     },
     "execution_count": 4,
     "metadata": {},
     "output_type": "execute_result"
    }
   ],
   "source": [
    "df =pd.read_csv(BLAST_OUT+PROJECT+'_HKU2_160660_R1_blast_hits.csv')\n",
    "len(df)"
   ]
  },
  {
   "cell_type": "markdown",
   "id": "latter-nirvana",
   "metadata": {},
   "source": [
    "### Uniqe sequence hits\n",
    "\n",
    "Get all unique sequence hits, short from most to least frequennt, then plot the frequency\n",
    "\n",
    "Note all percentages calculated below for taxonomic analysis are based on a percentage of the hits."
   ]
  },
  {
   "cell_type": "code",
   "execution_count": 5,
   "id": "alien-roberts",
   "metadata": {},
   "outputs": [],
   "source": [
    "titles=df.text_title.to_list()"
   ]
  },
  {
   "cell_type": "code",
   "execution_count": 6,
   "id": "unlikely-burner",
   "metadata": {},
   "outputs": [],
   "source": [
    "seqs, counts = np.unique(titles, return_counts=True)"
   ]
  },
  {
   "cell_type": "code",
   "execution_count": 7,
   "id": "greater-generation",
   "metadata": {},
   "outputs": [],
   "source": [
    "counts, seqs = zip(*sorted(zip(counts, seqs), reverse=True))"
   ]
  },
  {
   "cell_type": "code",
   "execution_count": 8,
   "id": "perfect-collar",
   "metadata": {},
   "outputs": [
    {
     "data": {
      "text/plain": [
       "[<matplotlib.lines.Line2D at 0x7f8c50858ef0>]"
      ]
     },
     "execution_count": 8,
     "metadata": {},
     "output_type": "execute_result"
    },
    {
     "data": {
      "image/png": "[encoded data removed]",
      "text/plain": [
       "<Figure size 432x288 with 1 Axes>"
      ]
     },
     "metadata": {
      "needs_background": "light"
     },
     "output_type": "display_data"
    }
   ],
   "source": [
    "plt.plot(counts)"
   ]
  },
  {
   "cell_type": "markdown",
   "id": "animal-daisy",
   "metadata": {},
   "source": [
    "Most common ten frequencies"
   ]
  },
  {
   "cell_type": "code",
   "execution_count": 9,
   "id": "eleven-brand",
   "metadata": {},
   "outputs": [
    {
     "data": {
      "text/plain": [
       "(196, 108, 69, 65, 50, 41, 38, 37, 37, 29)"
      ]
     },
     "execution_count": 9,
     "metadata": {},
     "output_type": "execute_result"
    }
   ],
   "source": [
    "counts[:10]"
   ]
  },
  {
   "cell_type": "markdown",
   "id": "placed-admission",
   "metadata": {},
   "source": [
    "List all the unique sequence matches (in order from most to least common)"
   ]
  },
  {
   "cell_type": "code",
   "execution_count": 10,
   "id": "massive-convention",
   "metadata": {},
   "outputs": [
    {
     "data": {
      "text/plain": [
       "('Clostridium perfringens strain 4928STDY7387880 genome assembly, chromosome: 1,',\n",
       " 'Paraclostridium bifermentans strain Cbm chromosome,',\n",
       " 'Shigella sonnei strain SE6-1 chromosome, complete genome,',\n",
       " 'Clostridium chauvoei strain SBP 07/09 chromosome, complete genome,',\n",
       " 'Enterococcus faecalis strain 133170041-3 chromosome, complete genome,',\n",
       " 'Pasteurellaceae bacterium RH1A chromosome, complete genome,',\n",
       " 'Romboutsia sp. Frifi strain FRIFI genome assembly, chromosome: chromosome1,',\n",
       " 'Clostridium butyricum strain 16-3 chromosome 1, complete sequence,',\n",
       " 'Cellulosilyticum sp. WCF-2 chromosome, complete genome,',\n",
       " 'Romboutsia sp. CE17 chromosome, complete genome,',\n",
       " 'PREDICTED: Pan paniscus 18S ribosomal RNA (LOC117978904), rRNA,',\n",
       " 'Hirundo smithii voucher B-39509 external transcribed spacer, partial sequence; 18S ribosomal RNA gene, complete sequence; and internal transcribed spacer 1, partial sequence,',\n",
       " 'Clostridium perfringens strain 4928STDY7387940 genome assembly, chromosome: 1,',\n",
       " 'Clostridium baratii strain CDC51267 chromosome, complete genome,',\n",
       " 'Romboutsia ilealis strain CRIB genome assembly, chromosome: chr1,',\n",
       " 'Felis catus Senzu DNA, chromosome: E1, American Shorthair breed,',\n",
       " 'Paeniclostridium sordellii strain AM370 chromosome, complete genome,',\n",
       " 'Glaesserella parasuis strain HPS412 chromosome, complete genome,',\n",
       " 'Clostridium tertium strain 9094 16S ribosomal RNA gene, partial sequence,',\n",
       " 'Paraclostridium bifermentans strain 2343 16S ribosomal RNA gene, partial sequence,',\n",
       " 'Clostridium glycolicum strain DSM 1288 23S ribosomal RNA gene, partial sequence,',\n",
       " 'Pasteurellaceae bacterium Orientalotternb1, complete genome,',\n",
       " 'Mannheimia granulomatis strain B 234/94, complete genome,',\n",
       " 'Enterococcus mundtii 15-1A DNA, complete genome,',\n",
       " 'Eubacterium maltosivorans strain YI chromosome, complete genome,',\n",
       " 'Clostridium isatidis strain DSM 15098 chromosome, complete genome,',\n",
       " 'Clostridium diolis strain DSM 15410 chromosome, complete genome,',\n",
       " 'Clostridium carnis 23S ribosomal RNA gene, partial sequence,',\n",
       " 'Homo sapiens lncAB371.6 lncRNA gene, complete sequence,',\n",
       " 'Clostridium sartagoforme strain NM50_B9-20 16S ribosomal RNA gene, partial sequence,',\n",
       " 'Frederiksenia canicola strain HPA 21, complete genome,',\n",
       " 'Enterococcus faecalis strain 2675 16S ribosomal RNA gene, partial sequence,',\n",
       " 'Clostridium sp. strain Firmi-1 16S ribosomal RNA gene, partial sequence,',\n",
       " 'Cellulosilyticum lentocellum strain RHM5 23S ribosomal RNA gene, complete sequence,',\n",
       " '[Clostridium] hiranonis strain DSM 13275 chromosome, complete genome,',\n",
       " 'Uncultured bacterium clone F9P1210_R_B10 16S ribosomal RNA gene and 16S-23S ribosomal RNA intergenic spacer, partial sequence,',\n",
       " 'Uncultured Intestinibacter sp. clone asv_310_2325 16S ribosomal RNA gene, partial sequence; 16S-23S ribosomal RNA intergenic spacer, complete sequence; and 23S ribosomal RNA gene, partial sequence,',\n",
       " 'Paeniclostridium sordellii strain 9088 16S ribosomal RNA gene, partial sequence,',\n",
       " 'Lysinibacillus pakistanensis strain LZH-9 chromosome, complete genome,',\n",
       " 'Uncultured bacterium clone OTU_627 16S ribosomal RNA gene, partial sequence,',\n",
       " 'Enterococcus avium G-15 DNA, complete genome,',\n",
       " 'Clostridium septicum strain MF01 16S ribosomal RNA gene, partial sequence,',\n",
       " 'Clostridium septicum strain DSM 7534 chromosome, complete genome,',\n",
       " 'Clostridium beijerinckii isolate WB53 chromosome, complete genome,',\n",
       " 'Clostridium argentinense strain 89G, complete genome,',\n",
       " 'Vespertiliibacter pulmonis strain CCUG 64585 genome,',\n",
       " 'Uncultured bacterium clone denovo64932 16S ribosomal RNA gene, partial sequence,',\n",
       " 'Haemophilus parainfluenzae strain LC_1315_18 chromosome, complete genome,',\n",
       " 'Clostridium thermarum strain SYSU GA15002 chromosome, complete genome,',\n",
       " 'Clostridium perfringens strain 3116 16S ribosomal RNA gene, partial sequence,',\n",
       " 'Clostridium paraputrificum Oni003 gene for 16S ribosomal RNA, partial sequence,',\n",
       " 'Clostridium disporicum strain DSM 5521 23S ribosomal RNA gene, partial sequence,',\n",
       " 'Actinobacillus porcitonsillarum strain 9953L55 chromosome, complete genome,',\n",
       " 'Uncultured bacterium clone c1891 16S ribosomal RNA gene, partial sequence,',\n",
       " 'Uncultured Clostridium sp. clone asv_315_2178 16S ribosomal RNA gene, partial sequence; 16S-23S ribosomal RNA intergenic spacer, complete sequence; and 23S ribosomal RNA gene, partial sequence,',\n",
       " 'PREDICTED: Tursiops truncatus 28S ribosomal RNA (LOC117310092), rRNA,',\n",
       " 'Lachnospiraceae bacterium strain PCK003 16S ribosomal RNA gene, partial sequence,',\n",
       " 'Glaesserella sp. 15-184 chromosome, complete genome,',\n",
       " 'Enterococcus faecalis strain TH4125 chromosome, complete genome,',\n",
       " 'Clostridium taeniosporum strain 1/k chromosome, complete genome,',\n",
       " 'Clostridioides difficile strain TW11-RT078 chromosome,',\n",
       " 'uncultured bacterium partial 16S rRNA gene,',\n",
       " '[Haemophilus] ducreyi strain NCTC11483 genome assembly, chromosome: 1,',\n",
       " 'Romboutsia lituseburensis strain XS 1-3 16S ribosomal RNA gene, partial sequence,',\n",
       " 'PREDICTED: Pipra filicauda 18S ribosomal RNA (LOC113997446), rRNA,',\n",
       " 'PREDICTED: Phyllostomus discolor 28S ribosomal RNA (LOC114512504), rRNA,',\n",
       " 'Lachnospiraceae bacterium mt14 partial 16S rRNA gene, strain mt14,',\n",
       " 'Enterococcus faecium strain BG 16S ribosomal RNA gene, partial sequence,',\n",
       " 'Clostridium sp. MF28, genome,',\n",
       " 'Clostridium butyricum strain 5467 16S ribosomal RNA gene, partial sequence,',\n",
       " 'Clostridium beijerinckii NRRL B-598 chromosome, complete genome,',\n",
       " 'uncultured bacterium partial 16S rRNA gene, clone T19,',\n",
       " '[Clostridium] sphenoides JCM 1415 strain ATCC 19403 genome assembly, chromosome: I,',\n",
       " 'Viridibacillus sp. JNUCC-6 chromosome, complete genome,',\n",
       " 'Uncultured eukaryote clone CRDL-293 18S ribosomal RNA gene, partial sequence,',\n",
       " 'Uncultured bacterium clone T2C148 16S ribosomal RNA gene, partial sequence,',\n",
       " 'Uncultured bacterium clone OTU_8254 16S ribosomal RNA gene, partial sequence,',\n",
       " 'Uncultured bacterium clone OTU_8237 16S ribosomal RNA gene, partial sequence,',\n",
       " 'Uncultured bacterium clone OTU_4745 16S ribosomal RNA gene, partial sequence,',\n",
       " 'Uncultured bacterium clone OTU3561 16S ribosomal RNA gene, partial sequence,',\n",
       " 'Uncultured bacterium clone B112_87 small subunit ribosomal RNA gene, partial sequence >gi|683850270|gb|KM500035.1| Uncultured bacterium clone B112_88 small subunit ribosomal RNA gene, partial sequence,',\n",
       " 'Uncultured bacterium clone A1011 16S ribosomal RNA gene, partial sequence,',\n",
       " 'Uncultured bacterium clone 490CT6B15 16S ribosomal RNA gene, partial sequence,',\n",
       " 'Uncultured Firmicutes bacterium partial 16S rRNA gene, clone DQ809797,',\n",
       " 'Uncultured Clostridium sp. clone asv_360_2192 16S ribosomal RNA gene, partial sequence; 16S-23S ribosomal RNA intergenic spacer, complete sequence; and 23S ribosomal RNA gene, partial sequence,',\n",
       " 'Uncultured Clostridium sp. clone TERI PRE JH1 A77 16S ribosomal RNA gene, partial sequence.,',\n",
       " 'Romboutsia sedimentorum strain CBA7519 16S ribosomal RNA gene, partial sequence,',\n",
       " 'Rodentibacter heylii strain G1 chromosome, complete genome,',\n",
       " 'Pseudoalteromonas piscicida strain DE1-A chromosome 2, complete sequence,',\n",
       " 'Paraclostridium bifermentans strain CM7 16S ribosomal RNA gene, partial sequence,',\n",
       " 'Paenibacillus guangzhouensis strain KCTC 33171 chromosome, complete genome,',\n",
       " 'PREDICTED: Lontra canadensis 28S ribosomal RNA (LOC116863405), rRNA,',\n",
       " 'Lysinibacillus sp. 2017 chromosome, complete genome,',\n",
       " 'Homo sapiens lncAB370.3 lncRNA gene, complete sequence,',\n",
       " 'Haemophilus influenzae strain P602-8883 chromosome,',\n",
       " 'Haemophilus influenzae 2018-Y40 DNA, complete genome,',\n",
       " 'Edwardsiella hoshinae strain ATCC 35051, complete genome,',\n",
       " 'Clostridium tyrobutyricum strain Cirm BIA 2237 chromosome,',\n",
       " 'Clostridium septicum strain VAT12 chromosome, complete genome,',\n",
       " 'Clostridium sardiniense strain DSM 599 23S ribosomal RNA gene, partial sequence,',\n",
       " 'Candidatus Kinetoplastibacterium sorsogonicusi strain MF-08 chromosome, complete genome,',\n",
       " 'Bisgaardia hudsonensis strain M327/99/2, complete genome,',\n",
       " 'Bacillus sp. KH172YL63 DNA, complete genome,',\n",
       " 'Zea mays clone 660712 histone H2B.1 mRNA, complete cds,',\n",
       " 'Zea mays Peptidyl-prolyl cis-trans isomerase FKBP12 (LOC542519), mRNA,',\n",
       " 'Uncultured prokaryote clone FW-Ft-D6-P4-M13r-1_C02 16S ribosomal RNA gene, partial sequence,',\n",
       " 'Uncultured organism clone ELU0156-T284-S-NIPCRAMgANa_000151 small subunit ribosomal RNA gene, partial sequence,',\n",
       " 'Uncultured organism clone ELU0150-T457-S-NIPCRAMgANa_000494 small subunit ribosomal RNA gene, partial sequence,',\n",
       " 'Uncultured organism clone ELU0124-T310-S-NI_000510 small subunit ribosomal RNA gene, partial sequence,',\n",
       " 'Uncultured organism clone ELU0124-T310-S-NI_000395 small subunit ribosomal RNA gene, partial sequence,',\n",
       " 'Uncultured organism clone ELU0114-T283-S-NI_000035 small subunit ribosomal RNA gene, partial sequence,',\n",
       " 'Uncultured organism clone ELU0063-T430-S-NIPCRAMgANa_000593 small subunit ribosomal RNA gene, partial sequence,',\n",
       " 'Uncultured organism clone ELU0054-T358-S-NIPCRAMgANa_000271 small subunit ribosomal RNA gene, partial sequence,',\n",
       " 'Uncultured organism clone ELU0012-T73-S-NIPCRAMgANa_000550 small subunit ribosomal RNA gene, partial sequence,',\n",
       " 'Uncultured eukaryote isolate A3_E004 18S ribosomal RNA gene, partial sequence,',\n",
       " 'Uncultured eukaryote clone CRDL-353 18S ribosomal RNA gene, partial sequence,',\n",
       " 'Uncultured bacterium partial 16S rRNA gene, clone Limnopolar-0.5-B8,',\n",
       " 'Uncultured bacterium partial 16S rRNA gene, clone BF_M20,',\n",
       " 'Uncultured bacterium clone pegbc2646 16S ribosomal RNA gene, partial sequence,',\n",
       " 'Uncultured bacterium clone denovo7474 16S ribosomal RNA gene, partial sequence,',\n",
       " 'Uncultured bacterium clone c216 16S ribosomal RNA gene, partial sequence,',\n",
       " 'Uncultured bacterium clone c1360 16S ribosomal RNA gene, partial sequence,',\n",
       " 'Uncultured bacterium clone aab00b09 16S ribosomal RNA gene, partial sequence,',\n",
       " 'Uncultured bacterium clone aaa74b06 16S ribosomal RNA gene, partial sequence,',\n",
       " 'Uncultured bacterium clone YO00840E05 16S ribosomal RNA gene, partial sequence,',\n",
       " 'Uncultured bacterium clone WDol6RectBE11 16S ribosomal RNA gene, partial sequence,',\n",
       " 'Uncultured bacterium clone VLA_41 16S ribosomal RNA gene, partial sequence,',\n",
       " 'Uncultured bacterium clone SM8 16S ribosomal RNA gene, partial sequence,',\n",
       " 'Uncultured bacterium clone RKKG26CF09 16S ribosomal RNA gene, partial sequence,',\n",
       " 'Uncultured bacterium clone R09_G08 16S ribosomal RNA gene, partial sequence,',\n",
       " 'Uncultured bacterium clone PrebhufecB2.3 16S ribosomal RNA gene, partial sequence,',\n",
       " 'Uncultured bacterium clone OTU_346 16S ribosomal RNA gene, partial sequence,',\n",
       " 'Uncultured bacterium clone OTU_1156 16S ribosomal RNA gene, partial sequence,',\n",
       " 'Uncultured bacterium clone OTU3982 16S ribosomal RNA gene, partial sequence,',\n",
       " 'Uncultured bacterium clone OTU1331 16S ribosomal RNA gene, partial sequence,',\n",
       " 'Uncultured bacterium clone NK2_544 16S ribosomal RNA gene, partial sequence,',\n",
       " 'Uncultured bacterium clone MISEQ01_89_000000000-A647M_1_2113_14549_6262 16S ribosomal RNA gene, partial sequence,',\n",
       " 'Uncultured bacterium clone MID1_22939 16S ribosomal RNA gene, partial sequence,',\n",
       " 'Uncultured bacterium clone M-clone86 16S ribosomal RNA gene, partial sequence,',\n",
       " 'Uncultured bacterium clone JF37 16S ribosomal RNA gene, partial sequence,',\n",
       " 'Uncultured bacterium clone H-HN-E4-Org_82119 16S ribosomal RNA gene, partial sequence,',\n",
       " 'Uncultured bacterium clone Giantp OTU64 16S ribosomal RNA gene, partial sequence,',\n",
       " 'Uncultured bacterium clone Giantp OTU45 16S ribosomal RNA gene, partial sequence,',\n",
       " 'Uncultured bacterium clone GDIC2IK01B2HYF 16S ribosomal RNA gene, partial sequence,',\n",
       " 'Uncultured bacterium clone DolRc_Dol33RE06 16S ribosomal RNA gene, partial sequence,',\n",
       " 'Uncultured bacterium clone DolRc_B506 16S ribosomal RNA gene, partial sequence,',\n",
       " 'Uncultured bacterium clone DolRc_B091 16S ribosomal RNA gene, partial sequence,',\n",
       " 'Uncultured bacterium clone CAMD_50CS_B4B7 16S ribosomal RNA gene, partial sequence,',\n",
       " 'Uncultured bacterium clone CAMD_100CS_B2A11 16S ribosomal RNA gene, partial sequence,',\n",
       " 'Uncultured bacterium clone BD01302 16S ribosomal RNA gene, partial sequence,',\n",
       " 'Uncultured bacterium clone 3c51 16S ribosomal RNA gene, partial sequence,',\n",
       " 'Uncultured bacterium clone 16slp117-2d01.p1k 16S ribosomal RNA gene, partial sequence,',\n",
       " 'Uncultured bacterium clone 0N21hH85 16S ribosomal RNA gene, partial sequence,',\n",
       " 'Uncultured bacterium clone 05li4 16S ribosomal RNA gene, partial sequence,',\n",
       " 'Uncultured Streptococcus sp. clone GKJWQY101BSJSE 23S ribosomal RNA gene, partial sequence,',\n",
       " 'Uncultured Clostridium sp. partial 16S rRNA gene, clone h08_ibs_pyr_so3,',\n",
       " 'Uncultured Clostridium sp. clone TERI PRE JH1 B6 16S ribosomal RNA gene, partial sequence.,',\n",
       " 'Uncultured Actinobacillus sp. partial 16S rRNA gene, isolate 472N_20347,',\n",
       " 'Streptococcus sanguinis strain FDAARGOS_770 chromosome, complete genome,',\n",
       " 'Sarcina sp. JB2 chromosome, complete genome,',\n",
       " 'Salmonella enterica strain FDAARGOS_711 chromosome,',\n",
       " 'Salmonella bongori strain 85-0051 chromosome, complete genome,',\n",
       " 'Pelodiscus sinensis isolate 20190325 18S ribosomal RNA gene, partial sequence,',\n",
       " 'Paraclostridium sp. strain DSM 107287 16S ribosomal RNA gene, partial sequence,',\n",
       " 'Paraclostridium benzoelyticum partial 16S rRNA gene, strain JC709, isolate K5,',\n",
       " 'Paeniclostridium sordellii JCM 11011 gene for 16S ribosomal RNA, partial sequence,',\n",
       " 'Paenibacillus sp. strain SK1-16 16S ribosomal RNA gene, partial sequence,',\n",
       " 'Paenibacillus sp. strain PRB331 16S ribosomal RNA gene, partial sequence >gi|1275869998|gb|MG457702.1| Paenibacillus sp. strain PRB336 16S ribosomal RNA gene, partial sequence,',\n",
       " 'Paenibacillus naphthalenovorans strain 32O-Y, complete genome,',\n",
       " 'Paenibacillus lycopersici strain 12200R-189 chromosome, complete genome,',\n",
       " 'Paenibacillus lutimineralis strain MBLB1234, complete genome,',\n",
       " 'Paenibacillus alvei isolate Paenibacillus B-LR1 genome assembly, chromosome: PBLR,',\n",
       " 'PREDICTED: Pipra filicauda 18S ribosomal RNA (LOC113987929), rRNA,',\n",
       " 'PREDICTED: Acipenser ruthenus 28S ribosomal RNA (LOC117968447), rRNA,',\n",
       " 'PREDICTED: Acipenser ruthenus 18S ribosomal RNA (LOC117965913), rRNA,',\n",
       " 'Mycoplasma muris strain ATCC 33757 23S ribosomal RNA gene, partial sequence,',\n",
       " 'Mixta sp. Marseille-Q2659 partial 16S rRNA gene, strain Marseille-Q2659,',\n",
       " 'Lactococcus petauri strain CF11 chromosome, complete genome,',\n",
       " 'Lachnospiraceae bacterium S37_09_2 partial 16S rRNA gene, isolate S37_09_2,',\n",
       " 'Kurthia sp. 11kri321, complete genome,',\n",
       " 'Klebsiella pneumoniae strain KP20194a chromosome, complete genome,',\n",
       " 'Homo sapiens lncAB599.3 lncRNA gene, complete sequence,',\n",
       " 'Helicobacter typhlonius genome assembly htyphlonius_mit97-6810, chromosome : I,',\n",
       " 'Helicobacter sp. strain MIT 17-1033 16S ribosomal RNA gene, partial sequence,',\n",
       " 'Helicobacter hepaticus strain ATCC 51449 23S ribosomal RNA gene, complete sequence,',\n",
       " 'Helicobacter cinaedi P01D0000 DNA, complete genome,',\n",
       " 'Helicobacter canis isolate MGYG-HGUT-01463 genome assembly, chromosome: 1,',\n",
       " 'Gemella morbillorum strain FDAARGOS_741 chromosome, complete genome,',\n",
       " 'Escherichia coli strain ST540, complete genome,',\n",
       " 'Escherichia coli strain P43A chromosome, complete genome,',\n",
       " 'Escherichia coli strain IVRI Kol CP4 chromosome, complete genome,',\n",
       " 'Escherichia coli strain EcPF16 chromosome, complete genome,',\n",
       " 'Escherichia coli strain AH25 chromosome, complete genome,',\n",
       " 'Escherichia coli isolate SC476 genome assembly, chromosome: omosome1,',\n",
       " 'Escherichia coli YJ4 DNA, complete genome,',\n",
       " 'Escherichia coli O157:H7 str. EDL933 genome,',\n",
       " 'Enterococcus sp. 94-2 gene for 16S ribosomal RNA, partial sequence,',\n",
       " 'Enterococcus faecalis strain TSGB1279 16S ribosomal RNA gene, partial sequence,',\n",
       " 'Enterococcus faecalis D32, complete genome,',\n",
       " 'Enterobacter sp. strain M5 16S ribosomal RNA gene, partial sequence,',\n",
       " 'Enterobacter hormaechei strain AKB48 chromosome, complete genome,',\n",
       " 'Crenosoma sp. 1785-17 small subunit ribosomal RNA gene, partial sequence,',\n",
       " 'Clostridium sp. gene for 16S ribosomal RNA, partial sequence,',\n",
       " 'Clostridium sp. CT4 chromosome, complete genome,',\n",
       " 'Clostridium saccharobutylicum strain NCP 195, complete genome,',\n",
       " 'Clostridium perfringens strain NCTC13170 genome assembly, chromosome: 1,',\n",
       " 'Clostridium perfringens strain Isolate 104 16S ribosomal RNA gene, partial sequence,',\n",
       " 'Clostridium perfringens DNA, complete genome, strain: CBA7123,',\n",
       " 'Clostridium estertheticum subsp. estertheticum strain DSM 8809, complete genome,',\n",
       " 'Clostridium chauvoei strain 12S0467, complete genome,',\n",
       " 'Clostridium cellulovorans strain 743B 23S ribosomal RNA gene, complete sequence,',\n",
       " 'Clostridium celatum G085 gene for 16S ribosomal RNA, partial sequence,',\n",
       " 'Clostridium butyricum strain CFSA3989 chromosome, complete genome,',\n",
       " 'Clostridium bovifaecis strain BXX chromosome, complete genome,',\n",
       " 'Clostridium bifermentans strain PS 1 16S ribosomal RNA gene, partial sequence,',\n",
       " 'Citrobacter freundii strain ZY198 chromosome, complete genome,',\n",
       " 'Canis lupus familiaris breed Labrador retriever chromosome 08a,',\n",
       " 'Basfia succiniciproducens strain JF4016 chromosome, complete genome,',\n",
       " 'Bacillus sp. Marseille-Q1617 partial 16S rRNA gene, strain Marseille-Q1617,',\n",
       " 'Bacillus sp. M4U3P1 chromosome, complete genome,',\n",
       " 'Bacillus megaterium strain FDU301 chromosome, complete genome,',\n",
       " 'Bacillus cecembensis strain J5BS4 16S ribosomal RNA gene, partial sequence,',\n",
       " 'Aggregatibacter aphrophilus strain Ch3 16S ribosomal RNA gene, partial sequence,',\n",
       " 'Actinobacillus pleuropneumoniae strain S4074 chromosome, complete genome,')"
      ]
     },
     "execution_count": 10,
     "metadata": {},
     "output_type": "execute_result"
    }
   ],
   "source": [
    "seqs"
   ]
  },
  {
   "cell_type": "markdown",
   "id": "furnished-lunch",
   "metadata": {},
   "source": [
    "For SRR11085736, we see a dominance of bacteria"
   ]
  },
  {
   "cell_type": "markdown",
   "id": "actual-gazette",
   "metadata": {},
   "source": [
    "Percentage of human sequence matches in the raw reads"
   ]
  },
  {
   "cell_type": "code",
   "execution_count": 11,
   "id": "instructional-distance",
   "metadata": {},
   "outputs": [
    {
     "name": "stdout",
     "output_type": "stream",
     "text": [
      "Homo sapiens percentage: 0.92899800928998\n"
     ]
    }
   ],
   "source": [
    "human = [x for x in titles if 'Human' in x]\n",
    "homo_sapiens = [x for x in titles if 'Homo sapiens' in x]\n",
    "print(f'Homo sapiens percentage: {((len(human)+len(homo_sapiens))/len(titles))*100}')"
   ]
  },
  {
   "cell_type": "markdown",
   "id": "steady-badge",
   "metadata": {},
   "source": [
    "### Bat sequence content\n",
    "\n",
    "Calculate percent of the following bat species and covs as percentage of the blast hits"
   ]
  },
  {
   "cell_type": "code",
   "execution_count": 12,
   "id": "becoming-addition",
   "metadata": {},
   "outputs": [],
   "source": [
    "bats=['Rhinolophus','Hipposideros', 'Bat', 'Pipistrellus', 'Pteropus']"
   ]
  },
  {
   "cell_type": "code",
   "execution_count": 13,
   "id": "future-refund",
   "metadata": {},
   "outputs": [],
   "source": [
    "bat_r = [x for x in titles if 'rhinolophus' in x.lower()]\n",
    "bat_b = [x for x in titles if 'bat coronavirus' in x.lower()]\n",
    "bat_p = [x for x in titles if 'pipistrellus' in x.lower()]\n",
    "bat_h = [x for x in titles if 'hipposideros' in x.lower()]\n",
    "bat_pt = [x for x in titles if 'Pteropus' in x.lower()]"
   ]
  },
  {
   "cell_type": "code",
   "execution_count": 14,
   "id": "numeric-intellectual",
   "metadata": {},
   "outputs": [
    {
     "name": "stdout",
     "output_type": "stream",
     "text": [
      "Bat percentage: 0.0\n"
     ]
    }
   ],
   "source": [
    "bat_tot=len(bat_r)+len(bat_b)+len(bat_p)+len(bat_h)+len(bat_pt)\n",
    "print(f'Bat percentage: {(bat_tot/len(titles))*100}')"
   ]
  },
  {
   "cell_type": "markdown",
   "id": "latest-liability",
   "metadata": {},
   "source": [
    "### Synthetic and BAC clones"
   ]
  },
  {
   "cell_type": "code",
   "execution_count": 15,
   "id": "apart-crime",
   "metadata": {},
   "outputs": [],
   "source": [
    "synthetic=[x for x in titles if 'synthetic' in x.lower()]\n",
    "bac=[x for x in titles if ' bac ' in x.lower()]"
   ]
  },
  {
   "cell_type": "code",
   "execution_count": 16,
   "id": "iraqi-mentor",
   "metadata": {},
   "outputs": [
    {
     "data": {
      "text/plain": [
       "(0, [])"
      ]
     },
     "execution_count": 16,
     "metadata": {},
     "output_type": "execute_result"
    }
   ],
   "source": [
    "len(synthetic), synthetic"
   ]
  },
  {
   "cell_type": "code",
   "execution_count": 17,
   "id": "superb-nation",
   "metadata": {
    "scrolled": true
   },
   "outputs": [
    {
     "data": {
      "text/plain": [
       "(0, [])"
      ]
     },
     "execution_count": 17,
     "metadata": {},
     "output_type": "execute_result"
    }
   ],
   "source": [
    "len(bac), bac"
   ]
  },
  {
   "cell_type": "markdown",
   "id": "skilled-command",
   "metadata": {},
   "source": [
    "Run same on CAP_160660_R1 dataset\n",
    "\n",
    "(ie hits from CAP_160660_R1_180307.fastq.gz)"
   ]
  },
  {
   "cell_type": "code",
   "execution_count": 18,
   "id": "younger-flooring",
   "metadata": {},
   "outputs": [
    {
     "data": {
      "text/plain": [
       "1549"
      ]
     },
     "execution_count": 18,
     "metadata": {},
     "output_type": "execute_result"
    }
   ],
   "source": [
    "df =pd.read_csv(BLAST_OUT+PROJECT+'_CAP_160660_R1_blast_hits.csv')\n",
    "len(df)"
   ]
  },
  {
   "cell_type": "markdown",
   "id": "unsigned-formation",
   "metadata": {},
   "source": [
    "### Uniqe sequence hits\n",
    "\n",
    "Get all unique sequence hits, short from most to least frequennt, then plot the frequency\n",
    "\n",
    "Note all percentages calculated below for taxonomic analysis are based on a percentage of the hits."
   ]
  },
  {
   "cell_type": "code",
   "execution_count": 19,
   "id": "processed-cache",
   "metadata": {},
   "outputs": [],
   "source": [
    "titles=df.text_title.to_list()"
   ]
  },
  {
   "cell_type": "code",
   "execution_count": 20,
   "id": "answering-court",
   "metadata": {},
   "outputs": [],
   "source": [
    "seqs, counts = np.unique(titles, return_counts=True)"
   ]
  },
  {
   "cell_type": "code",
   "execution_count": 21,
   "id": "formed-holmes",
   "metadata": {},
   "outputs": [],
   "source": [
    "counts, seqs = zip(*sorted(zip(counts, seqs), reverse=True))"
   ]
  },
  {
   "cell_type": "code",
   "execution_count": 22,
   "id": "coordinated-swaziland",
   "metadata": {},
   "outputs": [
    {
     "data": {
      "text/plain": [
       "[<matplotlib.lines.Line2D at 0x7f8c487665c0>]"
      ]
     },
     "execution_count": 22,
     "metadata": {},
     "output_type": "execute_result"
    },
    {
     "data": {
      "image/png": "[encoded data removed]",
      "text/plain": [
       "<Figure size 432x288 with 1 Axes>"
      ]
     },
     "metadata": {
      "needs_background": "light"
     },
     "output_type": "display_data"
    }
   ],
   "source": [
    "plt.plot(counts)"
   ]
  },
  {
   "cell_type": "markdown",
   "id": "surprising-health",
   "metadata": {},
   "source": [
    "Most common ten frequencies"
   ]
  },
  {
   "cell_type": "code",
   "execution_count": 23,
   "id": "respiratory-acrobat",
   "metadata": {},
   "outputs": [
    {
     "data": {
      "text/plain": [
       "(187, 113, 74, 67, 60, 49, 44, 42, 39, 39)"
      ]
     },
     "execution_count": 23,
     "metadata": {},
     "output_type": "execute_result"
    }
   ],
   "source": [
    "counts[:10]"
   ]
  },
  {
   "cell_type": "markdown",
   "id": "considerable-freeze",
   "metadata": {},
   "source": [
    "List all the unique sequence matches (in order from most to least common)"
   ]
  },
  {
   "cell_type": "code",
   "execution_count": 24,
   "id": "cheap-termination",
   "metadata": {},
   "outputs": [
    {
     "data": {
      "text/plain": [
       "('Clostridium perfringens strain 4928STDY7387880 genome assembly, chromosome: 1,',\n",
       " 'Paraclostridium bifermentans strain Cbm chromosome,',\n",
       " 'Shigella sonnei strain SE6-1 chromosome, complete genome,',\n",
       " 'Clostridium chauvoei strain SBP 07/09 chromosome, complete genome,',\n",
       " 'Romboutsia sp. Frifi strain FRIFI genome assembly, chromosome: chromosome1,',\n",
       " 'Pasteurellaceae bacterium RH1A chromosome, complete genome,',\n",
       " 'Hirundo smithii voucher B-39509 external transcribed spacer, partial sequence; 18S ribosomal RNA gene, complete sequence; and internal transcribed spacer 1, partial sequence,',\n",
       " 'Romboutsia ilealis strain CRIB genome assembly, chromosome: chr1,',\n",
       " 'Paeniclostridium sordellii strain AM370 chromosome, complete genome,',\n",
       " 'Enterococcus faecalis strain 133170041-3 chromosome, complete genome,',\n",
       " 'Clostridium baratii strain CDC51267 chromosome, complete genome,',\n",
       " 'Clostridium butyricum strain 16-3 chromosome 1, complete sequence,',\n",
       " 'Clostridium glycolicum strain DSM 1288 23S ribosomal RNA gene, partial sequence,',\n",
       " 'Cellulosilyticum sp. WCF-2 chromosome, complete genome,',\n",
       " 'Glaesserella parasuis strain HPS412 chromosome, complete genome,',\n",
       " 'Clostridium tertium strain 9094 16S ribosomal RNA gene, partial sequence,',\n",
       " 'Clostridium perfringens strain 4928STDY7387940 genome assembly, chromosome: 1,',\n",
       " 'Paraclostridium bifermentans strain 2343 16S ribosomal RNA gene, partial sequence,',\n",
       " 'Romboutsia sp. CE17 chromosome, complete genome,',\n",
       " 'Felis catus Senzu DNA, chromosome: E1, American Shorthair breed,',\n",
       " 'Enterococcus mundtii 15-1A DNA, complete genome,',\n",
       " 'Pasteurellaceae bacterium Orientalotternb1, complete genome,',\n",
       " 'Homo sapiens lncAB371.6 lncRNA gene, complete sequence,',\n",
       " 'Clostridium isatidis strain DSM 15098 chromosome, complete genome,',\n",
       " 'PREDICTED: Pan paniscus 18S ribosomal RNA (LOC117978904), rRNA,',\n",
       " 'Mannheimia granulomatis strain B 234/94, complete genome,',\n",
       " 'Clostridium carnis 23S ribosomal RNA gene, partial sequence,',\n",
       " 'Uncultured bacterium clone denovo64932 16S ribosomal RNA gene, partial sequence,',\n",
       " 'Lysinibacillus pakistanensis strain LZH-9 chromosome, complete genome,',\n",
       " 'Eubacterium maltosivorans strain YI chromosome, complete genome,',\n",
       " 'Uncultured bacterium clone OTU_8254 16S ribosomal RNA gene, partial sequence,',\n",
       " 'Uncultured Intestinibacter sp. clone asv_310_2325 16S ribosomal RNA gene, partial sequence; 16S-23S ribosomal RNA intergenic spacer, complete sequence; and 23S ribosomal RNA gene, partial sequence,',\n",
       " 'Frederiksenia canicola strain HPA 21, complete genome,',\n",
       " 'Clostridium sp. strain Firmi-1 16S ribosomal RNA gene, partial sequence,',\n",
       " 'Clostridium septicum strain MF01 16S ribosomal RNA gene, partial sequence,',\n",
       " 'Uncultured bacterium clone F9P1210_R_B10 16S ribosomal RNA gene and 16S-23S ribosomal RNA intergenic spacer, partial sequence,',\n",
       " 'Paeniclostridium sordellii strain 9088 16S ribosomal RNA gene, partial sequence,',\n",
       " 'Enterococcus faecalis strain 2675 16S ribosomal RNA gene, partial sequence,',\n",
       " 'Clostridium sp. strain sFT001-0168 16S ribosomal RNA gene, partial sequence,',\n",
       " 'Clostridium beijerinckii isolate WB53 chromosome, complete genome,',\n",
       " 'Rhinolophus affinis bat coronavirus HKU2-related isolate 160660, complete genome,',\n",
       " 'Lachnospiraceae bacterium strain PCK003 16S ribosomal RNA gene, partial sequence,',\n",
       " 'Clostridium sartagoforme strain NM50_B9-20 16S ribosomal RNA gene, partial sequence,',\n",
       " 'Clostridium argentinense strain 89G, complete genome,',\n",
       " 'uncultured bacterium partial 16S rRNA gene,',\n",
       " 'Uncultured bacterium clone A1011 16S ribosomal RNA gene, partial sequence,',\n",
       " 'Clostridium perfringens strain 3116 16S ribosomal RNA gene, partial sequence,',\n",
       " 'Clostridium disporicum strain DSM 5521 23S ribosomal RNA gene, partial sequence,',\n",
       " 'Cellulosilyticum lentocellum strain RHM5 23S ribosomal RNA gene, complete sequence,',\n",
       " 'Uncultured bacterium clone OTU_627 16S ribosomal RNA gene, partial sequence,',\n",
       " 'Romboutsia lituseburensis strain XS 1-3 16S ribosomal RNA gene, partial sequence,',\n",
       " 'Homo sapiens lncAB370.3 lncRNA gene, complete sequence,',\n",
       " 'Haemophilus parainfluenzae strain LC_1315_18 chromosome, complete genome,',\n",
       " 'Clostridium paraputrificum Oni003 gene for 16S ribosomal RNA, partial sequence,',\n",
       " '[Clostridium] hiranonis strain DSM 13275 chromosome, complete genome,',\n",
       " 'Vespertiliibacter pulmonis strain CCUG 64585 genome,',\n",
       " 'Uncultured bacterium clone c1360 16S ribosomal RNA gene, partial sequence,',\n",
       " 'Uncultured Clostridium sp. clone TERI PRE JH1 B6 16S ribosomal RNA gene, partial sequence.,',\n",
       " 'Solibacillus silvestris strain DSM 12223, complete genome,',\n",
       " 'Paraclostridium benzoelyticum strain 5610 16S ribosomal RNA gene, partial sequence,',\n",
       " 'Lachnospiraceae bacterium mt14 partial 16S rRNA gene, strain mt14,',\n",
       " 'Enterococcus faecium strain BG 16S ribosomal RNA gene, partial sequence,',\n",
       " 'Clostridium sp. MF28, genome,',\n",
       " 'Clostridium diolis strain DSM 15410 chromosome, complete genome,',\n",
       " 'Clostridium butyricum strain 5467 16S ribosomal RNA gene, partial sequence,',\n",
       " 'Actinobacillus porcitonsillarum strain 9953L55 chromosome, complete genome,',\n",
       " 'Uncultured bacterium clone 3c51 16S ribosomal RNA gene, partial sequence,',\n",
       " 'Rodentibacter heylii strain G1 chromosome, complete genome,',\n",
       " 'PREDICTED: Tursiops truncatus 28S ribosomal RNA (LOC117310092), rRNA,',\n",
       " 'Mixta sp. Marseille-Q2659 partial 16S rRNA gene, strain Marseille-Q2659,',\n",
       " 'Lonepinella sp. strain MS14437 16S ribosomal RNA gene, partial sequence,',\n",
       " 'Helicobacter hepaticus strain ATCC 51449 23S ribosomal RNA gene, complete sequence,',\n",
       " 'Escherichia coli TUM18781 DNA, complete genome,',\n",
       " 'Clostridium thermarum strain SYSU GA15002 chromosome, complete genome,',\n",
       " 'Clostridium taeniosporum strain 1/k chromosome, complete genome,',\n",
       " 'Clostridium sardiniense strain DSM 599 23S ribosomal RNA gene, partial sequence,',\n",
       " 'Clostridium beijerinckii NRRL B-598 chromosome, complete genome,',\n",
       " 'Bacillus thuringiensis strain FDAARGOS_796 chromosome, complete genome,',\n",
       " 'Bacillus sp. KH172YL63 DNA, complete genome,',\n",
       " 'uncultured bacterium partial 16S rRNA gene, clone T19,',\n",
       " 'Uncultured bacterium clone OTU_346 16S ribosomal RNA gene, partial sequence,',\n",
       " 'Uncultured bacterium clone OTU_236 16S ribosomal RNA gene, partial sequence,',\n",
       " 'Uncultured bacterium clone OTU1632_P_Control_M3.26674 16S ribosomal RNA gene, partial sequence,',\n",
       " 'Uncultured bacterium clone H-HN-D6-Min_133842 16S ribosomal RNA gene, partial sequence,',\n",
       " 'Uncultured bacterium clone DolRc_Dol35RF10 16S ribosomal RNA gene, partial sequence,',\n",
       " 'Uncultured bacterium clone B112_87 small subunit ribosomal RNA gene, partial sequence >gi|683850270|gb|KM500035.1| Uncultured bacterium clone B112_88 small subunit ribosomal RNA gene, partial sequence,',\n",
       " 'Uncultured Firmicutes bacterium partial 16S rRNA gene, clone DQ809797,',\n",
       " 'Uncultured Clostridium sp. clone asv_315_2178 16S ribosomal RNA gene, partial sequence; 16S-23S ribosomal RNA intergenic spacer, complete sequence; and 23S ribosomal RNA gene, partial sequence,',\n",
       " 'Uncultured Clostridium sp. clone BDYFP96 16S ribosomal RNA gene, partial sequence,',\n",
       " 'Pasteurella multocida strain NCTC8282 genome assembly, chromosome: 1,',\n",
       " 'Paenibacillus uliginis N3/975 genome assembly, chromosome: I,',\n",
       " 'Lysinibacillus sp. strain S456 16S ribosomal RNA gene, partial sequence,',\n",
       " 'Lactococcus garvieae strain 2542 16S ribosomal RNA gene, partial sequence,',\n",
       " 'Frederiksenia canicola strain B-3-1-AP 16S ribosomal RNA gene, partial sequence,',\n",
       " 'Clostridium septicum strain DSM 7534 chromosome, complete genome,',\n",
       " 'Clostridium saccharobutylicum strain NCP 195, complete genome,',\n",
       " 'Clostridium perfringens strain 8334 16S ribosomal RNA gene, partial sequence,',\n",
       " 'Basfia succiniciproducens strain JF4016 chromosome, complete genome,',\n",
       " 'Bacterium KM546(2012) 16S ribosomal RNA gene, partial sequence,',\n",
       " 'Bacillus paramycoides strain SDB4 16S ribosomal RNA gene, partial sequence,',\n",
       " 'Bacillus anthracis strain FDAARGOS_695 chromosome,',\n",
       " '[Clostridium] sphenoides JCM 1415 strain ATCC 19403 genome assembly, chromosome: I,',\n",
       " 'Zea mays sodium/hydrogen exchanger 2-like (LOC103633540), mRNA,',\n",
       " 'Uncultured proteobacterium clone F2BF03T7 16S ribosomal RNA gene, partial sequence,',\n",
       " 'Uncultured organism clone ELU0070-T464-S-NIPCRAMgANa_000176 small subunit ribosomal RNA gene, partial sequence,',\n",
       " 'Uncultured organism clone ELU0054-T358-S-NIPCRAMgANa_000391 small subunit ribosomal RNA gene, partial sequence,',\n",
       " 'Uncultured bacterium partial 16S rRNA gene, clone t0_D11,',\n",
       " 'Uncultured bacterium clone ncd631c12c1 16S ribosomal RNA gene, partial sequence,',\n",
       " 'Uncultured bacterium clone c1891 16S ribosomal RNA gene, partial sequence,',\n",
       " 'Uncultured bacterium clone c169 16S ribosomal RNA gene, partial sequence,',\n",
       " 'Uncultured bacterium clone c124 16S ribosomal RNA gene, partial sequence,',\n",
       " 'Uncultured bacterium clone c1180 16S ribosomal RNA gene, partial sequence,',\n",
       " 'Uncultured bacterium clone aab00b12 16S ribosomal RNA gene, partial sequence,',\n",
       " 'Uncultured bacterium clone aaa94c05 16S ribosomal RNA gene, partial sequence >gi|110186944|gb|DQ817078.1| Uncultured bacterium clone aaa95e02 16S ribosomal RNA gene, partial sequence,',\n",
       " 'Uncultured bacterium clone aaa60d09 16S ribosomal RNA gene, partial sequence,',\n",
       " 'Uncultured bacterium clone a1 16S ribosomal RNA gene, partial sequence,',\n",
       " 'Uncultured bacterium clone T2C148 16S ribosomal RNA gene, partial sequence,',\n",
       " 'Uncultured bacterium clone S-13 16S ribosomal RNA gene, partial sequence,',\n",
       " 'Uncultured bacterium clone PB2_aai23f04 16S ribosomal RNA gene, partial sequence,',\n",
       " 'Uncultured bacterium clone OTU_4745 16S ribosomal RNA gene, partial sequence,',\n",
       " 'Uncultured bacterium clone OTU_1187 16S ribosomal RNA gene, partial sequence,',\n",
       " 'Uncultured bacterium clone OTU2356 16S ribosomal RNA gene, partial sequence,',\n",
       " 'Uncultured bacterium clone NK2_544 16S ribosomal RNA gene, partial sequence,',\n",
       " 'Uncultured bacterium clone M-clone86 16S ribosomal RNA gene, partial sequence,',\n",
       " 'Uncultured bacterium clone KG584EPSD04 23S ribosomal RNA gene, partial sequence,',\n",
       " 'Uncultured bacterium clone HSD-s-Cel7 16S ribosomal RNA gene, partial sequence,',\n",
       " 'Uncultured bacterium clone Giantp OTU46 16S ribosomal RNA gene, partial sequence,',\n",
       " 'Uncultured bacterium clone Giantp OTU45 16S ribosomal RNA gene, partial sequence,',\n",
       " 'Uncultured bacterium clone F6_164_1_721 16S ribosomal RNA gene, partial sequence,',\n",
       " 'Uncultured bacterium clone CAMD_50CS_B4E11 16S ribosomal RNA gene, partial sequence,',\n",
       " 'Uncultured bacterium clone 81c5 16S ribosomal RNA gene, partial sequence,',\n",
       " 'Uncultured bacterium clone 7N186hL48 16S ribosomal RNA gene, partial sequence,',\n",
       " 'Uncultured bacterium clone 7N186hH3 16S ribosomal RNA gene, partial sequence,',\n",
       " 'Uncultured bacterium clone 27bf 16S ribosomal RNA gene, partial sequence,',\n",
       " 'Uncultured bacterium clone 1457 16S ribosomal RNA gene, partial sequence,',\n",
       " 'Uncultured Intestinibacter sp. clone asv_257_2288 16S ribosomal RNA gene, partial sequence; 16S-23S ribosomal RNA intergenic spacer, complete sequence; and 23S ribosomal RNA gene, partial sequence,',\n",
       " 'Uncultured Firmicutes bacterium clone PLF54 16S ribosomal RNA gene, partial sequence,',\n",
       " 'Uncultured Firmicutes bacterium clone OTU36 16S ribosomal RNA gene, partial sequence,',\n",
       " 'Uncultured Epulopiscium sp. clone RS10_AsohC048 16S ribosomal RNA gene, partial sequence,',\n",
       " 'Uncultured Clostridium sp. gene for 16S rRNA, partial sequence, clone: TCE-62,',\n",
       " 'Uncultured Clostridium sp. clone asv_360_2192 16S ribosomal RNA gene, partial sequence; 16S-23S ribosomal RNA intergenic spacer, complete sequence; and 23S ribosomal RNA gene, partial sequence,',\n",
       " 'Uncultured Clostridium sp. clone TERI PRE JH1 A77 16S ribosomal RNA gene, partial sequence.,',\n",
       " 'Uncultured Clostridium sp. clone CAMD_5CS_B2E12 16S ribosomal RNA gene, partial sequence,',\n",
       " 'Turicibacter sanguinis strain MOL361 chromosome, complete genome,',\n",
       " 'Streptococcus sp. strain BM10 16S ribosomal RNA gene, partial sequence,',\n",
       " 'Solibacillus sp. strain SCSIO S00588 16S ribosomal RNA gene, partial sequence,',\n",
       " 'Shigella flexneri strain FDAARGOS_690 chromosome,',\n",
       " 'Shewanella oneidensis MR-1 chromosome,',\n",
       " 'Scandinavium goeteborgense strain CCUG 66741 chromosome, complete genome,',\n",
       " 'Salmonella enterica subsp. enterica strain NCTC129 genome assembly, chromosome: 1,',\n",
       " 'Salmonella enterica subsp. enterica serovar Typhi strain CMCST_CEPR_1 chromosome, complete genome,',\n",
       " 'Salmonella enterica strain FDAARGOS_711 chromosome,',\n",
       " 'Romboutsia sedimentorum strain CBA7519 16S ribosomal RNA gene, partial sequence,',\n",
       " 'Rhinolophus sinicus sinicus isolate GZ0860 mitochondrion, complete genome,',\n",
       " 'Psychrobacillus glaciei strain PB01 chromosome, complete genome,',\n",
       " 'Paenisporosarcina antarctica strain CGMCC 1.6503 chromosome, complete genome,',\n",
       " 'Paenibacillus riograndensis SBR5 genome assembly SBR5(T), chromosome : I,',\n",
       " 'Paenibacillus rhizovicinus strain 14171R-81 chromosome, complete genome,',\n",
       " 'Paenibacillus lutimineralis strain MBLB1234, complete genome,',\n",
       " 'Paenibacillus alvei isolate Paenibacillus B-LR1 genome assembly, chromosome: PBLR,',\n",
       " 'PREDICTED: Pipra filicauda 18S ribosomal RNA (LOC113987929), rRNA,',\n",
       " 'PREDICTED: Phyllostomus discolor 28S ribosomal RNA (LOC114512504), rRNA,',\n",
       " 'PREDICTED: Marmota flaviventris 28S ribosomal RNA (LOC117794687), rRNA,',\n",
       " 'PREDICTED: Manis javanica 18S ribosomal RNA (LOC118969611), rRNA,',\n",
       " 'PREDICTED: Halichoerus grypus 28S ribosomal RNA (LOC118524279), rRNA,',\n",
       " 'PREDICTED: Felis catus Eukaryotic 28S ribosomal RNA (LOC111559207), rRNA,',\n",
       " 'PREDICTED: Choloepus didactylus 28S ribosomal RNA (LOC119533746), rRNA,',\n",
       " 'Lysinibacillus sp. SGAir0095 chromosome, complete genome,',\n",
       " 'Lysinibacillus sp. 2017 chromosome, complete genome,',\n",
       " 'Lysinibacillus contaminans strain FJAT-45899 16S ribosomal RNA gene, partial sequence,',\n",
       " 'Lactococcus garvieae subsp. bovis strain NM1 23S ribosomal RNA gene, partial sequence,',\n",
       " 'Lachnoclostridium phytofermentans ISDg, complete genome,',\n",
       " 'Lachnoanaerobaculum umeaense isolate MGYG-HGUT-02522 genome assembly, chromosome: 1 >gi|1481056496|gb|CP032364.1| Lachnoanaerobaculum umeaense strain DSM 23576 = CCUG 58757 chromosome, complete genome,',\n",
       " 'Klebsiella oxytoca strain P620 chromosome, complete genome,',\n",
       " 'Klebsiella michiganensis strain Biosolid 27 chromosome, complete genome,',\n",
       " 'Helicobacter trogontum strain ATCC 43968 23S ribosomal RNA gene, partial sequence,',\n",
       " 'Haemophilus influenzae strain P602-8883 chromosome,',\n",
       " 'Haemophilus influenzae 2018-Y40 DNA, complete genome,',\n",
       " 'Geobacillus stearothermophilus strain B5 chromosome, complete genome,',\n",
       " 'Frischella perrara strain PEB0191, complete genome,',\n",
       " 'Escherichia coli strain PSTJ1 16S ribosomal RNA gene, partial sequence,',\n",
       " 'Escherichia coli strain EcPF7 chromosome, complete genome,',\n",
       " 'Escherichia coli O145:H28 122715 DNA, complete genome,',\n",
       " 'Escherichia coli M505 DNA, complete genome,',\n",
       " 'Enterococcus pseudoavium strain 1791 16S ribosomal RNA gene, partial sequence,',\n",
       " 'Enterococcus faecalis strain TO37b 16S ribosomal RNA gene, partial sequence,',\n",
       " 'Enterococcus faecalis strain TH4125 chromosome, complete genome,',\n",
       " 'Enterococcus avium G-15 DNA, complete genome,',\n",
       " 'Enterobacter hormaechei strain AKB48 chromosome, complete genome,',\n",
       " 'Enterobacter cloacae strain ML008 16S ribosomal RNA gene, partial sequence,',\n",
       " 'Clostridium tyrobutyricum strain W428, complete genome,',\n",
       " 'Clostridium saccharobutylicum strain TM11 16S ribosomal RNA gene, partial sequence,',\n",
       " 'Clostridium perfringens strain JXJA17 chromosome, complete genome,',\n",
       " 'Clostridium perfringens strain FORC_003, complete genome,',\n",
       " 'Clostridium intestinale strain Lx1 chromosome, complete genome,',\n",
       " 'Clostridium fallax strain DSM 2631 23S ribosomal RNA gene, partial sequence,',\n",
       " 'Clostridium estertheticum subsp. estertheticum strain DSM 8809, complete genome,',\n",
       " 'Clostridium celatum G085 gene for 16S ribosomal RNA, partial sequence,',\n",
       " 'Clostridium butyricum strain CFSA3989 chromosome, complete genome,',\n",
       " 'Clostridium bovifaecis strain BXX chromosome, complete genome,',\n",
       " 'Clostridium botulinum strain NCTC 8550, complete genome,',\n",
       " 'Clostridium bornimense replicon M2/40_rep1, complete genome, type strain M2/40T,',\n",
       " 'Clostridium beijerinckii isolate C. beijerinckii DSM 6423 genome assembly, chromosome: I,',\n",
       " 'Clostridioides difficile strain TW11-RT078 chromosome,',\n",
       " 'Clostridiaceae bacterium 14S0207 chromosome, complete genome,',\n",
       " 'Bisgaardia hudsonensis strain M327/99/2, complete genome,',\n",
       " 'Bacterium enrichment culture clone ZZ_B7 16S ribosomal RNA gene, partial sequence,',\n",
       " 'Bacillus thermoamylovorans strain SSBM chromosome, complete genome,',\n",
       " 'Bacillus sp. N3536 chromosome, complete genome,',\n",
       " 'Bacillus sp. FJAT-22090 genome,',\n",
       " 'Bacillus endoradicis strain CBA7541 16S ribosomal RNA gene, partial sequence,',\n",
       " 'Arthrobacter citreus strain NEB 577 chromosome, complete genome,',\n",
       " 'Aerococcus viridans strain FDAARGOS_672 chromosome, complete genome,',\n",
       " 'Actinobacillus indolicus strain AIFJ1607 chromosome, complete genome,')"
      ]
     },
     "execution_count": 24,
     "metadata": {},
     "output_type": "execute_result"
    }
   ],
   "source": [
    "seqs"
   ]
  },
  {
   "cell_type": "markdown",
   "id": "cardiac-commercial",
   "metadata": {},
   "source": [
    "Percentage of human sequence matches in the raw reads"
   ]
  },
  {
   "cell_type": "code",
   "execution_count": 25,
   "id": "provincial-norfolk",
   "metadata": {},
   "outputs": [
    {
     "name": "stdout",
     "output_type": "stream",
     "text": [
      "Homo sapiens percentage: 1.4848289218850872\n"
     ]
    }
   ],
   "source": [
    "human = [x for x in titles if 'Human' in x]\n",
    "homo_sapiens = [x for x in titles if 'Homo sapiens' in x]\n",
    "print(f'Homo sapiens percentage: {((len(human)+len(homo_sapiens))/len(titles))*100}')"
   ]
  },
  {
   "cell_type": "markdown",
   "id": "residential-syndrome",
   "metadata": {},
   "source": [
    "### Bat sequence content\n",
    "\n",
    "Calculate percent of the following bat species and covs as percentage of the blast hits"
   ]
  },
  {
   "cell_type": "code",
   "execution_count": 26,
   "id": "spread-passport",
   "metadata": {},
   "outputs": [],
   "source": [
    "bats=['Rhinolophus','Hipposideros', 'Bat', 'Pipistrellus', 'Pteropus']"
   ]
  },
  {
   "cell_type": "code",
   "execution_count": 27,
   "id": "internal-acrylic",
   "metadata": {},
   "outputs": [],
   "source": [
    "bat_r = [x for x in titles if 'rhinolophus' in x.lower()]\n",
    "bat_b = [x for x in titles if 'bat coronavirus' in x.lower()]\n",
    "bat_p = [x for x in titles if 'pipistrellus' in x.lower()]\n",
    "bat_h = [x for x in titles if 'hipposideros' in x.lower()]\n",
    "bat_pt = [x for x in titles if 'Pteropus' in x.lower()]"
   ]
  },
  {
   "cell_type": "code",
   "execution_count": 28,
   "id": "hundred-thickness",
   "metadata": {},
   "outputs": [
    {
     "name": "stdout",
     "output_type": "stream",
     "text": [
      "Bat percentage: 0.9683666881859263\n"
     ]
    }
   ],
   "source": [
    "bat_tot=len(bat_r)+len(bat_b)+len(bat_p)+len(bat_h)+len(bat_pt)\n",
    "print(f'Bat percentage: {(bat_tot/len(titles))*100}')"
   ]
  },
  {
   "cell_type": "markdown",
   "id": "earned-healing",
   "metadata": {},
   "source": [
    "### Synthetic and BAC clones"
   ]
  },
  {
   "cell_type": "code",
   "execution_count": 29,
   "id": "tracked-turtle",
   "metadata": {},
   "outputs": [],
   "source": [
    "synthetic=[x for x in titles if 'synthetic' in x.lower()]\n",
    "bac=[x for x in titles if ' bac ' in x.lower()]"
   ]
  },
  {
   "cell_type": "code",
   "execution_count": 30,
   "id": "above-study",
   "metadata": {},
   "outputs": [
    {
     "data": {
      "text/plain": [
       "(0, [])"
      ]
     },
     "execution_count": 30,
     "metadata": {},
     "output_type": "execute_result"
    }
   ],
   "source": [
    "len(synthetic), synthetic"
   ]
  },
  {
   "cell_type": "code",
   "execution_count": 31,
   "id": "precious-possible",
   "metadata": {
    "scrolled": true
   },
   "outputs": [
    {
     "data": {
      "text/plain": [
       "(0, [])"
      ]
     },
     "execution_count": 31,
     "metadata": {},
     "output_type": "execute_result"
    }
   ],
   "source": [
    "len(bac), bac"
   ]
  },
  {
   "cell_type": "code",
   "execution_count": null,
   "id": "legitimate-experience",
   "metadata": {},
   "outputs": [],
   "source": []
  }
 ],
 "metadata": {
  "kernelspec": {
   "display_name": "Python 3",
   "language": "python",
   "name": "python3"
  },
  "language_info": {
   "codemirror_mode": {
    "name": "ipython",
    "version": 3
   },
   "file_extension": ".py",
   "mimetype": "text/x-python",
   "name": "python",
   "nbconvert_exporter": "python",
   "pygments_lexer": "ipython3",
   "version": "3.6.12"
  }
 },
 "nbformat": 4,
 "nbformat_minor": 5
}
