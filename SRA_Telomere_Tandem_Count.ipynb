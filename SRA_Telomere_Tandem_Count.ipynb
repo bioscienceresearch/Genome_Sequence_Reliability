{
 "cells": [
  {
   "cell_type": "markdown",
   "id": "revolutionary-england",
   "metadata": {},
   "source": [
    "## Count telomere-like sequences in a fastq file\n"
   ]
  },
  {
   "cell_type": "code",
   "execution_count": 1,
   "id": "manufactured-catering",
   "metadata": {},
   "outputs": [],
   "source": [
    "import os\n",
    "import collections\n",
    "import re\n",
    "import math\n",
    "import pathlib\n",
    "import json\n",
    "import functools\n",
    "import operator\n",
    "import time\n",
    "from multiprocessing import Process\n",
    "from io import StringIO\n",
    "from Bio.Seq import Seq\n",
    "from Bio.SeqRecord import SeqRecord\n",
    "from Bio import SeqIO\n",
    "from Bio import pairwise2  \n",
    "from Bio.pairwise2 import format_alignment \n",
    "import pandas as pd\n",
    "import numpy as np\n",
    "import matplotlib as mpl\n",
    "import matplotlib.pyplot as plt\n",
    "from matplotlib.colors import ListedColormap"
   ]
  },
  {
   "cell_type": "code",
   "execution_count": 3,
   "id": "cellular-doctor",
   "metadata": {},
   "outputs": [],
   "source": [
    "FASTA_PATH='../../fasta/'\n",
    "CONSENSUS_BLASTED_PATH='../../fasta/asm_out/RaTG13/'\n",
    "FASTQ_PATH= '../../RaTG13/data/'\n",
    "FASTQ_FILE= 'Sars_SL3_R1_171127.fastq'"
   ]
  },
  {
   "cell_type": "code",
   "execution_count": 4,
   "id": "registered-meaning",
   "metadata": {},
   "outputs": [],
   "source": [
    "OUT_PATH=CONSENSUS_BLASTED_PATH+'telomere_qc/'\n",
    "pathlib.Path(OUT_PATH).mkdir(exist_ok=True)"
   ]
  },
  {
   "cell_type": "code",
   "execution_count": 41,
   "id": "incomplete-saudi",
   "metadata": {},
   "outputs": [],
   "source": [
    "OUTFILE_BASE=f'{OUT_PATH+FASTQ_FILE.split(\".\")[0]+\"_telomere_two_motif_counts\"}'"
   ]
  },
  {
   "cell_type": "markdown",
   "id": "related-mills",
   "metadata": {},
   "source": [
    "## fastq reads"
   ]
  },
  {
   "cell_type": "code",
   "execution_count": 6,
   "id": "hydraulic-soccer",
   "metadata": {},
   "outputs": [
    {
     "name": "stdout",
     "output_type": "stream",
     "text": [
      "Sars_SL3_R1_171127.fastq read took 238.28608059883118 seconds\n"
     ]
    }
   ],
   "source": [
    "readlist=[]\n",
    "f=FASTQ_PATH+FASTQ_FILE\n",
    "start_time=time.time()\n",
    "for record in SeqIO.parse(f, \"fastq\"):\n",
    "    readlist.append(record.seq)\n",
    "end_time=time.time()\n",
    "print(f'{FASTQ_FILE} read took {end_time-start_time} seconds')"
   ]
  },
  {
   "cell_type": "code",
   "execution_count": 7,
   "id": "olympic-client",
   "metadata": {},
   "outputs": [
    {
     "data": {
      "text/plain": [
       "11604666"
      ]
     },
     "execution_count": 7,
     "metadata": {},
     "output_type": "execute_result"
    }
   ],
   "source": [
    "len(readlist)"
   ]
  },
  {
   "cell_type": "code",
   "execution_count": 8,
   "id": "metric-turkish",
   "metadata": {},
   "outputs": [],
   "source": [
    "lengths=[]\n",
    "for s in readlist:\n",
    "    lengths.append(len(str(s)))"
   ]
  },
  {
   "cell_type": "markdown",
   "id": "empty-compression",
   "metadata": {},
   "source": [
    "Min and max read lengths"
   ]
  },
  {
   "cell_type": "code",
   "execution_count": 9,
   "id": "bibliographic-whole",
   "metadata": {},
   "outputs": [
    {
     "data": {
      "text/plain": [
       "(35, 151)"
      ]
     },
     "execution_count": 9,
     "metadata": {},
     "output_type": "execute_result"
    }
   ],
   "source": [
    "min(lengths), max(lengths)"
   ]
  },
  {
   "cell_type": "markdown",
   "id": "instrumental-simple",
   "metadata": {},
   "source": [
    "### Telomere like repeats\n",
    "\n",
    "known telomentic repleat in Homo sapiens\n",
    "\n",
    "- 'TTAGGG'\n",
    "\n",
    "4 patterns in DNA:\n",
    "\n",
    "- TTAGGG #G-quadruplex, direct\n",
    "- GGGATT #reverse\n",
    "- AATCCC #complement\n",
    "- CCCTAA #antisense; reverse complement"
   ]
  },
  {
   "cell_type": "code",
   "execution_count": 182,
   "id": "hungry-presentation",
   "metadata": {},
   "outputs": [],
   "source": [
    "TELOMERE_G='TTAGGG' \n",
    "TELOMERE_R='GGGATT' #tandem repeat of this sequnce contributes insignificantly for RaTG13 SRA reads\n",
    "TELOMERE_C='AATCCC' #tandem repeat of this sequnce contributes insignificantly for RaTG13 SRA reads\n",
    "TELOMERE_RC='CCCTAA' \n",
    "\n",
    "TELOMERE_SEQS=[TELOMERE_G, TELOMERE_RC]\n",
    "TELOMERE_TANDEMS=[x+x for x in TELOMERE_SEQS]"
   ]
  },
  {
   "cell_type": "code",
   "execution_count": 183,
   "id": "cooked-techno",
   "metadata": {},
   "outputs": [],
   "source": [
    "all_motiffs=TELOMERE_TANDEMS\n",
    "all_motiffs.sort(key=len, reverse=True)"
   ]
  },
  {
   "cell_type": "code",
   "execution_count": 184,
   "id": "comprehensive-ensemble",
   "metadata": {},
   "outputs": [
    {
     "data": {
      "text/plain": [
       "2"
      ]
     },
     "execution_count": 184,
     "metadata": {},
     "output_type": "execute_result"
    }
   ],
   "source": [
    "len(all_motiffs)"
   ]
  },
  {
   "cell_type": "code",
   "execution_count": 44,
   "id": "specialized-royal",
   "metadata": {},
   "outputs": [],
   "source": [
    "def motiff_subsearch(readseq, motiff_list, lut):\n",
    "    motiff_list_c=motiff_list.copy()\n",
    "    seqsplit=[]\n",
    "    mc=0\n",
    "    for motiff in motiff_list:\n",
    "        mc=readseq.count(motiff)\n",
    "        if motiff in lut:\n",
    "            lut[motiff]+=mc\n",
    "        else:\n",
    "            lut.update({motiff:mc}) \n",
    "        if mc>0:\n",
    "            seqsplit=readseq.split(motiff)\n",
    "            motiff_list_c.remove(motiff) \n",
    "            return mc, seqsplit, motiff_list_c, lut\n",
    "    return mc, seqsplit, motiff_list_c, lut"
   ]
  },
  {
   "cell_type": "code",
   "execution_count": 45,
   "id": "correct-entertainment",
   "metadata": {},
   "outputs": [],
   "source": [
    "def iterloop(readseq, motiff_list, lut):\n",
    "    mc, seqsplit, motiff_list_c, lut=motiff_subsearch(readseq, motiff_list, lut)\n",
    "    if mc>0 and len(motiff_list_c)>0:\n",
    "        for s in seqsplit:\n",
    "            iterloop(s, motiff_list_c, lut)\n",
    "    return mc, lut"
   ]
  },
  {
   "cell_type": "code",
   "execution_count": 46,
   "id": "ranking-depth",
   "metadata": {},
   "outputs": [],
   "source": [
    "def write_json(fname, data):\n",
    "    with open(fname, 'w') as fout:\n",
    "        json.dump(data, fout)"
   ]
  },
  {
   "cell_type": "code",
   "execution_count": 47,
   "id": "superb-study",
   "metadata": {},
   "outputs": [],
   "source": [
    "def motiff_search(reads, motiff_list, outfile):\n",
    "    lut={}\n",
    "    start_time=time.time()\n",
    "    for idx, read in enumerate(reads):\n",
    "        readseq=str(read)\n",
    "        mc, lut=iterloop(readseq, motiff_list, lut)\n",
    "    if outfile:\n",
    "        write_json(outfile, lut)\n",
    "    return lut"
   ]
  },
  {
   "cell_type": "code",
   "execution_count": 48,
   "id": "personal-confusion",
   "metadata": {},
   "outputs": [],
   "source": [
    "### Test is working"
   ]
  },
  {
   "cell_type": "code",
   "execution_count": 185,
   "id": "patient-means",
   "metadata": {},
   "outputs": [
    {
     "data": {
      "text/plain": [
       "['TTAGGGTTAGGG', 'CCCTAACCCTAA']"
      ]
     },
     "execution_count": 185,
     "metadata": {},
     "output_type": "execute_result"
    }
   ],
   "source": [
    "all_motiffs"
   ]
  },
  {
   "cell_type": "code",
   "execution_count": 50,
   "id": "electric-parameter",
   "metadata": {},
   "outputs": [],
   "source": [
    "reads=['AAGTGAGATTAAGGAAGTATTGGGAAGGAGAT']\n",
    "motiff_list=['GT','AAG','TTA', 'GAGA', 'TTAAGG']\n",
    "motiff_list.sort(key=len, reverse=True)\n",
    "lut=motiff_search(reads, motiff_list, outfile=None)\n",
    "assert lut['TTAAGG'] == 1\n",
    "assert lut['GAGA'] == 2\n",
    "assert lut['AAG'] == 3\n",
    "assert lut['TTA'] == 0\n",
    "assert lut['GT'] == 0"
   ]
  },
  {
   "cell_type": "code",
   "execution_count": 199,
   "id": "touched-petite",
   "metadata": {},
   "outputs": [],
   "source": [
    "reads=['TTAGGGTTAGGGTTAGGGTTAGGGATTAGGGTTAGGG']\n",
    "motiff_list=['TTAGGGTTAGGG','TAGGG']\n",
    "motiff_list.sort(key=len, reverse=True)\n",
    "lut=motiff_search(reads, motiff_list, outfile=None)\n",
    "assert lut['TTAGGGTTAGGG'] == 3\n",
    "assert lut['TAGGG'] == 0"
   ]
  },
  {
   "cell_type": "markdown",
   "id": "obvious-russia",
   "metadata": {},
   "source": [
    "### get Telomere counts"
   ]
  },
  {
   "cell_type": "code",
   "execution_count": 24,
   "id": "fitting-engineering",
   "metadata": {},
   "outputs": [
    {
     "name": "stdout",
     "output_type": "stream",
     "text": [
      "split took 1110.454299211502 seconds\n"
     ]
    }
   ],
   "source": [
    "t_count=0\n",
    "jobs = []\n",
    "threads=20\n",
    "\n",
    "start_time=time.time()\n",
    "splits = np.array_split(readlist, threads)\n",
    "print(f'split took {time.time()-start_time} seconds')"
   ]
  },
  {
   "cell_type": "code",
   "execution_count": 186,
   "id": "surgical-nursery",
   "metadata": {},
   "outputs": [],
   "source": [
    "t_count=0"
   ]
  },
  {
   "cell_type": "code",
   "execution_count": 187,
   "id": "electoral-bandwidth",
   "metadata": {},
   "outputs": [
    {
     "name": "stdout",
     "output_type": "stream",
     "text": [
      "Starting 20 mutithreading processes\n",
      "process 1 started total: 181\n",
      "process 2 started total: 182\n",
      "process 3 started total: 183\n",
      "process 4 started total: 184\n",
      "process 5 started total: 185\n",
      "process 6 started total: 186\n",
      "process 7 started total: 187\n",
      "process 8 started total: 188\n",
      "process 9 started total: 189\n",
      "process 10 started total: 190\n",
      "process 11 started total: 191\n",
      "process 12 started total: 192\n",
      "process 13 started total: 193\n",
      "process 14 started total: 194\n",
      "process 15 started total: 195\n",
      "process 16 started total: 196\n",
      "process 17 started total: 197\n",
      "process 18 started total: 198\n",
      "process 19 started total: 199\n",
      "process 20 started total: 200\n"
     ]
    }
   ],
   "source": [
    "print(f'Starting {threads} mutithreading processes')\n",
    "for nl in splits:\n",
    "    outfile=OUTFILE_BASE+'_'+str(t_count)+'.json'\n",
    "    p = Process(target=motiff_search, args=[nl, all_motiffs, outfile])\n",
    "    jobs.append(p)\n",
    "    p.start()\n",
    "    t_count+=1\n",
    "    print(f'process {t_count} started total: {len(jobs)}', flush=True)\n",
    "\n",
    "for p in jobs:\n",
    "    p.join()"
   ]
  },
  {
   "cell_type": "code",
   "execution_count": 188,
   "id": "coated-trade",
   "metadata": {},
   "outputs": [],
   "source": [
    "datas=[]\n",
    "for i in range(threads):\n",
    "    f = open (f'{OUTFILE_BASE}_{i}.json', \"r\") \n",
    "    data=json.loads(f.read()) \n",
    "    datas.append(data)"
   ]
  },
  {
   "cell_type": "code",
   "execution_count": 189,
   "id": "mexican-marijuana",
   "metadata": {},
   "outputs": [],
   "source": [
    "#or if using single thread\n",
    "#lut=motiff_search(readlist, all_motiffs)"
   ]
  },
  {
   "cell_type": "code",
   "execution_count": 190,
   "id": "rolled-zimbabwe",
   "metadata": {},
   "outputs": [],
   "source": [
    "#stack all the dicts into one\n",
    "lut = {}\n",
    "for dictionary in datas:\n",
    "    for k, v in dictionary.items():\n",
    "        if k in lut:\n",
    "            lut[k] = lut[k]+v\n",
    "        else:\n",
    "            lut[k] = v"
   ]
  },
  {
   "cell_type": "code",
   "execution_count": 191,
   "id": "positive-ambassador",
   "metadata": {},
   "outputs": [
    {
     "data": {
      "text/plain": [
       "dict_values([14875980, 16461424])"
      ]
     },
     "execution_count": 191,
     "metadata": {},
     "output_type": "execute_result"
    }
   ],
   "source": [
    "lut.values()"
   ]
  },
  {
   "cell_type": "code",
   "execution_count": 192,
   "id": "enhanced-picture",
   "metadata": {},
   "outputs": [
    {
     "data": {
      "text/plain": [
       "[<matplotlib.lines.Line2D at 0x7fc79118b160>]"
      ]
     },
     "execution_count": 192,
     "metadata": {},
     "output_type": "execute_result"
    },
    {
     "data": {
      "image/png": "[encoded data removed]",
      "text/plain": [
       "<Figure size 432x288 with 1 Axes>"
      ]
     },
     "metadata": {
      "needs_background": "light"
     },
     "output_type": "display_data"
    }
   ],
   "source": [
    "plt.plot(lut.values())"
   ]
  },
  {
   "cell_type": "markdown",
   "id": "permanent-metallic",
   "metadata": {},
   "source": [
    "Totals of each motiff"
   ]
  },
  {
   "cell_type": "code",
   "execution_count": 193,
   "id": "impressed-temperature",
   "metadata": {},
   "outputs": [],
   "source": [
    "tlut={}\n",
    "for k,v in lut.items():\n",
    "    kl=len(k)\n",
    "    tlut[k]=kl*v"
   ]
  },
  {
   "cell_type": "code",
   "execution_count": 194,
   "id": "arbitrary-laser",
   "metadata": {},
   "outputs": [
    {
     "data": {
      "text/plain": [
       "dict_values([178511760, 197537088])"
      ]
     },
     "execution_count": 194,
     "metadata": {},
     "output_type": "execute_result"
    }
   ],
   "source": [
    "tlut.values()"
   ]
  },
  {
   "cell_type": "code",
   "execution_count": 195,
   "id": "intelligent-winning",
   "metadata": {},
   "outputs": [],
   "source": [
    "key_lengths=[]\n",
    "for k in lut.keys():\n",
    "    key_lengths.append(len(k))"
   ]
  },
  {
   "cell_type": "code",
   "execution_count": 196,
   "id": "hindu-adrian",
   "metadata": {},
   "outputs": [
    {
     "data": {
      "text/plain": [
       "<matplotlib.collections.PathCollection at 0x7fc791175128>"
      ]
     },
     "execution_count": 196,
     "metadata": {},
     "output_type": "execute_result"
    },
    {
     "data": {
      "image/png": "[encoded data removed]",
      "text/plain": [
       "<Figure size 432x288 with 1 Axes>"
      ]
     },
     "metadata": {
      "needs_background": "light"
     },
     "output_type": "display_data"
    }
   ],
   "source": [
    "plt.scatter(key_lengths, lut.values())"
   ]
  },
  {
   "cell_type": "code",
   "execution_count": 197,
   "id": "athletic-sacrifice",
   "metadata": {},
   "outputs": [],
   "source": [
    "### Persentage Telomere-like sequences in SRA file"
   ]
  },
  {
   "cell_type": "code",
   "execution_count": 198,
   "id": "listed-leone",
   "metadata": {},
   "outputs": [
    {
     "name": "stdout",
     "output_type": "stream",
     "text": [
      "22.814767151627528\n"
     ]
    }
   ],
   "source": [
    "total_chars=sum(tlut.values())\n",
    "print((total_chars/sum(lengths))*100)"
   ]
  },
  {
   "cell_type": "code",
   "execution_count": null,
   "id": "after-sperm",
   "metadata": {},
   "outputs": [],
   "source": []
  },
  {
   "cell_type": "code",
   "execution_count": null,
   "id": "higher-glance",
   "metadata": {},
   "outputs": [],
   "source": []
  }
 ],
 "metadata": {
  "kernelspec": {
   "display_name": "Python 3",
   "language": "python",
   "name": "python3"
  },
  "language_info": {
   "codemirror_mode": {
    "name": "ipython",
    "version": 3
   },
   "file_extension": ".py",
   "mimetype": "text/x-python",
   "name": "python",
   "nbconvert_exporter": "python",
   "pygments_lexer": "ipython3",
   "version": "3.6.12"
  }
 },
 "nbformat": 4,
 "nbformat_minor": 5
}
