{
 "cells": [
  {
   "cell_type": "markdown",
   "id": "aerial-manufacturer",
   "metadata": {},
   "source": [
    "## Blast Raw Reads againt the NCBI nt database\n",
    "\n",
    "This code was used to Blast nucleotide sequences from raw reads for sevral Bat CoV's.\n",
    "\n",
    "A local copy of the nt database was used, which was updated on the 21/01/2021.\n",
    "\n",
    "Mincoda with python 3.6 was used as an environment, on a Linux workstation.\n",
    "\n",
    "To reproduce, download the nt database from NCBI,\n",
    "\n",
    "Make sure blast is on path\n",
    "\n",
    "in .bashrc add\n",
    "\n",
    "export PATH=\"$PATH:~/somefolder/ncbi-blast-2.11.0+/bin\"\n",
    "\n",
    "before running this notebook run:\n",
    "\n",
    "export BLASTDB=/somepath/database_directory\n",
    "\n",
    "eg\n",
    "\n",
    "export BLASTDB=/mnt/255GB_ssd/Data/BLAST/blastdb\n",
    "\n",
    "Then install required libraries below into conda environment."
   ]
  },
  {
   "cell_type": "code",
   "execution_count": 20,
   "id": "controversial-conviction",
   "metadata": {},
   "outputs": [],
   "source": [
    "import os\n",
    "import time\n",
    "import pandas as pd\n",
    "import numpy as np\n",
    "from io import StringIO\n",
    "from Bio import SeqIO\n",
    "from Bio.Cluster import distancematrix\n",
    "from Bio.Blast.Applications import NcbiblastnCommandline\n",
    "from Bio.Blast import NCBIWWW\n",
    "from Bio.Blast import NCBIXML\n",
    "import subprocess"
   ]
  },
  {
   "cell_type": "code",
   "execution_count": 2,
   "id": "hydraulic-blood",
   "metadata": {},
   "outputs": [],
   "source": [
    "DATA_PATH='../../'\n",
    "FASTA_PATH = DATA_PATH+'fasta/'\n",
    "COV='RaTG13'\n",
    "BLAST_OUT=DATA_PATH+COV+'/Blastn/'\n",
    "MN996532_2='MN996532_2_RaTG13_complete_genome.fa'\n",
    "SRA_PATH=DATA_PATH+'RaTG13/data/'\n",
    "Sars_SL3_R1='Sars_SL3_R1_171127.fastq'\n",
    "Sars_SL3_R2='Sars_SL3_R2_171127.fastq'\n",
    "DB='nt'"
   ]
  },
  {
   "cell_type": "code",
   "execution_count": 5,
   "id": "indirect-holder",
   "metadata": {},
   "outputs": [
    {
     "name": "stdout",
     "output_type": "stream",
     "text": [
      "Sars_SL3_R1_171127.fastq read took 210.52562999725342 seconds\n"
     ]
    }
   ],
   "source": [
    "readlist=[]\n",
    "idlist=[]\n",
    "f=SRA_PATH+Sars_SL3_R1\n",
    "start_time=time.time()\n",
    "for record in SeqIO.parse(f, \"fastq\"):\n",
    "    idlist.append(record.id)\n",
    "    readlist.append(record.seq)\n",
    "end_time=time.time()\n",
    "print(f'{Sars_SL3_R1} read took {end_time-start_time} seconds')"
   ]
  },
  {
   "cell_type": "markdown",
   "id": "departmental-package",
   "metadata": {},
   "source": [
    "### Local Blast"
   ]
  },
  {
   "cell_type": "code",
   "execution_count": 36,
   "id": "dying-channels",
   "metadata": {},
   "outputs": [],
   "source": [
    "#local BLAST\n",
    "def search(idx, query_string, database_path, outfile):\n",
    "    start_time=time.time()\n",
    "    #percentage identity 95%\n",
    "    per_id = 95\n",
    "    blastn_cline = NcbiblastnCommandline(\n",
    "                                         db=database_path, \n",
    "                                         evalue=0.001,\n",
    "                                         outfmt=5, \n",
    "                                         perc_identity=per_id,\n",
    "                                         max_target_seqs=1, \n",
    "                                         num_threads=6)\n",
    "    out, err = blastn_cline(stdin=query_string)\n",
    "    io_result = StringIO(out)\n",
    "    blast_records = list(NCBIXML.parse(io_result))\n",
    "    for blast_record in blast_records:\n",
    "        if len(blast_record.alignments) == 0:\n",
    "            continue\n",
    "        else:\n",
    "            alignment = blast_record.alignments[0]\n",
    "            title = alignment.title\n",
    "            f.write(f\"{idx}: {title} \\n\")\n",
    "    return \n",
    "    "
   ]
  },
  {
   "cell_type": "code",
   "execution_count": 38,
   "id": "funded-branch",
   "metadata": {},
   "outputs": [],
   "source": [
    "#random reads\n",
    "num_reads=10000\n",
    "rand_vals=list(np.random.choice(len(readlist), num_reads))"
   ]
  },
  {
   "cell_type": "code",
   "execution_count": null,
   "id": "liberal-arrival",
   "metadata": {},
   "outputs": [],
   "source": [
    "hit_data=[]\n",
    "#open file first and write as we go\n",
    "outfile=f'{BLAST_OUT+Sars_SL3_R1.split(\".\")[0]}_{num_reads}_95pct_hits.txt'\n",
    "f= open(outfile,\"a\")\n",
    "for ri in rand_vals:\n",
    "    hit_data.append(search(ri, str(readlist[ri]), DB, f))\n",
    "f.close()"
   ]
  }
 ],
 "metadata": {
  "kernelspec": {
   "display_name": "Python 3",
   "language": "python",
   "name": "python3"
  },
  "language_info": {
   "codemirror_mode": {
    "name": "ipython",
    "version": 3
   },
   "file_extension": ".py",
   "mimetype": "text/x-python",
   "name": "python",
   "nbconvert_exporter": "python",
   "pygments_lexer": "ipython3",
   "version": "3.6.12"
  }
 },
 "nbformat": 4,
 "nbformat_minor": 5
}
