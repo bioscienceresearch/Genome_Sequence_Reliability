{
 "cells": [
  {
   "cell_type": "markdown",
   "id": "documentary-syntax",
   "metadata": {},
   "source": [
    "### Analysis of metatranscriptomic sequencing of Rhinolophus malayanus bats: feces samples(SRR12432009)\n",
    "\n",
    "Blast hit analysis for NCBI accessions:\n",
    "   \n",
    "- Experiment: SRX8927795\n",
    "- Run: SRR12432009\n",
    "    \n",
    "Data can be sourced from here: https://trace.ncbi.nlm.nih.gov/Traces/sra/?run=SRR12432009\n",
    "        \n",
    "All hits beloew have a >95% match to sequences in the NCBI nt database.\n",
    "\n",
    "Dataset methods can be found in:\n",
    "\n",
    "Zhou, H., Chen, X., Hu, T., Li, J., Song, H., Liu, Y., Wang, P., Liu, D., Yang, J., Holmes, E. C., Hughes, A. C., Bi, Y., & Shi, W. (2020). A Novel Bat Coronavirus Closely Related to SARS-CoV-2 Contains Natural Insertions at the S1/S2 Cleavage Site of the Spike Protein. Current Biology, 30(11), 2196-2203.e3. https://doi.org/10.1016/j.cub.2020.05.023"
   ]
  },
  {
   "cell_type": "code",
   "execution_count": 1,
   "id": "processed-camcorder",
   "metadata": {},
   "outputs": [],
   "source": [
    "import pandas as pd\n",
    "from pandas import DataFrame\n",
    "import numpy as np\n",
    "import matplotlib\n",
    "from matplotlib import pyplot as plt\n",
    "from Bio import SeqIO"
   ]
  },
  {
   "cell_type": "code",
   "execution_count": 2,
   "id": "upper-lighter",
   "metadata": {},
   "outputs": [],
   "source": [
    "DATA_PATH='../../'\n",
    "PROJECT='RmYN02'\n",
    "BLAST_OUT=DATA_PATH+PROJECT+'/Blastn/dataframes/'"
   ]
  },
  {
   "cell_type": "markdown",
   "id": "offshore-interference",
   "metadata": {},
   "source": [
    "### Read in data\n",
    "\n",
    "Takes formatted csv file(s) generated in Blast_hit_file_formatter.ipynb as input "
   ]
  },
  {
   "cell_type": "code",
   "execution_count": 4,
   "id": "stretch-calcium",
   "metadata": {},
   "outputs": [],
   "source": [
    "df = pd.read_csv(BLAST_OUT+PROJECT+'_project_blast_hits.csv')"
   ]
  },
  {
   "cell_type": "code",
   "execution_count": 5,
   "id": "crucial-fighter",
   "metadata": {},
   "outputs": [
    {
     "data": {
      "text/plain": [
       "4428"
      ]
     },
     "execution_count": 5,
     "metadata": {},
     "output_type": "execute_result"
    }
   ],
   "source": [
    "len(df)"
   ]
  },
  {
   "cell_type": "markdown",
   "id": "latter-nirvana",
   "metadata": {},
   "source": [
    "### Uniqe sequence hits\n",
    "\n",
    "Get all unique sequence hits, short from most to least frequennt, then plot the frequency\n",
    "\n",
    "Note all percentages calculated below for taxonomic analysis are based on a percentage of the hits."
   ]
  },
  {
   "cell_type": "code",
   "execution_count": 6,
   "id": "alien-roberts",
   "metadata": {},
   "outputs": [],
   "source": [
    "titles=df.text_title.to_list()"
   ]
  },
  {
   "cell_type": "code",
   "execution_count": 7,
   "id": "unlikely-burner",
   "metadata": {},
   "outputs": [],
   "source": [
    "seqs, counts = np.unique(titles, return_counts=True)"
   ]
  },
  {
   "cell_type": "code",
   "execution_count": 8,
   "id": "greater-generation",
   "metadata": {},
   "outputs": [],
   "source": [
    "counts, seqs = zip(*sorted(zip(counts, seqs), reverse=True))"
   ]
  },
  {
   "cell_type": "code",
   "execution_count": 9,
   "id": "perfect-collar",
   "metadata": {},
   "outputs": [
    {
     "data": {
      "text/plain": [
       "[<matplotlib.lines.Line2D at 0x7efc79fa5b00>]"
      ]
     },
     "execution_count": 9,
     "metadata": {},
     "output_type": "execute_result"
    },
    {
     "data": {
      "image/png": "[encoded data removed]",
      "text/plain": [
       "<Figure size 432x288 with 1 Axes>"
      ]
     },
     "metadata": {
      "needs_background": "light"
     },
     "output_type": "display_data"
    }
   ],
   "source": [
    "plt.plot(counts)"
   ]
  },
  {
   "cell_type": "markdown",
   "id": "animal-daisy",
   "metadata": {},
   "source": [
    "Most common ten frequencies"
   ]
  },
  {
   "cell_type": "code",
   "execution_count": 10,
   "id": "eleven-brand",
   "metadata": {},
   "outputs": [
    {
     "data": {
      "text/plain": [
       "(2040, 1293, 74, 59, 59, 53, 36, 34, 28, 26)"
      ]
     },
     "execution_count": 10,
     "metadata": {},
     "output_type": "execute_result"
    }
   ],
   "source": [
    "counts[:10]"
   ]
  },
  {
   "cell_type": "markdown",
   "id": "placed-admission",
   "metadata": {},
   "source": [
    "List all the unique sequence matches (in order from most to least common)"
   ]
  },
  {
   "cell_type": "code",
   "execution_count": 11,
   "id": "massive-convention",
   "metadata": {},
   "outputs": [
    {
     "data": {
      "text/plain": [
       "('Homo sapiens external transcribed spacer 18S ribosomal RNA gene, internal transcribed spacer 1, 5.8S ribosomal RNA gene, internal transcribed spacer 2, 28S ribosomal RNA gene, and external transcribed spacer, complete sequence,',\n",
       " 'Homo sapiens external transcribed spacer 18S ribosomal RNA gene, internal transcribed spacer 1, 5.8S ribosomal RNA gene, internal transcribed spacer 2, 28S ribosomal RNA gene, and external transcribed spacer, complete sequence ,',\n",
       " 'Felis catus Senzu DNA, chromosome: E1, American Shorthair breed,',\n",
       " 'Streptomyces sp. AgN23 genome,',\n",
       " 'Felis catus Senzu DNA, chromosome E1, American Shorthair breed ,',\n",
       " 'PREDICTED: Lontra canadensis 28S ribosomal RNA (LOC116863405), rRNA,',\n",
       " 'Streptomyces sp. AgN23 genome ,',\n",
       " 'PREDICTED: Lontra canadensis 28S ribosomal RNA (LOC116863405), rRNA ,',\n",
       " 'Shigella sonnei strain SE6-1 chromosome, complete genome,',\n",
       " 'PREDICTED: Molossus molossus 28S ribosomal RNA (LOC118627438), rRNA,',\n",
       " 'Methylobacterium brachiatum strain TX0642 chromosome,',\n",
       " 'Cyprinus carpio genome assembly common carp genome ,scaffold 000000549,',\n",
       " 'Cyprinus carpio genome assembly common carp genome ,scaffold 000001762,',\n",
       " 'Shigella sonnei strain SE6-1 chromosome, complete genome ,',\n",
       " 'PREDICTED: Molossus molossus 28S ribosomal RNA (LOC118627438), rRNA ,',\n",
       " 'PREDICTED: Canis lupus familiaris 28S ribosomal RNA (LOC119880519), rRNA,',\n",
       " 'Homo sapiens RNA, 45S pre-ribosomal N4 (RNA45SN4), ribosomal RNA,',\n",
       " 'Cyprinus carpio genome assembly common carp genome, scaffold: LG32, chromosome: 32,',\n",
       " 'Escherichia coli strain EcPF16 chromosome, complete genome,',\n",
       " 'Cyprinus carpio genome assembly common carp genome, scaffold: LG35, chromosome: 35,',\n",
       " 'Cyprinus carpio genome assembly common carp genome ,scaffold 000001762 ,',\n",
       " 'PREDICTED: Canis lupus familiaris 28S ribosomal RNA (LOC119880519), rRNA ,',\n",
       " 'Homo sapiens DNA, chromosome 17, nearly complete genome,',\n",
       " 'Escherichia coli strain T7Express_LysY chromosome, complete genome,',\n",
       " 'Methylobacterium brachiatum strain TX0642 chromosome ,',\n",
       " 'Cyprinus carpio genome assembly common carp genome, scaffold: LG6, chromosome: 6,',\n",
       " 'Cyprinus carpio genome assembly common carp genome ,scaffold 000000549 ,',\n",
       " 'Homo sapiens clone BAC JH8 genomic sequence,',\n",
       " 'Pan troglodytes precursor 48S ribosomal RNA, 18S ribosomal RNA, 5.8S ribosomal RNA, and 28S ribosomal RNA genes, complete sequence,',\n",
       " 'Homo sapiens LHRI_LNC1479.1 lncRNA gene, complete sequence,',\n",
       " 'Homo sapiens DNA, chromosome 17, nearly complete genome ,',\n",
       " 'Danio aesculapii genome assembly, chromosome: 24,',\n",
       " 'Citrobacter farmeri strain AUSMDU00008141, complete genome,',\n",
       " 'Pseudomonas tolaasii strain 2192T genome,',\n",
       " 'PREDICTED: Rhinolophus ferrumequinum mucin 2, oligomeric mucus/gel-forming (MUC2), mRNA,',\n",
       " 'Klebsiella pneumoniae strain KP20194a chromosome, complete genome,',\n",
       " 'Homo sapiens clone BAC JH8 genomic sequence ,',\n",
       " 'Homo sapiens RNA, 45S pre-ribosomal N4 (RNA45SN4), ribosomal RNA ,',\n",
       " 'Cyprinus carpio genome assembly common carp genome, scaffold LG32, chromosome 32 ,',\n",
       " 'Pan troglodytes precursor 48S ribosomal RNA, 18S ribosomal RNA, 5.8S ribosomal RNA, and 28S ribosomal RNA genes, complete sequence ,',\n",
       " 'Odontotermes hainanensis voucher BYU IGC IS107 28S ribosomal RNA gene, partial sequence,',\n",
       " 'Escherichia coli strain EcPF16 chromosome, complete genome ,',\n",
       " 'Escherichia coli strain AH62 chromosome, complete genome,',\n",
       " 'Enterobacteriaceae bacterium strain FGI 57, complete genome,',\n",
       " 'Pseudomonas tolaasii strain 2192T genome ,',\n",
       " 'Proasellus beticus genome assembly, organelle: mitochondrion,',\n",
       " 'PREDICTED: Pan paniscus 18S ribosomal RNA (LOC117978904), rRNA ,',\n",
       " 'PREDICTED: Felis catus uncharacterized LOC111559204 (LOC111559204), ncRNA ,',\n",
       " 'Odontotermes sp. 1 BH-2011 voucher P2S52 28S ribosomal RNA gene, partial sequence ,',\n",
       " 'Odontotermes hainanensis voucher BYU IGC IS107 28S ribosomal RNA gene, partial sequence ,',\n",
       " 'Mixta sp. Marseille-Q2659 partial 16S rRNA gene, strain Marseille-Q2659 ,',\n",
       " 'Homo sapiens RNA, 45S pre-ribosomal N3 (RNA45SN3), ribosomal RNA,',\n",
       " 'Escherichia coli strain EcPF5 chromosome, complete genome ,',\n",
       " 'Cyprinus carpio genome assembly common carp genome, scaffold LG35, chromosome 35 ,',\n",
       " 'Cydia pomonella external transcribed spacer, partial sequence; and 18S ribosomal RNA gene, internal transcribed spacer 1, 5.8S ribosomal RNA gene, internal transcribed spacer 2, and 28S ribosomal RNA gene, complete sequence.,',\n",
       " 'Citrobacter telavivum strain 6105 chromosome, complete genome,',\n",
       " 'Bacillus cytotoxicus strain CH_1 chromosome, complete genome,',\n",
       " 'Aspergillus flavus strain K49 chromosome 7,',\n",
       " 'Zebrafish DNA sequence from clone CH211-119H23 in linkage group 2, complete sequence,',\n",
       " 'Sebaldella termitidis ATCC 33386, complete genome,',\n",
       " 'Rhinolophus malayanus isolate YN-150103 cytochrome oxidase subunit 1 (COI) gene, partial cds; mitochondrial,',\n",
       " 'Pantoea rwandensis strain ND04, complete genome ,',\n",
       " 'PREDICTED: Rhinolophus ferrumequinum mucin 2, oligomeric mucus/gel-forming (MUC2), mRNA ,',\n",
       " 'PREDICTED: Rhinolophus ferrumequinum keratin 18 (KRT18), mRNA ,',\n",
       " 'PREDICTED: Rhinolophus ferrumequinum claudin 4 (CLDN4), mRNA,',\n",
       " 'PREDICTED: Rhinolophus ferrumequinum annexin A2 (ANXA2), mRNA ,',\n",
       " 'PREDICTED: Rhinolophus ferrumequinum PEAK1 related, kinase-activating pseudokinase 1 (PRAG1), mRNA,',\n",
       " 'PREDICTED: Gorilla gorilla gorilla 28S ribosomal RNA (LOC115933043), rRNA,',\n",
       " 'PREDICTED: Felis catus uncharacterized LOC111559204 (LOC111559204), ncRNA,',\n",
       " 'PREDICTED: Brassica napus phosphomannomutase-like (LOC106429590), mRNA,',\n",
       " 'Odontotermes sp. 1 BH-2011 voucher P2S52 28S ribosomal RNA gene, partial sequence,',\n",
       " 'Methylobacterium sp. XJLW chromosome, complete genome ,',\n",
       " 'Leminorella richardii isolate MGYG-HGUT-02385 genome assembly, chromosome 1 ,',\n",
       " 'Klebsiella variicola strain FH-1 chromosome, complete genome,',\n",
       " 'Klebsiella variicola strain FH-1 chromosome, complete genome ,',\n",
       " 'Klebsiella variicola strain FDAARGOS_628 chromosome,',\n",
       " 'Klebsiella variicola strain BM378-2 chromosome, complete genome,',\n",
       " 'Klebsiella pneumoniae strain KP20194a chromosome, complete genome ,',\n",
       " 'Homo sapiens external transcribed spacer 18S ribosomal RNA gene, internal transcribed spacer 1, 5.8S ribosomal RNA gene, internal transcribed spacer 2, 28S ribosomal RNA gene, and external transcribed spacer, complete sequence',\n",
       " 'Homo sapiens clone BAC JH12 genomic sequence,',\n",
       " 'Homo sapiens clone BAC JH12 genomic sequence ,',\n",
       " 'Homo sapiens LHRI_LNC1479.1 lncRNA gene, complete sequence ,',\n",
       " 'Escherichia coli strain T7Express_LysY chromosome, complete genome ,',\n",
       " 'Escherichia coli strain EcPF7 chromosome, complete genome ,',\n",
       " 'Escherichia coli strain EcPF15 chromosome, complete genome,',\n",
       " 'Escherichia coli strain AH62 chromosome, complete genome ,',\n",
       " 'Enterobacter cloacae strain 3849 chromosome, complete genome ,',\n",
       " 'Danio aesculapii genome assembly, chromosome 24 ,',\n",
       " 'Cyprinus carpio genome assembly common carp genome, scaffold LG6, chromosome 6 ,',\n",
       " 'Cyprinus carpio genome assembly common carp genome ,scaffold 000001187,',\n",
       " 'Cyprinus carpio genome assembly common carp genome ,scaffold 000000564,',\n",
       " 'Cyprinus carpio genome assembly common carp genome ,scaffold 000000564 ,',\n",
       " 'Cyprinus carpio genome assembly common carp genome ,scaffold 000000198 ,',\n",
       " 'Cottoperca gobio genome assembly, chromosome: 7,',\n",
       " 'Cloning vector pFosill-2, complete sequence ,',\n",
       " 'Citrobacter sp. Y3 chromosome, complete genome ,',\n",
       " 'Citrobacter farmeri strain AUSMDU00008141, complete genome ,',\n",
       " 'Canis lupus familiaris breed Labrador retriever chromosome 08a,',\n",
       " 'Bat coronavirus strain BetaCoV/Rm/Yunnan/YN02/2019 polyprotein (ORF1ab) gene, partial cds ,',\n",
       " 'Aspergillus flavus strain K49 chromosome 7 ,',\n",
       " 'Artificial DNA sequence synthesized ab initio by DNA polymerase of Thermus thermophilus, clone pTH262,',\n",
       " 'Apibacter raozihei strain HY041 chromosome, complete genome ,',\n",
       " 'Zootermopsis angusticollis internal transcribed spacer 1, partial sequence; 5.8S ribosomal RNA gene and internal transcribed spacer 2, complete sequence; and 28S ribosomal RNA gene, partial sequence,',\n",
       " 'Zerene cesonia actin-5C-like (LOC119832439), mRNA ,',\n",
       " 'Uncultured bacterium clone nby563b09c1 16S ribosomal RNA gene, partial sequence,',\n",
       " 'Uncultured bacterium clone LNH_9_9_11_Pumice.218724 16S ribosomal RNA gene, partial sequence,',\n",
       " 'Uncultured Staphylococcus sp. clone 9215_D04_H04_D4 16S ribosomal RNA gene, partial sequence,',\n",
       " 'Uncultured Enterobacteriales bacterium clone VA17_26 16S ribosomal RNA gene, partial sequence,',\n",
       " 'Tatlockia micdadei strain NZ2016, complete genome,',\n",
       " 'Sus scrofa mRNA, cloneSKNB10072H08, expressed in skin ,',\n",
       " 'Sus scrofa mRNA, clone:SKNB10072H08, expressed in skin,',\n",
       " 'Stenotrophomonas rhizophila strain DSM14405 genome ,',\n",
       " 'Stenotrophomonas maltophilia strain CPBW01 chromosome, complete genome ,',\n",
       " 'Solanum lycopersicum cultivar I-3 chromosome 11 ,',\n",
       " 'Shigella flexneri strain FDAARGOS_690 chromosome ,',\n",
       " 'Severe acute respiratory syndrome coronavirus 2 isolate SARS-CoV-2/human/USA/MD-HP00045/2020, complete genome,',\n",
       " 'Severe acute respiratory syndrome coronavirus 2 isolate SARS-CoV-2/human/USA/DC-HP00059/2020, complete genome,',\n",
       " 'Severe acute respiratory syndrome coronavirus 2 isolate SARS-CoV-2/human/USA/CA-LACPHL-AF00160/2021, complete genome ,',\n",
       " 'Severe acute respiratory syndrome coronavirus 2 isolate SARS-CoV-2/human/USA/CA-CZB-1776/2020 ORF1ab polyprotein (ORF1ab), ORF1a polyprotein (ORF1ab), surface glycoprotein (S), ORF3a protein (ORF3a), envelope protein (E), membrane glycoprotein (M), ORF6 protein (ORF6), ORF7a protein (ORF7a), ORF7b (ORF7b), ORF8 protein (ORF8), nucleocapsid phosphoprotein (N), and ORF10 protein (ORF10) genes, complete cds ,',\n",
       " 'Severe acute respiratory syndrome coronavirus 2 isolate SARS-CoV-2/human/BGD/DNAS_DRICM_isl_19183/2020, complete genome ,',\n",
       " 'Severe acute respiratory syndrome coronavirus 2 isolate SARS-CoV-2/human/BGD/BCSIR_NILMRC_101/2020, complete genome,',\n",
       " 'Severe acute respiratory syndrome coronavirus 2 isolate SARS-CoV-2/human/AUS/NT38/2020 ORF1ab polyprotein (ORF1ab), ORF1a polyprotein (ORF1ab), surface glycoprotein (S), ORF3a protein (ORF3a), envelope protein (E), membrane glycoprotein (M), ORF6 protein (ORF6), ORF7a protein (ORF7a), ORF7b (ORF7b), ORF8 protein (ORF8), nucleocapsid phosphoprotein (N), and ORF10 protein (ORF10) genes, complete cds,',\n",
       " 'Serratia marcescens strain WVU-010 chromosome, complete genome ,',\n",
       " 'Serratia marcescens strain 332 chromosome, complete genome ,',\n",
       " 'Schaalia odontolytica strain FDAARGOS_732 chromosome, complete genome ,',\n",
       " 'Salmonella enterica subsp. enterica serovar Typhi strain CMCST_CEPR_1 chromosome, complete genome ,',\n",
       " 'Salmonella enterica subsp. arizonae strain NCTC7306 genome assembly, chromosome: 1,',\n",
       " 'Rothia mucilaginosa strain FDAARGOS_369 chromosome, complete genome ,',\n",
       " 'Roseococcus sp. NIBR12 chromosome, complete genome,',\n",
       " 'Rhotana sp. JMU-2006 isolate DER08 28S ribosomal RNA gene, partial sequence,',\n",
       " 'Rhotana sp. JMU-2006 isolate DER08 28S ribosomal RNA gene, partial sequence ,',\n",
       " 'Rhodococcus rhodochrous strain EP4 chromosome,',\n",
       " 'Rhinolophus malayanus isolate YN-150096 cytochrome oxidase subunit 1 (COI) gene, partial cds; mitochondrial,',\n",
       " 'Rhinolophus ferrumequinum clone VMRC7-267P18, complete sequence ,',\n",
       " 'Rhinolophus affinis mitochondrion, complete genome,',\n",
       " 'Rheinheimera sp. LHK132 chromosome, complete genome ,',\n",
       " 'Ralstonia solanacearum genome assembly 9 genomes, chromosome : IV,',\n",
       " 'Ralstonia solanacearum genome assembly 9 genomes, chromosome : III,',\n",
       " 'Ralstonia solanacearum genome assembly 9 genomes, chromosome  IV ,',\n",
       " 'Pseudomonas sp. SCB32 chromosome, complete genome ,',\n",
       " 'Pseudomonas putida strain PP112420, complete genome,',\n",
       " 'Pseudomonas putida strain PP112420, complete genome ,',\n",
       " 'Pseudomonas psychrotolerans strain PRS08-11306, complete genome,',\n",
       " 'Pseudomonas psychrotolerans strain CS51 chromosome, complete genome,',\n",
       " 'Pseudomonas psychrotolerans strain CS51 chromosome, complete genome ,',\n",
       " 'Plasmodium ovale genome assembly, chromosome: 13,',\n",
       " 'Pipistrellus pipistrellus genome assembly, chromosome 5 ,',\n",
       " 'Phytobacter diazotrophicus strain UAEU22 chromosome, complete genome ,',\n",
       " 'Phoma sp. 18S ribosomal RNA gene, partial sequence; internal transcribed spacer 1, 5.8S ribosomal RNA gene, and internal transcribed spacer 2, complete sequence; and 28S ribosomal RNA gene, partial sequence ,',\n",
       " 'Pasteurellaceae bacterium Orientalotternb1, complete genome ,',\n",
       " 'Pantoea vagans strain ND02, complete genome ,',\n",
       " 'Pantoea rwandensis strain ND04, complete genome,',\n",
       " 'Pandoraea pulmonicola strain DSM 16583, complete genome,',\n",
       " 'PREDICTED: Vombatus ursinus BAH domain and coiled-coil containing 1 (BAHCC1), mRNA ,',\n",
       " 'PREDICTED: Ursus arctos horribilis 28S ribosomal RNA (LOC113248751), rRNA,',\n",
       " 'PREDICTED: Trachypithecus francoisi uncharacterized LOC117069677 (LOC117069677), ncRNA,',\n",
       " 'PREDICTED: Sus scrofa ribonuclease H2 subunit C (RNASEH2C), mRNA,',\n",
       " 'PREDICTED: Suricata suricatta NFKB inhibitor alpha (NFKBIA), mRNA,',\n",
       " 'PREDICTED: Rhinolophus ferrumequinum ubiquitin C (UBC), transcript variant X2, mRNA,',\n",
       " 'PREDICTED: Rhinolophus ferrumequinum tryptophanyl-tRNA synthetase 1 (WARS1), transcript variant X4, mRNA,',\n",
       " 'PREDICTED: Rhinolophus ferrumequinum trypsin (LOC117018111), mRNA,',\n",
       " 'PREDICTED: Rhinolophus ferrumequinum trypsin (LOC117018111), mRNA ,',\n",
       " 'PREDICTED: Rhinolophus ferrumequinum transcriptional adaptor 3 (TADA3), transcript variant X4, mRNA,',\n",
       " 'PREDICTED: Rhinolophus ferrumequinum transcriptional adaptor 3 (TADA3), transcript variant X4, mRNA ,',\n",
       " 'PREDICTED: Rhinolophus ferrumequinum trafficking protein particle complex 5 (TRAPPC5), transcript variant X2, mRNA,',\n",
       " 'PREDICTED: Rhinolophus ferrumequinum tetratricopeptide repeat and ankyrin repeat containing 1 (TRANK1), transcript variant X2, mRNA,',\n",
       " 'PREDICTED: Rhinolophus ferrumequinum tetratricopeptide repeat and ankyrin repeat containing 1 (TRANK1), transcript variant X1, mRNA ,',\n",
       " 'PREDICTED: Rhinolophus ferrumequinum tet methylcytosine dioxygenase 3 (TET3), mRNA,',\n",
       " 'PREDICTED: Rhinolophus ferrumequinum suppression of tumorigenicity 14 (ST14), mRNA ,',\n",
       " 'PREDICTED: Rhinolophus ferrumequinum strawberry notch homolog 2 (SBNO2), transcript variant X4, mRNA,',\n",
       " 'PREDICTED: Rhinolophus ferrumequinum spermidine/spermine N1-acetyltransferase 1 (SAT1), mRNA ,',\n",
       " 'PREDICTED: Rhinolophus ferrumequinum sorting nexin 8 (SNX8), mRNA,',\n",
       " 'PREDICTED: Rhinolophus ferrumequinum solute carrier family 25 member 25 (SLC25A25), transcript variant X7, mRNA,',\n",
       " 'PREDICTED: Rhinolophus ferrumequinum scribble planar cell polarity protein (SCRIB), transcript variant X7, mRNA,',\n",
       " 'PREDICTED: Rhinolophus ferrumequinum patr class I histocompatibility antigen, A-126 alpha chain-like (LOC117017804), mRNA,',\n",
       " 'PREDICTED: Rhinolophus ferrumequinum occludin (OCLN), transcript variant X5, mRNA ,',\n",
       " 'PREDICTED: Rhinolophus ferrumequinum nuclear receptor binding SET domain protein 1 (NSD1), transcript variant X6, mRNA,',\n",
       " 'PREDICTED: Rhinolophus ferrumequinum myosin heavy chain 9 (MYH9), transcript variant X3, mRNA,',\n",
       " 'PREDICTED: Rhinolophus ferrumequinum myosin IXB (MYO9B), transcript variant X8, mRNA ,',\n",
       " 'PREDICTED: Rhinolophus ferrumequinum mucin 5AC, oligomeric mucus/gel-forming (MUC5AC), mRNA ,',\n",
       " 'PREDICTED: Rhinolophus ferrumequinum mitochondrial carrier 2 (MTCH2), mRNA,',\n",
       " 'PREDICTED: Rhinolophus ferrumequinum midkine (MDK), transcript variant X4, mRNA,',\n",
       " 'PREDICTED: Rhinolophus ferrumequinum lysosomal associated membrane protein 1 (LAMP1), transcript variant X2, mRNA,',\n",
       " 'PREDICTED: Rhinolophus ferrumequinum laminin subunit gamma 2 (LAMC2), mRNA ,',\n",
       " 'PREDICTED: Rhinolophus ferrumequinum keratin 8 (KRT8), mRNA ,',\n",
       " 'PREDICTED: Rhinolophus ferrumequinum keratin 19 (KRT19), mRNA,',\n",
       " 'PREDICTED: Rhinolophus ferrumequinum keratin 19 (KRT19), mRNA ,',\n",
       " 'PREDICTED: Rhinolophus ferrumequinum integrin subunit alpha 6 (ITGA6), transcript variant X2, mRNA,',\n",
       " 'PREDICTED: Rhinolophus ferrumequinum inositol polyphosphate multikinase (IPMK), transcript variant X4, mRNA,',\n",
       " 'PREDICTED: Rhinolophus ferrumequinum inositol polyphosphate multikinase (IPMK), transcript variant X4, mRNA ,',\n",
       " 'PREDICTED: Rhinolophus ferrumequinum heme oxygenase 1 (HMOX1), mRNA,',\n",
       " 'PREDICTED: Rhinolophus ferrumequinum glyoxalase I (GLO1), mRNA ,',\n",
       " 'PREDICTED: Rhinolophus ferrumequinum galectin 3 (LGALS3), transcript variant X2, mRNA ,',\n",
       " 'PREDICTED: Rhinolophus ferrumequinum ferritin heavy chain 1 (FTH1), mRNA,',\n",
       " 'PREDICTED: Rhinolophus ferrumequinum factor interacting with PAPOLA and CPSF1 (FIP1L1), transcript variant X12, mRNA ,',\n",
       " 'PREDICTED: Rhinolophus ferrumequinum epiplakin 1 (EPPK1), transcript variant X2, mRNA ,',\n",
       " 'PREDICTED: Rhinolophus ferrumequinum ephrin A1 (EFNA1), mRNA,',\n",
       " 'PREDICTED: Rhinolophus ferrumequinum ephrin A1 (EFNA1), mRNA ,',\n",
       " 'PREDICTED: Rhinolophus ferrumequinum endoplasmic reticulum-golgi intermediate compartment 1 (ERGIC1), transcript variant X3, mRNA,',\n",
       " 'PREDICTED: Rhinolophus ferrumequinum dual specificity phosphatase 6 (DUSP6), mRNA,',\n",
       " 'PREDICTED: Rhinolophus ferrumequinum dual oxidase 2 (DUOX2), mRNA,',\n",
       " 'PREDICTED: Rhinolophus ferrumequinum coronin 1B (CORO1B), mRNA ,',\n",
       " 'PREDICTED: Rhinolophus ferrumequinum caveolae associated protein 1 (CAVIN1), mRNA,',\n",
       " 'PREDICTED: Rhinolophus ferrumequinum calcium/calmodulin dependent protein kinase II delta (CAMK2D), mRNA ,',\n",
       " 'PREDICTED: Rhinolophus ferrumequinum apolipoprotein B (APOB), mRNA,',\n",
       " 'PREDICTED: Rhinolophus ferrumequinum apolipoprotein A4 (APOA4), mRNA,',\n",
       " 'PREDICTED: Rhinolophus ferrumequinum abhydrolase domain containing 2, acylglycerol lipase (ABHD2), transcript variant X2, mRNA,',\n",
       " 'PREDICTED: Rhinolophus ferrumequinum TOX high mobility group box family member 4 (TOX4), transcript variant X3, mRNA,',\n",
       " 'PREDICTED: Rhinolophus ferrumequinum SEC14 like lipid binding 2 (SEC14L2), mRNA,',\n",
       " 'PREDICTED: Rhinolophus ferrumequinum Rho guanine nucleotide exchange factor 5 (ARHGEF5), transcript variant X2, mRNA ,',\n",
       " 'PREDICTED: Rhinolophus ferrumequinum Ras association domain family member 7 (RASSF7), mRNA,',\n",
       " 'PREDICTED: Rhinolophus ferrumequinum Rac family small GTPase 1 (RAC1), mRNA ,',\n",
       " 'PREDICTED: Rhinolophus ferrumequinum RNA polymerase II subunit A (POLR2A), mRNA ,',\n",
       " 'PREDICTED: Rhinolophus ferrumequinum RAD23 homolog B, nucleotide excision repair protein (RAD23B), transcript variant X2, mRNA ,',\n",
       " 'PREDICTED: Rhinolophus ferrumequinum MICAL like 1 (MICALL1), transcript variant X2, misc_RNA,',\n",
       " 'PREDICTED: Rhinolophus ferrumequinum MAX dimerization protein 1 (MXD1), transcript variant X1, mRNA,',\n",
       " 'PREDICTED: Rhinolophus ferrumequinum MAX dimerization protein 1 (MXD1), transcript variant X1, mRNA ,',\n",
       " 'PREDICTED: Rhinolophus ferrumequinum G protein-coupled receptor class C group 5 member A (GPRC5A), transcript variant X2, mRNA,',\n",
       " 'PREDICTED: Rhinolophus ferrumequinum FERM domain containing 8 (FRMD8), mRNA,',\n",
       " 'PREDICTED: Rhinolophus ferrumequinum F11 receptor (F11R), mRNA ,',\n",
       " 'PREDICTED: Rhinolophus ferrumequinum E74 like ETS transcription factor 3 (ELF3), transcript variant X2, mRNA ,',\n",
       " 'PREDICTED: Rhinolophus ferrumequinum CD151 molecule (Raph blood group) (CD151), transcript variant X8, mRNA,',\n",
       " 'PREDICTED: Rhinolophus ferrumequinum BCL2 interacting protein 5 (BNIP5), mRNA ,',\n",
       " 'PREDICTED: Rhinolophus ferrumequinum BAR/IMD domain containing adaptor protein 2 like 2 (BAIAP2L2), mRNA ,',\n",
       " 'PREDICTED: Rhinolophus ferrumequinum ATPase phospholipid transporting 10B (putative) (ATP10B), mRNA,',\n",
       " 'PREDICTED: Rhinolophus ferrumequinum ATPase Na+/K+ transporting subunit alpha 1 (ATP1A1), mRNA ,',\n",
       " 'PREDICTED: Pteropus alecto protein tyrosine phosphatase, receptor type B (PTPRB), transcript variant X2, mRNA ,',\n",
       " 'PREDICTED: Physeter catodon radical S-adenosyl methionine domain containing 2 (RSAD2), mRNA,',\n",
       " 'PREDICTED: Phyllostomus discolor tubulin beta-2A chain (LOC114497283), transcript variant X1, mRNA,',\n",
       " 'PREDICTED: Papio anubis 28S ribosomal RNA (LOC116273624), rRNA,',\n",
       " 'PREDICTED: Papio anubis 28S ribosomal RNA (LOC116273624), rRNA ,',\n",
       " 'PREDICTED: Pan paniscus 18S ribosomal RNA (LOC117978904), rRNA,',\n",
       " 'PREDICTED: Ostrinia furnacalis protein phosphatase PP2A 55 kDa regulatory subunit-like (LOC114351255), transcript variant X5, mRNA ,',\n",
       " 'PREDICTED: Mustela erminea collagen alpha-1(I) chain-like (LOC116577990), mRNA,',\n",
       " 'PREDICTED: Hipposideros armiger ubiquitin carboxyl-terminal hydrolase 43-like (LOC109378111), partial mRNA,',\n",
       " 'PREDICTED: Hipposideros armiger polymeric immunoglobulin receptor (PIGR), mRNA,',\n",
       " 'PREDICTED: Hipposideros armiger keratin, type I cytoskeletal 19-like (LOC109395728), partial mRNA,',\n",
       " 'PREDICTED: Hipposideros armiger inositol-trisphosphate 3-kinase C (ITPKC), mRNA,',\n",
       " 'PREDICTED: Hipposideros armiger heterogeneous nuclear ribonucleoprotein F (HNRNPF), transcript variant X7, mRNA,',\n",
       " 'PREDICTED: Hipposideros armiger filamin B (FLNB), transcript variant X5, mRNA,',\n",
       " 'PREDICTED: Hipposideros armiger family with sequence similarity 102 member A (FAM102A), mRNA,',\n",
       " 'PREDICTED: Hipposideros armiger cadherin related family member 2 (CDHR2), mRNA ,',\n",
       " 'PREDICTED: Hipposideros armiger afadin, adherens junction formation factor (AFDN), transcript variant X14, mRNA,',\n",
       " 'PREDICTED: Hipposideros armiger Kruppel like factor 5 (KLF5), mRNA,',\n",
       " 'PREDICTED: Hipposideros armiger JunB proto-oncogene, AP-1 transcription factor subunit (JUNB), mRNA,',\n",
       " 'PREDICTED: Hipposideros armiger JunB proto-oncogene, AP-1 transcription factor subunit (JUNB), mRNA ,',\n",
       " 'PREDICTED: Heterocephalus glaber uncharacterized LOC110348636 (LOC110348636), transcript variant X42, ncRNA,',\n",
       " 'PREDICTED: Heterocephalus glaber uncharacterized LOC110348636 (LOC110348636), transcript variant X42, ncRNA ,',\n",
       " 'PREDICTED: Heterocephalus glaber uncharacterized LOC110348636 (LOC110348636), transcript variant X3, ncRNA,',\n",
       " 'PREDICTED: Gorilla gorilla gorilla 28S ribosomal RNA (LOC115933043), rRNA ,',\n",
       " 'PREDICTED: Castor canadensis uncharacterized LOC109695614 (LOC109695614), transcript variant X1, ncRNA,',\n",
       " 'PREDICTED: Canis lupus familiaris 28S ribosomal RNA (LOC119878257), rRNA,',\n",
       " 'PREDICTED: Canis lupus familiaris 28S ribosomal RNA (LOC119877202), rRNA ,',\n",
       " 'PREDICTED: Acinonyx jubatus histone H2B type 1-K (LOC106988064), mRNA ,',\n",
       " 'Ovis aries actin beta (ACTB), mRNA ,',\n",
       " 'Oryza sativa Indica Group cultivar Shuhui498 chromosome 8 sequence,',\n",
       " 'Odontotermes sp. A TB-2017 mitochondrion, complete genome,',\n",
       " 'Mus musculus chromosome 3, clone RP23-142D9, complete sequence ,',\n",
       " 'Morganella morganii strain FDAARGOS_1085 chromosome, complete genome ,',\n",
       " 'Moraxella osloensis strain 271 16S ribosomal RNA gene, partial sequence,',\n",
       " 'Microtermes obesi mitochondrion, complete genome ,',\n",
       " 'Methylobacterium sp. XJLW chromosome, complete genome,',\n",
       " 'Methylobacterium sp. WL1 chromosome, complete genome ,',\n",
       " 'Methylobacterium populi DNA, complete genome,',\n",
       " 'Massilia oculi strain CCUG 43427 chromosome, complete genome ,',\n",
       " 'Malassezia restricta CBS 7877 chromosome VI ,',\n",
       " 'Lutra lutra genome assembly, chromosome: 18,',\n",
       " 'Lutra lutra genome assembly, chromosome: 17,',\n",
       " 'Lutra lutra genome assembly, chromosome: 16,',\n",
       " 'Lutra lutra genome assembly, chromosome 17 ,',\n",
       " 'Lutra lutra genome assembly, chromosome 16 ,',\n",
       " 'Leclercia sp. W17 chromosome, complete genome ,',\n",
       " 'Lactococcus garvieae strain JJJN1 chromosome, complete genome ,',\n",
       " 'Klebsiella variicola strain LEMB11 chromosome, complete genome,',\n",
       " 'Klebsiella variicola strain GJ3, complete genome,',\n",
       " 'Klebsiella pneumoniae strain TK421 chromosome, complete genome ,',\n",
       " 'Klebsiella aerogenes strain 035 chromosome, complete genome,',\n",
       " 'Ipomoea trifida cultivar NCNSP0306 chromosome 2 ,',\n",
       " 'Ipomoea trifida cultivar NCNSP0306 chromosome 15 ,',\n",
       " 'Human DNA sequence from clone RP11-8J9 on chromosome 1, complete sequence,',\n",
       " 'Human DNA sequence from clone RP11-56M3 on chromosome 10, complete sequence,',\n",
       " 'Human DNA sequence from clone RP11-56M3 on chromosome 10, complete sequence ,',\n",
       " 'Human 28S ribosomal RNA gene, complete cds,',\n",
       " 'Homo sapiens lncAB371.6 lncRNA gene, complete sequence,',\n",
       " 'Homo sapiens glycogenin 1 (GYG1), RefSeqGene on chromosome 3,',\n",
       " 'Homo sapiens genomic sequence surrounding NotI site, clone NL1-FK23RS ,',\n",
       " 'Homo sapiens genomic sequence surrounding NotI site, clone NB1-088R,',\n",
       " 'Homo sapiens genomic sequence surrounding NotI site, clone NB1-088R ,',\n",
       " 'Homo sapiens clone fa1051 genomic sequence,',\n",
       " 'Homo sapiens clone fa1051 genomic sequence ,',\n",
       " 'Homo sapiens clone BAC JH5 genomic sequence,',\n",
       " 'Homo sapiens chromosome 11, clone CTD-2381F24, complete sequence ,',\n",
       " 'Homo sapiens RNA, 28S ribosomal N3 (RNA28SN3), ribosomal RNA,',\n",
       " 'Homo sapiens DNA, sequence_id: unplaced_0550,',\n",
       " 'Homo sapiens DNA, sequence_id unplaced_0469 ,',\n",
       " 'Homo sapiens BAC clone VMRC64-224M22 from chromosome unknown, complete sequence,',\n",
       " 'Hirundo smithii voucher B-39509 external transcribed spacer, partial sequence; 18S ribosomal RNA gene, complete sequence; and internal transcribed spacer 1, partial sequence,',\n",
       " 'Hipposideros armiger clone NEAM15 microsatellite sequence,',\n",
       " 'Haemophilus parahaemolyticus strain NEB129 chromosome, complete genome ,',\n",
       " 'Gorilla gorilla precursor 48S ribosomal RNA, 18S ribosomal RNA, 5.8S ribosomal RNA, and 28S ribosomal RNA genes, complete sequence ,',\n",
       " 'Felis catus Senzu DNA, chromosome: F1, American Shorthair breed,',\n",
       " 'Felis catus Senzu DNA, chromosome: E2, American Shorthair breed,',\n",
       " 'Felis catus Senzu DNA, chromosome E2, American Shorthair breed ,',\n",
       " 'Eukaryotic synthetic construct chromosome 17 >gi|1549096955|gb|CP034520.1| Eukaryotic synthetic construct chromosome 17,',\n",
       " 'Eukaryotic synthetic construct chromosome 14 ,',\n",
       " 'Escherichia coli strain SCU-397 chromosome,',\n",
       " 'Escherichia coli strain SCU-121 chromosome, complete genome,',\n",
       " 'Escherichia coli strain SCU-121 chromosome, complete genome ,',\n",
       " 'Escherichia coli strain RM13322 chromosome, complete genome,',\n",
       " 'Escherichia coli strain EcPF7 chromosome, complete genome,',\n",
       " 'Escherichia coli strain EcPF40 chromosome, complete genome,',\n",
       " 'Escherichia coli strain EcPF15 chromosome, complete genome ,',\n",
       " 'Escherichia coli strain CP8-3_Sichuan chromosome, complete genome,',\n",
       " 'Escherichia coli strain CP61_Sichuan chromosome, complete genome,',\n",
       " 'Escherichia coli YJ6 DNA, complete genome,',\n",
       " 'Escherichia coli YJ6 DNA, complete genome ,',\n",
       " 'Escherichia coli O157:H7 strain USDA5905 chromosome, complete genome,',\n",
       " 'Enterococcus mundtii 15-1A DNA, complete genome,',\n",
       " 'Enterobacteriaceae bacterium strain FGI 57, complete genome ,',\n",
       " 'Enterobacter sp. 18A13 DNA, complete genome,',\n",
       " 'Enterobacter sp. 18A13 DNA, complete genome ,',\n",
       " 'Enterobacter roggenkampii strain WCHER090065 chromosome, complete genome,',\n",
       " 'Enterobacter hormaechei strain Y233 chromosome, complete genome,',\n",
       " 'Enterobacter hormaechei strain F2 chromosome, complete genome,',\n",
       " 'Enterobacter hormaechei strain EGYMCRVIM chromosome, complete genome,',\n",
       " 'Enterobacter cloacae strain 3849 chromosome, complete genome,',\n",
       " 'Enterobacter cancerogenus strain MiY-F chromosome, complete genome,',\n",
       " 'Enterobacter cancerogenus strain CR-Eb1 chromosome, complete genome,',\n",
       " 'Enterobacter cancerogenus strain CR-Eb1 chromosome, complete genome ,',\n",
       " 'Drosophila busckii chromosome 3L sequence,',\n",
       " 'Desulfococcus multivorans strain DSM 2059 chromosome, complete genome,',\n",
       " 'Delftia tsuruhatensis strain TR1180 chromosome, complete genome ,',\n",
       " 'Delftia sp. Cs1-4, complete genome ,',\n",
       " 'Dactylioglypha sp. TOR-DNA-582 28S ribosomal RNA gene, partial sequence,',\n",
       " 'Cyprinus carpio genome assembly common carp genome, scaffold: LG8, chromosome: 8,',\n",
       " 'Cyprinus carpio genome assembly common carp genome, scaffold: LG43, chromosome: 43,',\n",
       " 'Cyprinus carpio genome assembly common carp genome, scaffold: LG21, chromosome: 21,',\n",
       " 'Cyprinus carpio genome assembly common carp genome, scaffold: LG14, chromosome: 14,',\n",
       " 'Cyprinus carpio genome assembly common carp genome, scaffold LG26, chromosome 26 ,',\n",
       " 'Cyprinus carpio genome assembly common carp genome ,scaffold 000028846,',\n",
       " 'Cyprinus carpio genome assembly common carp genome ,scaffold 000028846 ,',\n",
       " 'Cyprinus carpio genome assembly common carp genome ,scaffold 000016625,',\n",
       " 'Cyprinus carpio genome assembly common carp genome ,scaffold 000005438 ,',\n",
       " 'Cyprinus carpio genome assembly common carp genome ,scaffold 000002509 ,',\n",
       " 'Cyprinus carpio genome assembly common carp genome ,scaffold 000002076,',\n",
       " 'Cyprinus carpio genome assembly common carp genome ,scaffold 000002076 ,',\n",
       " 'Cyprinus carpio genome assembly common carp genome ,scaffold 000002034 ,',\n",
       " 'Cyprinus carpio genome assembly common carp genome ,scaffold 000001964,',\n",
       " 'Cyprinus carpio genome assembly common carp genome ,scaffold 000001344,',\n",
       " 'Cyprinus carpio genome assembly common carp genome ,scaffold 000001344 ,',\n",
       " 'Cyprinus carpio genome assembly common carp genome ,scaffold 000001187 ,',\n",
       " 'Cyprinus carpio genome assembly common carp genome ,scaffold 000000529,',\n",
       " 'Cyprinus carpio genome assembly common carp genome ,scaffold 000000452 ,',\n",
       " 'Cottoperca gobio genome assembly, chromosome: 13,',\n",
       " 'Cottoperca gobio genome assembly, chromosome 7 ,',\n",
       " 'Corynebacterium kroppenstedtii strain DSM 44385 23S ribosomal RNA gene, complete sequence ,',\n",
       " 'Colletotrichum orchidophilum cellulase (CORC01_05940), partial mRNA ,',\n",
       " 'Cloning vector pMSCV-syn-Gephyrin.FingR-GFP, complete sequence,',\n",
       " 'Cloning vector pCA-DEST2430, complete sequence ,',\n",
       " 'Cloning vector pAAV-EF1A-Gephyrin.FingR-GFP-CCR5TC, complete sequence,',\n",
       " 'Citrobacter telavivum strain 6105 chromosome, complete genome ,',\n",
       " 'Citrobacter sp. Y3 chromosome, complete genome,',\n",
       " 'Citrobacter amalonaticus strain FDAARGOS_122, complete genome ,',\n",
       " 'Citrobacter amalonaticus strain 133355-SW-C4-Cam chromosome, complete genome,',\n",
       " 'Cedecea sp. FDAARGOS_727 chromosome ,',\n",
       " 'Candidatus Adiutrix intracellularis Adiu2019 DNA, complete genome,',\n",
       " 'Burkholderia sp. PAMC 26561 chromosome 2, complete sequence ,',\n",
       " 'Bat coronavirus strain BetaCoV/Rm/Yunnan/YN02/2019 spike protein (S) gene, partial cds,',\n",
       " 'Bat coronavirus strain BetaCoV/Rm/Yunnan/YN02/2019 spike protein (S) gene, partial cds ,',\n",
       " 'Bat coronavirus strain BetaCoV/Rm/Yunnan/YN02/2019 polyprotein (ORF1ab) gene, partial cds,',\n",
       " 'Bat coronavirus RacCS271, partial genome,',\n",
       " 'Bat coronavirus RacCS271, partial genome ,',\n",
       " 'Bat coronavirus RaTG13, complete genome ,',\n",
       " 'Bacillus pseudomycoides strain BTZ, complete sequence,',\n",
       " 'Bacillus pseudomycoides strain BTZ, complete sequence ,',\n",
       " 'Bacillus cytotoxicus strain CH_1 chromosome, complete genome ,',\n",
       " 'Bacillus albus strain DLOU-Yingkou chromosome, complete genome ,',\n",
       " 'Avocet picornavirus B isolate MW14 genomic sequence,',\n",
       " 'Aureobasidium namibiae CBS 147.97 ubiquitin-40S ribosomal protein S27a partial mRNA,',\n",
       " 'Atlantibacter hermannii strain 78-1320 chromosome, complete genome ,',\n",
       " 'Aspergillus salinicola strain UBOCC-A-118062 large subunit ribosomal RNA gene, partial sequence ,',\n",
       " 'Arthrobacter sp. strain JJ-1 16S ribosomal RNA gene, partial sequence ,',\n",
       " 'Arthrobacter sp. ZXY-2, complete genome,',\n",
       " 'Apibacter raozihei strain HY041 chromosome, complete genome,',\n",
       " 'Aphantopus hyperantus genome assembly, chromosome: 25,',\n",
       " 'Ancistrotermes sp. 1 BH-2011 voucher C2T10W1 28S ribosomal RNA gene, partial sequence >gi|336171007|gb|JF923399.1| Ancistrotermes sp. 1 BH-2011 voucher Tri1T7S2 28S ribosomal RNA gene, partial sequence,')"
      ]
     },
     "execution_count": 11,
     "metadata": {},
     "output_type": "execute_result"
    }
   ],
   "source": [
    "seqs"
   ]
  },
  {
   "cell_type": "markdown",
   "id": "furnished-lunch",
   "metadata": {},
   "source": [
    "For SRR12432009 we can see that reads are dominated by Homo sapiens external transcribed spacer 18S ribosomal RNA gene. "
   ]
  },
  {
   "cell_type": "markdown",
   "id": "actual-gazette",
   "metadata": {},
   "source": [
    "Percentage of human sequence matches in the raw reads"
   ]
  },
  {
   "cell_type": "code",
   "execution_count": 12,
   "id": "instructional-distance",
   "metadata": {},
   "outputs": [
    {
     "name": "stdout",
     "output_type": "stream",
     "text": [
      "Homo sapiens percentage: 77.03252032520325\n",
      "Homo sapiens external transcribed spacer 18S ribosomal RNA gene percentage: 75.31616982836495\n"
     ]
    }
   ],
   "source": [
    "human = [x for x in titles if 'Human' in x]\n",
    "homo_sapiens = [x for x in titles if 'Homo sapiens' in x]\n",
    "homo_sapiens_18s = [x for x in titles if 'Homo sapiens external transcribed spacer 18S' in x]\n",
    "print(f'Homo sapiens percentage: {((len(human)+len(homo_sapiens))/len(titles))*100}')\n",
    "print(f'Homo sapiens external transcribed spacer 18S ribosomal RNA gene percentage: {((len(homo_sapiens_18s))/len(titles))*100}')"
   ]
  },
  {
   "cell_type": "code",
   "execution_count": 13,
   "id": "dutch-printer",
   "metadata": {},
   "outputs": [],
   "source": [
    "non_human = [x for x in titles if not 'human' in x.lower()]\n",
    "non_human = [x for x in non_human if not 'homo sapiens' in x.lower()]\n",
    "non_h_seqs, non_h_counts = np.unique(non_human, return_counts=True)\n",
    "non_h_counts, non_h_seqs = zip(*sorted(zip(non_h_counts, non_h_seqs), reverse=True))"
   ]
  },
  {
   "cell_type": "code",
   "execution_count": 14,
   "id": "racial-ratio",
   "metadata": {},
   "outputs": [
    {
     "data": {
      "text/plain": [
       "[<matplotlib.lines.Line2D at 0x7efc79eb46a0>]"
      ]
     },
     "execution_count": 14,
     "metadata": {},
     "output_type": "execute_result"
    },
    {
     "data": {
      "image/png": "[encoded data removed]",
      "text/plain": [
       "<Figure size 432x288 with 1 Axes>"
      ]
     },
     "metadata": {
      "needs_background": "light"
     },
     "output_type": "display_data"
    }
   ],
   "source": [
    "plt.plot(non_h_counts)"
   ]
  },
  {
   "cell_type": "markdown",
   "id": "steady-badge",
   "metadata": {},
   "source": [
    "### Bat sequence content\n",
    "\n",
    "Calculate percent of the following bat species and covs as percentage of the blast hits"
   ]
  },
  {
   "cell_type": "code",
   "execution_count": 37,
   "id": "becoming-addition",
   "metadata": {},
   "outputs": [],
   "source": [
    "bats=['Rhinolophus','Hipposideros', 'Bat', 'Pipistrellus']"
   ]
  },
  {
   "cell_type": "code",
   "execution_count": 38,
   "id": "future-refund",
   "metadata": {},
   "outputs": [],
   "source": [
    "bat_r = [x for x in titles if 'rhinolophus' in x.lower()]\n",
    "bat_b = [x for x in titles if 'bat coronavirus' in x.lower()]\n",
    "bat_p = [x for x in titles if 'pipistrellus' in x.lower()]\n",
    "bat_h = [x for x in titles if 'hipposideros' in x.lower()]"
   ]
  },
  {
   "cell_type": "code",
   "execution_count": 39,
   "id": "numeric-intellectual",
   "metadata": {},
   "outputs": [
    {
     "name": "stdout",
     "output_type": "stream",
     "text": [
      "Bat percentage: 2.4841915085817527\n"
     ]
    }
   ],
   "source": [
    "bat_tot=len(bat_r)+len(bat_b)+len(bat_p)+len(bat_h)\n",
    "print(f'Bat percentage: {(bat_tot/len(titles))*100}')"
   ]
  },
  {
   "cell_type": "markdown",
   "id": "infrared-oakland",
   "metadata": {},
   "source": [
    "### Other interesting Species and contaminants\n",
    "\n",
    "Two other items in hit sequence matches is the abundance of carp, and also detection of 5 cloning vector sequences in this run of 4428 random blast hits."
   ]
  },
  {
   "cell_type": "code",
   "execution_count": 40,
   "id": "continued-environment",
   "metadata": {},
   "outputs": [],
   "source": [
    "carp=[x for x in titles if 'carpio' in x]"
   ]
  },
  {
   "cell_type": "code",
   "execution_count": 41,
   "id": "liquid-monitor",
   "metadata": {},
   "outputs": [
    {
     "name": "stdout",
     "output_type": "stream",
     "text": [
      "Carp percantage: 2.935862691960253\n"
     ]
    }
   ],
   "source": [
    "print(f'Carp percantage: {(len(carp)/len(titles))*100}')"
   ]
  },
  {
   "cell_type": "markdown",
   "id": "latest-liability",
   "metadata": {},
   "source": [
    "### Cloning vectors"
   ]
  },
  {
   "cell_type": "code",
   "execution_count": 43,
   "id": "endless-thousand",
   "metadata": {},
   "outputs": [],
   "source": [
    "clonig_vectors=[x for x in titles if x.startswith('Cloning vector')]"
   ]
  },
  {
   "cell_type": "code",
   "execution_count": 44,
   "id": "iraqi-society",
   "metadata": {},
   "outputs": [
    {
     "data": {
      "text/plain": [
       "['Cloning vector pCA-DEST2430, complete sequence ,',\n",
       " 'Cloning vector pFosill-2, complete sequence ,',\n",
       " 'Cloning vector pFosill-2, complete sequence ,',\n",
       " 'Cloning vector pAAV-EF1A-Gephyrin.FingR-GFP-CCR5TC, complete sequence,',\n",
       " 'Cloning vector pMSCV-syn-Gephyrin.FingR-GFP, complete sequence,']"
      ]
     },
     "execution_count": 44,
     "metadata": {},
     "output_type": "execute_result"
    }
   ],
   "source": [
    "clonig_vectors"
   ]
  },
  {
   "cell_type": "code",
   "execution_count": 45,
   "id": "nominated-yugoslavia",
   "metadata": {},
   "outputs": [
    {
     "name": "stdout",
     "output_type": "stream",
     "text": [
      "Total number of cloning vector sequences detected: 7\n"
     ]
    }
   ],
   "source": [
    "cv_count=[]\n",
    "for cv in clonig_vectors:\n",
    "    cv_count.append(titles.count(cv))\n",
    "print(f'Total number of cloning vector sequences detected: {sum(cv_count)}')"
   ]
  },
  {
   "cell_type": "code",
   "execution_count": 46,
   "id": "apart-crime",
   "metadata": {},
   "outputs": [],
   "source": [
    "artifical=[x for x in titles if 'artificial' in x.lower()]\n",
    "synthetic=[x for x in titles if 'synthetic' in x.lower()]"
   ]
  },
  {
   "cell_type": "code",
   "execution_count": 47,
   "id": "superb-nation",
   "metadata": {},
   "outputs": [
    {
     "data": {
      "text/plain": [
       "(['Artificial DNA sequence synthesized ab initio by DNA polymerase of Thermus thermophilus, clone pTH262,',\n",
       "  'Artificial DNA sequence synthesized ab initio by DNA polymerase of Thermus thermophilus, clone pTH262,'],\n",
       " ['Eukaryotic synthetic construct chromosome 14 ,',\n",
       "  'Eukaryotic synthetic construct chromosome 17 >gi|1549096955|gb|CP034520.1| Eukaryotic synthetic construct chromosome 17,'])"
      ]
     },
     "execution_count": 47,
     "metadata": {},
     "output_type": "execute_result"
    }
   ],
   "source": [
    "artifical, synthetic"
   ]
  },
  {
   "cell_type": "markdown",
   "id": "endangered-married",
   "metadata": {},
   "source": [
    "### Get indexes of synthetic sequences\n",
    "\n",
    "idx is the zero indexed value of each raw read"
   ]
  },
  {
   "cell_type": "code",
   "execution_count": 48,
   "id": "composite-coral",
   "metadata": {},
   "outputs": [],
   "source": [
    "cv_df=df.loc[df['text_title'].isin(clonig_vectors)]"
   ]
  },
  {
   "cell_type": "code",
   "execution_count": 49,
   "id": "appreciated-picnic",
   "metadata": {},
   "outputs": [
    {
     "data": {
      "text/html": [
       "<div>\n",
       "<style scoped>\n",
       "    .dataframe tbody tr th:only-of-type {\n",
       "        vertical-align: middle;\n",
       "    }\n",
       "\n",
       "    .dataframe tbody tr th {\n",
       "        vertical-align: top;\n",
       "    }\n",
       "\n",
       "    .dataframe thead th {\n",
       "        text-align: right;\n",
       "    }\n",
       "</style>\n",
       "<table border=\"1\" class=\"dataframe\">\n",
       "  <thead>\n",
       "    <tr style=\"text-align: right;\">\n",
       "      <th></th>\n",
       "      <th>idx</th>\n",
       "      <th>title</th>\n",
       "      <th>accession</th>\n",
       "      <th>hit_id</th>\n",
       "      <th>length</th>\n",
       "      <th>query_length</th>\n",
       "      <th>text_title</th>\n",
       "      <th>run</th>\n",
       "      <th>fastq</th>\n",
       "    </tr>\n",
       "  </thead>\n",
       "  <tbody>\n",
       "    <tr>\n",
       "      <th>427</th>\n",
       "      <td>18650610</td>\n",
       "      <td>gi|1339549110|gb|MG188316.1| Cloning...</td>\n",
       "      <td>NaN</td>\n",
       "      <td>NaN</td>\n",
       "      <td>NaN</td>\n",
       "      <td>NaN</td>\n",
       "      <td>Cloning vector pCA-DEST2430, complete sequence ,</td>\n",
       "      <td>0</td>\n",
       "      <td>BetaCoV_bat_Yunnan_RmYN02_2019_2.fq</td>\n",
       "    </tr>\n",
       "    <tr>\n",
       "      <th>562</th>\n",
       "      <td>2185058</td>\n",
       "      <td>gi|394782697|gb|JX069762.1| Cloning v...</td>\n",
       "      <td>NaN</td>\n",
       "      <td>NaN</td>\n",
       "      <td>NaN</td>\n",
       "      <td>NaN</td>\n",
       "      <td>Cloning vector pFosill-2, complete sequence ,</td>\n",
       "      <td>0</td>\n",
       "      <td>BetaCoV_bat_Yunnan_RmYN02_2019_2.fq</td>\n",
       "    </tr>\n",
       "    <tr>\n",
       "      <th>571</th>\n",
       "      <td>26683341</td>\n",
       "      <td>gi|394782697|gb|JX069762.1| Cloning ...</td>\n",
       "      <td>NaN</td>\n",
       "      <td>NaN</td>\n",
       "      <td>NaN</td>\n",
       "      <td>NaN</td>\n",
       "      <td>Cloning vector pFosill-2, complete sequence ,</td>\n",
       "      <td>0</td>\n",
       "      <td>BetaCoV_bat_Yunnan_RmYN02_2019_2.fq</td>\n",
       "    </tr>\n",
       "    <tr>\n",
       "      <th>64</th>\n",
       "      <td>15046421</td>\n",
       "      <td>gi|1860248574|gb|MT612432.1| Cloning vector p...</td>\n",
       "      <td>MT612432</td>\n",
       "      <td>gi|1860248574|gb|MT612432.1|</td>\n",
       "      <td>7010.0</td>\n",
       "      <td>150.0</td>\n",
       "      <td>Cloning vector pAAV-EF1A-Gephyrin.FingR-GFP-CC...</td>\n",
       "      <td>1</td>\n",
       "      <td>BetaCoV_bat_Yunnan_RmYN02_2019_1.fq</td>\n",
       "    </tr>\n",
       "    <tr>\n",
       "      <th>116</th>\n",
       "      <td>26860175</td>\n",
       "      <td>gi|1860248578|gb|MT612434.1| Cloning vector p...</td>\n",
       "      <td>MT612434</td>\n",
       "      <td>gi|1860248578|gb|MT612434.1|</td>\n",
       "      <td>7231.0</td>\n",
       "      <td>150.0</td>\n",
       "      <td>Cloning vector pMSCV-syn-Gephyrin.FingR-GFP, c...</td>\n",
       "      <td>1</td>\n",
       "      <td>BetaCoV_bat_Yunnan_RmYN02_2019_1.fq</td>\n",
       "    </tr>\n",
       "  </tbody>\n",
       "</table>\n",
       "</div>"
      ],
      "text/plain": [
       "          idx                                              title  \\\n",
       "427  18650610            gi|1339549110|gb|MG188316.1| Cloning...   \n",
       "562   2185058           gi|394782697|gb|JX069762.1| Cloning v...   \n",
       "571  26683341            gi|394782697|gb|JX069762.1| Cloning ...   \n",
       "64   15046421   gi|1860248574|gb|MT612432.1| Cloning vector p...   \n",
       "116  26860175   gi|1860248578|gb|MT612434.1| Cloning vector p...   \n",
       "\n",
       "                  accession                          hit_id  length  \\\n",
       "427                     NaN                             NaN     NaN   \n",
       "562                     NaN                             NaN     NaN   \n",
       "571                     NaN                             NaN     NaN   \n",
       "64    MT612432                gi|1860248574|gb|MT612432.1|   7010.0   \n",
       "116   MT612434                gi|1860248578|gb|MT612434.1|   7231.0   \n",
       "\n",
       "     query_length                                         text_title  run  \\\n",
       "427           NaN   Cloning vector pCA-DEST2430, complete sequence ,    0   \n",
       "562           NaN      Cloning vector pFosill-2, complete sequence ,    0   \n",
       "571           NaN      Cloning vector pFosill-2, complete sequence ,    0   \n",
       "64          150.0  Cloning vector pAAV-EF1A-Gephyrin.FingR-GFP-CC...    1   \n",
       "116         150.0  Cloning vector pMSCV-syn-Gephyrin.FingR-GFP, c...    1   \n",
       "\n",
       "                                   fastq  \n",
       "427  BetaCoV_bat_Yunnan_RmYN02_2019_2.fq  \n",
       "562  BetaCoV_bat_Yunnan_RmYN02_2019_2.fq  \n",
       "571  BetaCoV_bat_Yunnan_RmYN02_2019_2.fq  \n",
       "64   BetaCoV_bat_Yunnan_RmYN02_2019_1.fq  \n",
       "116  BetaCoV_bat_Yunnan_RmYN02_2019_1.fq  "
      ]
     },
     "execution_count": 49,
     "metadata": {},
     "output_type": "execute_result"
    }
   ],
   "source": [
    "cv_df"
   ]
  },
  {
   "cell_type": "code",
   "execution_count": 71,
   "id": "horizontal-tracker",
   "metadata": {},
   "outputs": [],
   "source": [
    "def get_reads(fpath, fname, idx_list):\n",
    "    #havent found a quicker way to extract a specific index\n",
    "    print(f'fpath: {fpath}, fname: {fname}, idx_list: {idx_list}')\n",
    "    counter=0\n",
    "    reads={}\n",
    "    for record in SeqIO.parse(fpath+fname, \"fastq\"):\n",
    "        if counter in idx_list and counter <= max(idx_list):\n",
    "            reads[counter]=record\n",
    "        counter+=1\n",
    "        if counter> max(idx_list):\n",
    "            break\n",
    "    return reads"
   ]
  },
  {
   "cell_type": "code",
   "execution_count": 62,
   "id": "guilty-trouble",
   "metadata": {},
   "outputs": [],
   "source": [
    "run_0=cv_df.loc[cv_df['run'] == 0]"
   ]
  },
  {
   "cell_type": "code",
   "execution_count": 63,
   "id": "nearby-visiting",
   "metadata": {},
   "outputs": [
    {
     "name": "stdout",
     "output_type": "stream",
     "text": [
      "fpath: ../../RmYN02/, fname: BetaCoV_bat_Yunnan_RmYN02_2019_2.fq, idx_list: [18650610, 2185058, 26683341]\n"
     ]
    }
   ],
   "source": [
    "reads=get_reads(DATA_PATH+PROJECT+'/', run_0['fastq'].to_list()[0], run_0['idx'].to_list())"
   ]
  },
  {
   "cell_type": "code",
   "execution_count": 67,
   "id": "congressional-boulder",
   "metadata": {},
   "outputs": [
    {
     "data": {
      "text/html": [
       "<div>\n",
       "<style scoped>\n",
       "    .dataframe tbody tr th:only-of-type {\n",
       "        vertical-align: middle;\n",
       "    }\n",
       "\n",
       "    .dataframe tbody tr th {\n",
       "        vertical-align: top;\n",
       "    }\n",
       "\n",
       "    .dataframe thead th {\n",
       "        text-align: right;\n",
       "    }\n",
       "</style>\n",
       "<table border=\"1\" class=\"dataframe\">\n",
       "  <thead>\n",
       "    <tr style=\"text-align: right;\">\n",
       "      <th></th>\n",
       "      <th>idx</th>\n",
       "      <th>title</th>\n",
       "      <th>accession</th>\n",
       "      <th>hit_id</th>\n",
       "      <th>length</th>\n",
       "      <th>query_length</th>\n",
       "      <th>text_title</th>\n",
       "      <th>run</th>\n",
       "      <th>fastq</th>\n",
       "    </tr>\n",
       "  </thead>\n",
       "  <tbody>\n",
       "    <tr>\n",
       "      <th>427</th>\n",
       "      <td>18650610</td>\n",
       "      <td>gi|1339549110|gb|MG188316.1| Cloning...</td>\n",
       "      <td>NaN</td>\n",
       "      <td>NaN</td>\n",
       "      <td>NaN</td>\n",
       "      <td>NaN</td>\n",
       "      <td>Cloning vector pCA-DEST2430, complete sequence ,</td>\n",
       "      <td>0</td>\n",
       "      <td>BetaCoV_bat_Yunnan_RmYN02_2019_2.fq</td>\n",
       "    </tr>\n",
       "    <tr>\n",
       "      <th>562</th>\n",
       "      <td>2185058</td>\n",
       "      <td>gi|394782697|gb|JX069762.1| Cloning v...</td>\n",
       "      <td>NaN</td>\n",
       "      <td>NaN</td>\n",
       "      <td>NaN</td>\n",
       "      <td>NaN</td>\n",
       "      <td>Cloning vector pFosill-2, complete sequence ,</td>\n",
       "      <td>0</td>\n",
       "      <td>BetaCoV_bat_Yunnan_RmYN02_2019_2.fq</td>\n",
       "    </tr>\n",
       "    <tr>\n",
       "      <th>571</th>\n",
       "      <td>26683341</td>\n",
       "      <td>gi|394782697|gb|JX069762.1| Cloning ...</td>\n",
       "      <td>NaN</td>\n",
       "      <td>NaN</td>\n",
       "      <td>NaN</td>\n",
       "      <td>NaN</td>\n",
       "      <td>Cloning vector pFosill-2, complete sequence ,</td>\n",
       "      <td>0</td>\n",
       "      <td>BetaCoV_bat_Yunnan_RmYN02_2019_2.fq</td>\n",
       "    </tr>\n",
       "  </tbody>\n",
       "</table>\n",
       "</div>"
      ],
      "text/plain": [
       "          idx                                              title accession  \\\n",
       "427  18650610            gi|1339549110|gb|MG188316.1| Cloning...       NaN   \n",
       "562   2185058           gi|394782697|gb|JX069762.1| Cloning v...       NaN   \n",
       "571  26683341            gi|394782697|gb|JX069762.1| Cloning ...       NaN   \n",
       "\n",
       "    hit_id  length  query_length  \\\n",
       "427    NaN     NaN           NaN   \n",
       "562    NaN     NaN           NaN   \n",
       "571    NaN     NaN           NaN   \n",
       "\n",
       "                                           text_title  run  \\\n",
       "427  Cloning vector pCA-DEST2430, complete sequence ,    0   \n",
       "562     Cloning vector pFosill-2, complete sequence ,    0   \n",
       "571     Cloning vector pFosill-2, complete sequence ,    0   \n",
       "\n",
       "                                   fastq  \n",
       "427  BetaCoV_bat_Yunnan_RmYN02_2019_2.fq  \n",
       "562  BetaCoV_bat_Yunnan_RmYN02_2019_2.fq  \n",
       "571  BetaCoV_bat_Yunnan_RmYN02_2019_2.fq  "
      ]
     },
     "execution_count": 67,
     "metadata": {},
     "output_type": "execute_result"
    }
   ],
   "source": [
    "run_0"
   ]
  },
  {
   "cell_type": "code",
   "execution_count": 68,
   "id": "tender-breakdown",
   "metadata": {},
   "outputs": [
    {
     "data": {
      "text/plain": [
       "'ACTAGTATACTAGTATACTAGTATACTAGTATACTAGTATACTAGTATACTAGTATACTAGTATACTAGTAGATCGGAAGAGCGTCGTGTAGGGAAAGAGTGTCCTGTTAGGTGTAGATGTCGGTGGGCGGCGGGGGATTTAAAAGGGGG'"
      ]
     },
     "execution_count": 68,
     "metadata": {},
     "output_type": "execute_result"
    }
   ],
   "source": [
    "str(reads[18650610])"
   ]
  },
  {
   "cell_type": "code",
   "execution_count": 69,
   "id": "speaking-stroke",
   "metadata": {},
   "outputs": [
    {
     "data": {
      "text/plain": [
       "'CATATGTATATATGTACATATGTACATATGTACATATGTACATATATACATATGTACATATGTACATATGTACATATGAGATCGGAAGAGCGTCGTGTAGGGAAAGAGTGTCCTGGTAGGTGTTGTTGTCGGTGGGGGGGGGATCAGTAG'"
      ]
     },
     "execution_count": 69,
     "metadata": {},
     "output_type": "execute_result"
    }
   ],
   "source": [
    "str(reads[2185058])"
   ]
  },
  {
   "cell_type": "code",
   "execution_count": 70,
   "id": "instant-deadline",
   "metadata": {},
   "outputs": [
    {
     "data": {
      "text/plain": [
       "'CATATGTACATATGTACATATGAGATCGGAAGAGCGTCGTGTAGGGAAAGAGTGTCCTGTTAGGTGTTGGTGTGGGTGGGGGGGGGCGGCTTACATAGGGGGGGGGGGGGGGGGGGGGGGGGGGGGGGGGGGGGGGGGGGGGGGGGGGGG'"
      ]
     },
     "execution_count": 70,
     "metadata": {},
     "output_type": "execute_result"
    }
   ],
   "source": [
    "str(reads[26683341])"
   ]
  },
  {
   "cell_type": "code",
   "execution_count": 72,
   "id": "stable-vertex",
   "metadata": {},
   "outputs": [
    {
     "name": "stdout",
     "output_type": "stream",
     "text": [
      "fpath: ../../RmYN02/, fname: BetaCoV_bat_Yunnan_RmYN02_2019_1.fq, idx_list: [15046421, 26860175]\n"
     ]
    }
   ],
   "source": [
    "run_1=cv_df.loc[cv_df['run'] == 1]\n",
    "reads=get_reads(DATA_PATH+PROJECT+'/', run_1['fastq'].to_list()[0], run_1['idx'].to_list())"
   ]
  },
  {
   "cell_type": "code",
   "execution_count": 73,
   "id": "cloudy-senator",
   "metadata": {},
   "outputs": [
    {
     "data": {
      "text/plain": [
       "{15046421: SeqRecord(seq=Seq('ATCTGCTGCTTGCAAACAAAAAAACCACCGCTACCAGCGGGGGTTTGTTTGCCG...CAC'), id='A00821:262:HWNC7DSXX:4:1547:24198:7200', name='A00821:262:HWNC7DSXX:4:1547:24198:7200', description='A00821:262:HWNC7DSXX:4:1547:24198:7200 1:N:0:CTTACTGG+CTAACAGG', dbxrefs=[]),\n",
       " 26860175: SeqRecord(seq=Seq('CGCCTACATACCTCGCTCTGCTAATCCTGTTACCAGTGGCTGCTGCCAGTGGCG...GCT'), id='A00821:262:HWNC7DSXX:4:2316:19660:16626', name='A00821:262:HWNC7DSXX:4:2316:19660:16626', description='A00821:262:HWNC7DSXX:4:2316:19660:16626 1:N:0:CTTACTGG+CTAACAGG', dbxrefs=[])}"
      ]
     },
     "execution_count": 73,
     "metadata": {},
     "output_type": "execute_result"
    }
   ],
   "source": [
    "reads"
   ]
  },
  {
   "cell_type": "code",
   "execution_count": 76,
   "id": "rocky-windsor",
   "metadata": {},
   "outputs": [
    {
     "data": {
      "text/html": [
       "<div>\n",
       "<style scoped>\n",
       "    .dataframe tbody tr th:only-of-type {\n",
       "        vertical-align: middle;\n",
       "    }\n",
       "\n",
       "    .dataframe tbody tr th {\n",
       "        vertical-align: top;\n",
       "    }\n",
       "\n",
       "    .dataframe thead th {\n",
       "        text-align: right;\n",
       "    }\n",
       "</style>\n",
       "<table border=\"1\" class=\"dataframe\">\n",
       "  <thead>\n",
       "    <tr style=\"text-align: right;\">\n",
       "      <th></th>\n",
       "      <th>idx</th>\n",
       "      <th>title</th>\n",
       "      <th>accession</th>\n",
       "      <th>hit_id</th>\n",
       "      <th>length</th>\n",
       "      <th>query_length</th>\n",
       "      <th>text_title</th>\n",
       "      <th>run</th>\n",
       "      <th>fastq</th>\n",
       "    </tr>\n",
       "  </thead>\n",
       "  <tbody>\n",
       "    <tr>\n",
       "      <th>64</th>\n",
       "      <td>15046421</td>\n",
       "      <td>gi|1860248574|gb|MT612432.1| Cloning vector p...</td>\n",
       "      <td>MT612432</td>\n",
       "      <td>gi|1860248574|gb|MT612432.1|</td>\n",
       "      <td>7010.0</td>\n",
       "      <td>150.0</td>\n",
       "      <td>Cloning vector pAAV-EF1A-Gephyrin.FingR-GFP-CC...</td>\n",
       "      <td>1</td>\n",
       "      <td>BetaCoV_bat_Yunnan_RmYN02_2019_1.fq</td>\n",
       "    </tr>\n",
       "    <tr>\n",
       "      <th>116</th>\n",
       "      <td>26860175</td>\n",
       "      <td>gi|1860248578|gb|MT612434.1| Cloning vector p...</td>\n",
       "      <td>MT612434</td>\n",
       "      <td>gi|1860248578|gb|MT612434.1|</td>\n",
       "      <td>7231.0</td>\n",
       "      <td>150.0</td>\n",
       "      <td>Cloning vector pMSCV-syn-Gephyrin.FingR-GFP, c...</td>\n",
       "      <td>1</td>\n",
       "      <td>BetaCoV_bat_Yunnan_RmYN02_2019_1.fq</td>\n",
       "    </tr>\n",
       "  </tbody>\n",
       "</table>\n",
       "</div>"
      ],
      "text/plain": [
       "          idx                                              title  \\\n",
       "64   15046421   gi|1860248574|gb|MT612432.1| Cloning vector p...   \n",
       "116  26860175   gi|1860248578|gb|MT612434.1| Cloning vector p...   \n",
       "\n",
       "                  accession                          hit_id  length  \\\n",
       "64    MT612432                gi|1860248574|gb|MT612432.1|   7010.0   \n",
       "116   MT612434                gi|1860248578|gb|MT612434.1|   7231.0   \n",
       "\n",
       "     query_length                                         text_title  run  \\\n",
       "64          150.0  Cloning vector pAAV-EF1A-Gephyrin.FingR-GFP-CC...    1   \n",
       "116         150.0  Cloning vector pMSCV-syn-Gephyrin.FingR-GFP, c...    1   \n",
       "\n",
       "                                   fastq  \n",
       "64   BetaCoV_bat_Yunnan_RmYN02_2019_1.fq  \n",
       "116  BetaCoV_bat_Yunnan_RmYN02_2019_1.fq  "
      ]
     },
     "execution_count": 76,
     "metadata": {},
     "output_type": "execute_result"
    }
   ],
   "source": [
    "run_1"
   ]
  },
  {
   "cell_type": "code",
   "execution_count": 74,
   "id": "sapphire-baghdad",
   "metadata": {},
   "outputs": [
    {
     "data": {
      "text/plain": [
       "'ATCTGCTGCTTGCAAACAAAAAAACCACCGCTACCAGCGGGGGTTTGTTTGCCGGATCAAGAGCTACCAACTCTTTTTCCGAAGGTAACTGGCTTCAGCAGAGCGCAGATACCAAATACTGTTCTTCTAGTGTAGCCGTAGTTAGGCCAC'"
      ]
     },
     "execution_count": 74,
     "metadata": {},
     "output_type": "execute_result"
    }
   ],
   "source": [
    "str(reads[15046421].seq)"
   ]
  },
  {
   "cell_type": "code",
   "execution_count": 75,
   "id": "qualified-morrison",
   "metadata": {},
   "outputs": [
    {
     "data": {
      "text/plain": [
       "'CGCCTACATACCTCGCTCTGCTAATCCTGTTACCAGTGGCTGCTGCCAGTGGCGATAAGTCGTGTCTTACCGGGTTGGACTCAAGACGATAGTTACCGGATAAGGCGCAGCGGTCGGGCTGAACGGGGGGTTCGTGCACACAGCCCAGCT'"
      ]
     },
     "execution_count": 75,
     "metadata": {},
     "output_type": "execute_result"
    }
   ],
   "source": [
    "str(reads[26860175].seq)"
   ]
  },
  {
   "cell_type": "code",
   "execution_count": null,
   "id": "searching-violin",
   "metadata": {},
   "outputs": [],
   "source": []
  }
 ],
 "metadata": {
  "kernelspec": {
   "display_name": "Python 3",
   "language": "python",
   "name": "python3"
  },
  "language_info": {
   "codemirror_mode": {
    "name": "ipython",
    "version": 3
   },
   "file_extension": ".py",
   "mimetype": "text/x-python",
   "name": "python",
   "nbconvert_exporter": "python",
   "pygments_lexer": "ipython3",
   "version": "3.6.12"
  }
 },
 "nbformat": 4,
 "nbformat_minor": 5
}
